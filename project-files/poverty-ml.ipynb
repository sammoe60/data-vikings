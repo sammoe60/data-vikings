{
 "cells": [
  {
   "attachments": {},
   "cell_type": "markdown",
   "metadata": {},
   "source": [
    "# ETL"
   ]
  },
  {
   "cell_type": "code",
   "execution_count": 31,
   "metadata": {},
   "outputs": [],
   "source": [
    "import requests\n",
    "import json\n",
    "import pandas as pd\n",
    "from bs4 import BeautifulSoup"
   ]
  },
  {
   "attachments": {},
   "cell_type": "markdown",
   "metadata": {},
   "source": [
    "# Poverty API Data"
   ]
  },
  {
   "cell_type": "code",
   "execution_count": 32,
   "metadata": {},
   "outputs": [],
   "source": [
    "response = None\n",
    "# url1 = 'https://api.census.gov/data/timeseries/poverty/saipe?get=NAME,SAEPOVRTALL_PT,SAEPOVRT0_17_PT,SAEMHI_PT,YEAR&for=state:*'\n",
    "# url2 ='https://api.census.gov/data/timeseries/poverty/saipe?get=SAEPOVRTALL_PT,SAEPOVRT0_17_PT,SAEMHI_PT,YEAR&for=us'\n",
    "url1 = 'https://api.census.gov/data/timeseries/poverty/saipe?get=NAME,SAEMHI_MOE,SAEMHI_PT,SAEMHI_UB90,SAEPOV0_17_LB90,SAEPOV0_17_MOE,SAEPOV0_17_PT,SAEPOV0_17_UB90,SAEPOV0_4_LB90,SAEPOV0_4_MOE,SAEPOV0_4_PT,SAEPOV0_4_UB90,SAEPOV5_17R_LB90,SAEPOV5_17R_MOE,SAEPOV5_17R_PT,SAEPOV5_17R_UB90,SAEPOVALL_LB90,SAEPOVALL_MOE,SAEPOVALL_PT,SAEPOVALL_UB90,SAEPOVRT0_17_LB90,SAEPOVRT0_17_MOE,SAEPOVRT0_17_PT,SAEPOVRT0_17_UB90,SAEPOVRT0_4_LB90,SAEPOVRT0_4_MOE,SAEPOVRT0_4_PT,SAEPOVRT0_4_UB90,SAEPOVRT5_17R_LB90,SAEPOVRT5_17R_MOE,SAEPOVRT5_17R_PT,SAEPOVRT5_17R_UB90,SAEPOVRTALL_LB90,SAEPOVRTALL_MOE,SAEPOVRTALL_PT,SAEPOVRTALL_UB90,SAEPOVU_0_17,SAEPOVU_0_4,SAEPOVU_5_17R,SAEPOVU_ALL,YEAR&for=state:*'\n",
    "url2 = 'https://api.census.gov/data/timeseries/poverty/saipe?get=SAEMHI_MOE,SAEMHI_PT,SAEMHI_UB90,SAEPOV0_17_LB90,SAEPOV0_17_MOE,SAEPOV0_17_PT,SAEPOV0_17_UB90,SAEPOV0_4_LB90,SAEPOV0_4_MOE,SAEPOV0_4_PT,SAEPOV0_4_UB90,SAEPOV5_17R_LB90,SAEPOV5_17R_MOE,SAEPOV5_17R_PT,SAEPOV5_17R_UB90,SAEPOVALL_LB90,SAEPOVALL_MOE,SAEPOVALL_PT,SAEPOVALL_UB90,SAEPOVRT0_17_LB90,SAEPOVRT0_17_MOE,SAEPOVRT0_17_PT,SAEPOVRT0_17_UB90,SAEPOVRT0_4_LB90,SAEPOVRT0_4_MOE,SAEPOVRT0_4_PT,SAEPOVRT0_4_UB90,SAEPOVRT5_17R_LB90,SAEPOVRT5_17R_MOE,SAEPOVRT5_17R_PT,SAEPOVRT5_17R_UB90,SAEPOVRTALL_LB90,SAEPOVRTALL_MOE,SAEPOVRTALL_PT,SAEPOVRTALL_UB90,SAEPOVU_0_17,SAEPOVU_0_4,SAEPOVU_5_17R,SAEPOVU_ALL,YEAR&for=us'\n",
    "\n",
    "poverty_response1 = requests.get(url1)\n",
    "poverty_response2 = requests.get(url2)"
   ]
  },
  {
   "cell_type": "code",
   "execution_count": 33,
   "metadata": {},
   "outputs": [],
   "source": [
    "poverty_response_json1 = poverty_response1.json()\n",
    "poverty_response_json2 = poverty_response2.json()"
   ]
  },
  {
   "cell_type": "code",
   "execution_count": 34,
   "metadata": {},
   "outputs": [],
   "source": [
    "poverty_state = pd.DataFrame(poverty_response_json1[1:], columns=poverty_response_json1[0])\n",
    "poverty_nat = pd.DataFrame(poverty_response_json2[1:], columns=poverty_response_json2[0])"
   ]
  },
  {
   "cell_type": "code",
   "execution_count": 35,
   "metadata": {},
   "outputs": [],
   "source": [
    "poverty_state = poverty_state.drop(columns='state')\n",
    "poverty_nat = poverty_nat.drop(columns='us')\n",
    "\n",
    "poverty_state = poverty_state.rename(columns={\"NAME\": \"STATE\"})"
   ]
  },
  {
   "cell_type": "code",
   "execution_count": 36,
   "metadata": {},
   "outputs": [
    {
     "name": "stdout",
     "output_type": "stream",
     "text": [
      "(1479, 41)\n",
      "Index(['STATE', 'SAEMHI_MOE', 'SAEMHI_PT', 'SAEMHI_UB90', 'SAEPOV0_17_LB90',\n",
      "       'SAEPOV0_17_MOE', 'SAEPOV0_17_PT', 'SAEPOV0_17_UB90', 'SAEPOV0_4_LB90',\n",
      "       'SAEPOV0_4_MOE', 'SAEPOV0_4_PT', 'SAEPOV0_4_UB90', 'SAEPOV5_17R_LB90',\n",
      "       'SAEPOV5_17R_MOE', 'SAEPOV5_17R_PT', 'SAEPOV5_17R_UB90',\n",
      "       'SAEPOVALL_LB90', 'SAEPOVALL_MOE', 'SAEPOVALL_PT', 'SAEPOVALL_UB90',\n",
      "       'SAEPOVRT0_17_LB90', 'SAEPOVRT0_17_MOE', 'SAEPOVRT0_17_PT',\n",
      "       'SAEPOVRT0_17_UB90', 'SAEPOVRT0_4_LB90', 'SAEPOVRT0_4_MOE',\n",
      "       'SAEPOVRT0_4_PT', 'SAEPOVRT0_4_UB90', 'SAEPOVRT5_17R_LB90',\n",
      "       'SAEPOVRT5_17R_MOE', 'SAEPOVRT5_17R_PT', 'SAEPOVRT5_17R_UB90',\n",
      "       'SAEPOVRTALL_LB90', 'SAEPOVRTALL_MOE', 'SAEPOVRTALL_PT',\n",
      "       'SAEPOVRTALL_UB90', 'SAEPOVU_0_17', 'SAEPOVU_0_4', 'SAEPOVU_5_17R',\n",
      "       'SAEPOVU_ALL', 'YEAR'],\n",
      "      dtype='object')\n",
      "(29, 40)\n",
      "Index(['SAEMHI_MOE', 'SAEMHI_PT', 'SAEMHI_UB90', 'SAEPOV0_17_LB90',\n",
      "       'SAEPOV0_17_MOE', 'SAEPOV0_17_PT', 'SAEPOV0_17_UB90', 'SAEPOV0_4_LB90',\n",
      "       'SAEPOV0_4_MOE', 'SAEPOV0_4_PT', 'SAEPOV0_4_UB90', 'SAEPOV5_17R_LB90',\n",
      "       'SAEPOV5_17R_MOE', 'SAEPOV5_17R_PT', 'SAEPOV5_17R_UB90',\n",
      "       'SAEPOVALL_LB90', 'SAEPOVALL_MOE', 'SAEPOVALL_PT', 'SAEPOVALL_UB90',\n",
      "       'SAEPOVRT0_17_LB90', 'SAEPOVRT0_17_MOE', 'SAEPOVRT0_17_PT',\n",
      "       'SAEPOVRT0_17_UB90', 'SAEPOVRT0_4_LB90', 'SAEPOVRT0_4_MOE',\n",
      "       'SAEPOVRT0_4_PT', 'SAEPOVRT0_4_UB90', 'SAEPOVRT5_17R_LB90',\n",
      "       'SAEPOVRT5_17R_MOE', 'SAEPOVRT5_17R_PT', 'SAEPOVRT5_17R_UB90',\n",
      "       'SAEPOVRTALL_LB90', 'SAEPOVRTALL_MOE', 'SAEPOVRTALL_PT',\n",
      "       'SAEPOVRTALL_UB90', 'SAEPOVU_0_17', 'SAEPOVU_0_4', 'SAEPOVU_5_17R',\n",
      "       'SAEPOVU_ALL', 'YEAR'],\n",
      "      dtype='object')\n"
     ]
    },
    {
     "data": {
      "text/html": [
       "<div>\n",
       "<style scoped>\n",
       "    .dataframe tbody tr th:only-of-type {\n",
       "        vertical-align: middle;\n",
       "    }\n",
       "\n",
       "    .dataframe tbody tr th {\n",
       "        vertical-align: top;\n",
       "    }\n",
       "\n",
       "    .dataframe thead th {\n",
       "        text-align: right;\n",
       "    }\n",
       "</style>\n",
       "<table border=\"1\" class=\"dataframe\">\n",
       "  <thead>\n",
       "    <tr style=\"text-align: right;\">\n",
       "      <th></th>\n",
       "      <th>STATE</th>\n",
       "      <th>SAEMHI_MOE</th>\n",
       "      <th>SAEMHI_PT</th>\n",
       "      <th>SAEMHI_UB90</th>\n",
       "      <th>SAEPOV0_17_LB90</th>\n",
       "      <th>SAEPOV0_17_MOE</th>\n",
       "      <th>SAEPOV0_17_PT</th>\n",
       "      <th>SAEPOV0_17_UB90</th>\n",
       "      <th>SAEPOV0_4_LB90</th>\n",
       "      <th>SAEPOV0_4_MOE</th>\n",
       "      <th>...</th>\n",
       "      <th>SAEPOVRT5_17R_UB90</th>\n",
       "      <th>SAEPOVRTALL_LB90</th>\n",
       "      <th>SAEPOVRTALL_MOE</th>\n",
       "      <th>SAEPOVRTALL_PT</th>\n",
       "      <th>SAEPOVRTALL_UB90</th>\n",
       "      <th>SAEPOVU_0_17</th>\n",
       "      <th>SAEPOVU_0_4</th>\n",
       "      <th>SAEPOVU_5_17R</th>\n",
       "      <th>SAEPOVU_ALL</th>\n",
       "      <th>YEAR</th>\n",
       "    </tr>\n",
       "  </thead>\n",
       "  <tbody>\n",
       "    <tr>\n",
       "      <th>0</th>\n",
       "      <td>Alabama</td>\n",
       "      <td>1076</td>\n",
       "      <td>22202</td>\n",
       "      <td>23278</td>\n",
       "      <td>243761</td>\n",
       "      <td>14895</td>\n",
       "      <td>258656</td>\n",
       "      <td>273551</td>\n",
       "      <td>66684</td>\n",
       "      <td>8852</td>\n",
       "      <td>...</td>\n",
       "      <td>24.3</td>\n",
       "      <td>17.0</td>\n",
       "      <td>0.65</td>\n",
       "      <td>17.7</td>\n",
       "      <td>18.3</td>\n",
       "      <td>None</td>\n",
       "      <td>None</td>\n",
       "      <td>None</td>\n",
       "      <td>None</td>\n",
       "      <td>1989</td>\n",
       "    </tr>\n",
       "  </tbody>\n",
       "</table>\n",
       "<p>1 rows × 41 columns</p>\n",
       "</div>"
      ],
      "text/plain": [
       "     STATE SAEMHI_MOE SAEMHI_PT SAEMHI_UB90 SAEPOV0_17_LB90 SAEPOV0_17_MOE  \\\n",
       "0  Alabama       1076     22202       23278          243761          14895   \n",
       "\n",
       "  SAEPOV0_17_PT SAEPOV0_17_UB90 SAEPOV0_4_LB90 SAEPOV0_4_MOE  ...  \\\n",
       "0        258656          273551          66684          8852  ...   \n",
       "\n",
       "  SAEPOVRT5_17R_UB90 SAEPOVRTALL_LB90 SAEPOVRTALL_MOE SAEPOVRTALL_PT  \\\n",
       "0               24.3             17.0            0.65           17.7   \n",
       "\n",
       "  SAEPOVRTALL_UB90 SAEPOVU_0_17 SAEPOVU_0_4 SAEPOVU_5_17R SAEPOVU_ALL  YEAR  \n",
       "0             18.3         None        None          None        None  1989  \n",
       "\n",
       "[1 rows x 41 columns]"
      ]
     },
     "metadata": {},
     "output_type": "display_data"
    }
   ],
   "source": [
    "print(poverty_state.shape)\n",
    "print(poverty_state.columns)\n",
    "print(poverty_nat.shape)\n",
    "print(poverty_nat.columns)\n",
    "display(poverty_state.head(1))"
   ]
  },
  {
   "cell_type": "code",
   "execution_count": 37,
   "metadata": {},
   "outputs": [],
   "source": [
    "poverty_state = poverty_state.astype({\n",
    "    'SAEMHI_MOE': float, 'SAEMHI_PT': float, 'SAEMHI_UB90': float, 'SAEPOV0_17_LB90': float,\n",
    "    'SAEPOV0_17_MOE': float, 'SAEPOV0_17_PT': float, 'SAEPOV0_17_UB90': float, 'SAEPOV0_4_LB90': float,\n",
    "    'SAEPOV0_4_MOE': float, 'SAEPOV0_4_PT': float, 'SAEPOV0_4_UB90': float, 'SAEPOV5_17R_LB90': float,\n",
    "    'SAEPOV5_17R_MOE': float, 'SAEPOV5_17R_PT': float, 'SAEPOV5_17R_UB90': float,\n",
    "    'SAEPOVALL_LB90': float, 'SAEPOVALL_MOE': float, 'SAEPOVALL_PT': float, 'SAEPOVALL_UB90': float,\n",
    "    'SAEPOVRT0_17_LB90': float, 'SAEPOVRT0_17_MOE': float, 'SAEPOVRT0_17_PT': float,\n",
    "    'SAEPOVRT0_17_UB90': float, 'SAEPOVRT0_4_LB90': float, 'SAEPOVRT0_4_MOE': float,\n",
    "    'SAEPOVRT0_4_PT': float, 'SAEPOVRT0_4_UB90': float, 'SAEPOVRT5_17R_LB90': float,\n",
    "    'SAEPOVRT5_17R_MOE': float, 'SAEPOVRT5_17R_PT': float, 'SAEPOVRT5_17R_UB90': float,\n",
    "    'SAEPOVRTALL_LB90': float, 'SAEPOVRTALL_MOE': float, 'SAEPOVRTALL_PT': float,\n",
    "    'SAEPOVRTALL_UB90': float, 'SAEPOVU_0_17': float, 'SAEPOVU_0_4': float, 'SAEPOVU_5_17R': float,\n",
    "    'SAEPOVU_ALL': float, 'YEAR': int\n",
    "    })\n",
    "poverty_nat = poverty_nat.astype({\n",
    "    'SAEMHI_MOE': float, 'SAEMHI_PT': float, 'SAEMHI_UB90': float, 'SAEPOV0_17_LB90': float,\n",
    "    'SAEPOV0_17_MOE': float, 'SAEPOV0_17_PT': float, 'SAEPOV0_17_UB90': float, 'SAEPOV0_4_LB90': float,\n",
    "    'SAEPOV0_4_MOE': float, 'SAEPOV0_4_PT': float, 'SAEPOV0_4_UB90': float, 'SAEPOV5_17R_LB90': float,\n",
    "    'SAEPOV5_17R_MOE': float, 'SAEPOV5_17R_PT': float, 'SAEPOV5_17R_UB90': float,\n",
    "    'SAEPOVALL_LB90': float, 'SAEPOVALL_MOE': float, 'SAEPOVALL_PT': float, 'SAEPOVALL_UB90': float,\n",
    "    'SAEPOVRT0_17_LB90': float, 'SAEPOVRT0_17_MOE': float, 'SAEPOVRT0_17_PT': float,\n",
    "    'SAEPOVRT0_17_UB90': float, 'SAEPOVRT0_4_LB90': float, 'SAEPOVRT0_4_MOE': float,\n",
    "    'SAEPOVRT0_4_PT': float, 'SAEPOVRT0_4_UB90': float, 'SAEPOVRT5_17R_LB90': float,\n",
    "    'SAEPOVRT5_17R_MOE': float, 'SAEPOVRT5_17R_PT': float, 'SAEPOVRT5_17R_UB90': float,\n",
    "    'SAEPOVRTALL_LB90': float, 'SAEPOVRTALL_MOE': float, 'SAEPOVRTALL_PT': float,\n",
    "    'SAEPOVRTALL_UB90': float, 'SAEPOVU_0_17': float, 'SAEPOVU_0_4': float, 'SAEPOVU_5_17R': float,\n",
    "    'SAEPOVU_ALL': float, 'YEAR': int\n",
    "    })"
   ]
  },
  {
   "cell_type": "code",
   "execution_count": 38,
   "metadata": {},
   "outputs": [],
   "source": [
    "poverty_state = poverty_state[poverty_state['STATE'] != 'Guam'] \n",
    "poverty_state = poverty_state[poverty_state['STATE'] != 'Puerto Rico'] \n",
    "poverty_state = poverty_state[poverty_state['STATE'] != 'Virgin Islands']\n",
    "poverty_state = poverty_state[poverty_state['STATE'] != 'District of Columbia']"
   ]
  },
  {
   "attachments": {},
   "cell_type": "markdown",
   "metadata": {},
   "source": [
    "# National Salary Data"
   ]
  },
  {
   "cell_type": "code",
   "execution_count": 39,
   "metadata": {},
   "outputs": [],
   "source": [
    "national2018_df = pd.read_excel(\"../data/national_M2018_dl.xlsx\")\n",
    "national2019_df = pd.read_excel(\"../data/national_M2019_dl.xlsx\")\n",
    "national2020_df = pd.read_excel(\"../data/national_M2020_dl.xlsx\")\n",
    "national2021_df = pd.read_excel(\"../data/national_M2021_dl.xlsx\")\n",
    "national2017_df = pd.read_excel(\"../data/national_M2017_dl.xlsx\")\n",
    "national2017_df['Year'] = 2017\n",
    "national2018_df['Year'] = 2018\n",
    "national2019_df['Year'] = 2019\n",
    "national2020_df['Year'] = 2020\n",
    "national2021_df['Year'] = 2021"
   ]
  },
  {
   "cell_type": "code",
   "execution_count": 40,
   "metadata": {},
   "outputs": [],
   "source": [
    "def upper_columns(data):\n",
    "    columns = data\n",
    "    myList = []\n",
    "    for name in columns:\n",
    "        myList.append(name.upper())\n",
    "    data.columns = myList"
   ]
  },
  {
   "cell_type": "code",
   "execution_count": 41,
   "metadata": {},
   "outputs": [],
   "source": [
    "upper_columns(national2017_df)\n",
    "upper_columns(national2018_df)\n",
    "upper_columns(national2019_df)\n",
    "upper_columns(national2020_df)\n",
    "upper_columns(national2021_df)"
   ]
  },
  {
   "cell_type": "code",
   "execution_count": 42,
   "metadata": {},
   "outputs": [],
   "source": [
    "national2019_df = national2019_df.rename(columns={'O_GROUP': 'OCC_GROUP'})\n",
    "national2020_df = national2020_df.rename(columns={'O_GROUP': 'OCC_GROUP'})\n",
    "national2021_df = national2021_df.rename(columns={'O_GROUP': 'OCC_GROUP'})"
   ]
  },
  {
   "cell_type": "code",
   "execution_count": 43,
   "metadata": {},
   "outputs": [],
   "source": [
    "national2017_ordered = national2017_df[[\n",
    "    'OCC_CODE', 'OCC_TITLE', 'OCC_GROUP', 'TOT_EMP', 'EMP_PRSE', 'H_MEAN',\n",
    "    'A_MEAN', 'MEAN_PRSE', 'H_PCT10', 'H_PCT25', 'H_MEDIAN', 'H_PCT75',\n",
    "    'H_PCT90', 'A_PCT10', 'A_PCT25', 'A_MEDIAN', 'A_PCT75', 'A_PCT90',\n",
    "    'YEAR']]\n",
    "national2018_ordered = national2018_df[[\n",
    "    'OCC_CODE', 'OCC_TITLE', 'OCC_GROUP', 'TOT_EMP', 'EMP_PRSE', 'H_MEAN',\n",
    "    'A_MEAN', 'MEAN_PRSE', 'H_PCT10', 'H_PCT25', 'H_MEDIAN', 'H_PCT75',\n",
    "    'H_PCT90', 'A_PCT10', 'A_PCT25', 'A_MEDIAN', 'A_PCT75', 'A_PCT90',\n",
    "    'YEAR']]\n",
    "national2019_ordered = national2019_df[[\n",
    "    'OCC_CODE', 'OCC_TITLE', 'OCC_GROUP', 'TOT_EMP', 'EMP_PRSE', 'H_MEAN',\n",
    "    'A_MEAN', 'MEAN_PRSE', 'H_PCT10', 'H_PCT25', 'H_MEDIAN', 'H_PCT75',\n",
    "    'H_PCT90', 'A_PCT10', 'A_PCT25', 'A_MEDIAN', 'A_PCT75', 'A_PCT90',\n",
    "    'YEAR']]\n",
    "national2020_ordered = national2020_df[[\n",
    "    'OCC_CODE', 'OCC_TITLE', 'OCC_GROUP', 'TOT_EMP', 'EMP_PRSE', 'H_MEAN',\n",
    "    'A_MEAN', 'MEAN_PRSE', 'H_PCT10', 'H_PCT25', 'H_MEDIAN', 'H_PCT75',\n",
    "    'H_PCT90', 'A_PCT10', 'A_PCT25', 'A_MEDIAN', 'A_PCT75', 'A_PCT90',\n",
    "    'YEAR']]\n",
    "national2021_ordered = national2021_df[[\n",
    "    'OCC_CODE', 'OCC_TITLE', 'OCC_GROUP', 'TOT_EMP', 'EMP_PRSE', 'H_MEAN',\n",
    "    'A_MEAN', 'MEAN_PRSE', 'H_PCT10', 'H_PCT25', 'H_MEDIAN', 'H_PCT75',\n",
    "    'H_PCT90', 'A_PCT10', 'A_PCT25', 'A_MEDIAN', 'A_PCT75', 'A_PCT90',\n",
    "    'YEAR']]"
   ]
  },
  {
   "cell_type": "code",
   "execution_count": 44,
   "metadata": {},
   "outputs": [
    {
     "data": {
      "text/plain": [
       "Index(['OCC_CODE', 'OCC_TITLE', 'OCC_GROUP', 'TOT_EMP', 'EMP_PRSE', 'H_MEAN',\n",
       "       'A_MEAN', 'MEAN_PRSE', 'H_PCT10', 'H_PCT25', 'H_MEDIAN', 'H_PCT75',\n",
       "       'H_PCT90', 'A_PCT10', 'A_PCT25', 'A_MEDIAN', 'A_PCT75', 'A_PCT90',\n",
       "       'YEAR'],\n",
       "      dtype='object')"
      ]
     },
     "execution_count": 44,
     "metadata": {},
     "output_type": "execute_result"
    }
   ],
   "source": [
    "national_df = pd.concat([national2017_ordered, national2018_ordered, national2019_ordered, national2020_ordered, national2021_ordered], axis=0)\n",
    "national_df.shape\n",
    "national_df.columns"
   ]
  },
  {
   "cell_type": "code",
   "execution_count": 45,
   "metadata": {},
   "outputs": [
    {
     "data": {
      "text/html": [
       "<div>\n",
       "<style scoped>\n",
       "    .dataframe tbody tr th:only-of-type {\n",
       "        vertical-align: middle;\n",
       "    }\n",
       "\n",
       "    .dataframe tbody tr th {\n",
       "        vertical-align: top;\n",
       "    }\n",
       "\n",
       "    .dataframe thead th {\n",
       "        text-align: right;\n",
       "    }\n",
       "</style>\n",
       "<table border=\"1\" class=\"dataframe\">\n",
       "  <thead>\n",
       "    <tr style=\"text-align: right;\">\n",
       "      <th></th>\n",
       "      <th>OCC_CODE</th>\n",
       "      <th>OCC_TITLE</th>\n",
       "      <th>OCC_GROUP</th>\n",
       "      <th>TOT_EMP</th>\n",
       "      <th>EMP_PRSE</th>\n",
       "      <th>H_MEAN</th>\n",
       "      <th>A_MEAN</th>\n",
       "      <th>MEAN_PRSE</th>\n",
       "      <th>H_PCT10</th>\n",
       "      <th>H_PCT25</th>\n",
       "      <th>H_MEDIAN</th>\n",
       "      <th>H_PCT75</th>\n",
       "      <th>H_PCT90</th>\n",
       "      <th>A_PCT10</th>\n",
       "      <th>A_PCT25</th>\n",
       "      <th>A_MEDIAN</th>\n",
       "      <th>A_PCT75</th>\n",
       "      <th>A_PCT90</th>\n",
       "      <th>YEAR</th>\n",
       "    </tr>\n",
       "  </thead>\n",
       "  <tbody>\n",
       "    <tr>\n",
       "      <th>0</th>\n",
       "      <td>00-0000</td>\n",
       "      <td>All Occupations</td>\n",
       "      <td>total</td>\n",
       "      <td>142549250</td>\n",
       "      <td>0.1</td>\n",
       "      <td>24.34</td>\n",
       "      <td>50620</td>\n",
       "      <td>0.1</td>\n",
       "      <td>9.6</td>\n",
       "      <td>11.91</td>\n",
       "      <td>18.12</td>\n",
       "      <td>29.38</td>\n",
       "      <td>46.23</td>\n",
       "      <td>19970</td>\n",
       "      <td>24770</td>\n",
       "      <td>37690</td>\n",
       "      <td>61110</td>\n",
       "      <td>96150</td>\n",
       "      <td>2017</td>\n",
       "    </tr>\n",
       "  </tbody>\n",
       "</table>\n",
       "</div>"
      ],
      "text/plain": [
       "  OCC_CODE        OCC_TITLE OCC_GROUP    TOT_EMP EMP_PRSE H_MEAN A_MEAN  \\\n",
       "0  00-0000  All Occupations     total  142549250      0.1  24.34  50620   \n",
       "\n",
       "  MEAN_PRSE H_PCT10 H_PCT25 H_MEDIAN H_PCT75 H_PCT90 A_PCT10 A_PCT25 A_MEDIAN  \\\n",
       "0       0.1     9.6   11.91    18.12   29.38   46.23   19970   24770    37690   \n",
       "\n",
       "  A_PCT75 A_PCT90  YEAR  \n",
       "0   61110   96150  2017  "
      ]
     },
     "execution_count": 45,
     "metadata": {},
     "output_type": "execute_result"
    }
   ],
   "source": [
    "cols = list(national_df.columns)\n",
    "for col in cols: \n",
    "    national_df = national_df[national_df[col] != '#']\n",
    "    national_df = national_df[national_df[col] != '*']\n",
    "    national_df = national_df[national_df[col] != '**']\n",
    "national_df.head(1)"
   ]
  },
  {
   "cell_type": "code",
   "execution_count": 46,
   "metadata": {},
   "outputs": [
    {
     "name": "stdout",
     "output_type": "stream",
     "text": [
      "OCC_CODE      object\n",
      "OCC_TITLE     object\n",
      "OCC_GROUP     object\n",
      "TOT_EMP        int32\n",
      "EMP_PRSE     float64\n",
      "H_MEAN       float64\n",
      "A_MEAN       float64\n",
      "MEAN_PRSE    float64\n",
      "H_PCT10      float64\n",
      "H_PCT25      float64\n",
      "H_MEDIAN     float64\n",
      "H_PCT75      float64\n",
      "H_PCT90      float64\n",
      "A_PCT10      float64\n",
      "A_PCT25      float64\n",
      "A_MEDIAN     float64\n",
      "A_PCT75      float64\n",
      "A_PCT90      float64\n",
      "YEAR           int32\n",
      "dtype: object\n"
     ]
    }
   ],
   "source": [
    "national_df = national_df.astype({'TOT_EMP': int, 'EMP_PRSE': float, 'H_MEAN': float,\n",
    "       'A_MEAN': float, 'MEAN_PRSE': float, 'H_PCT10': float, 'H_PCT25': float, 'H_MEDIAN': float, 'H_PCT75': float,\n",
    "       'H_PCT90': float, 'A_PCT10': float, 'A_PCT25': float, 'A_MEDIAN': float, 'A_PCT75': float, 'A_PCT90': float,\n",
    "       'YEAR': int})\n",
    "print(national_df.dtypes)"
   ]
  },
  {
   "attachments": {},
   "cell_type": "markdown",
   "metadata": {},
   "source": [
    "# State Salary Data"
   ]
  },
  {
   "cell_type": "code",
   "execution_count": 47,
   "metadata": {},
   "outputs": [],
   "source": [
    "state2018_df = pd.read_excel(\"../data/state_M2018_dl.xlsx\")\n",
    "state2019_df = pd.read_excel(\"../data/state_M2019_dl.xlsx\")\n",
    "state2020_df = pd.read_excel(\"../data/state_M2020_dl.xlsx\")\n",
    "state2021_df = pd.read_excel(\"../data/state_M2021_dl.xlsx\")\n",
    "state2017_df = pd.read_excel(\"../data/state_M2017_dl.xlsx\")\n",
    "state2017_df['Year'] = 2017\n",
    "state2018_df['Year'] = 2018\n",
    "state2019_df['Year'] = 2019\n",
    "state2020_df['Year'] = 2020\n",
    "state2021_df['Year'] = 2021"
   ]
  },
  {
   "cell_type": "code",
   "execution_count": 48,
   "metadata": {},
   "outputs": [],
   "source": [
    "upper_columns(state2017_df)\n",
    "upper_columns(state2018_df)\n",
    "upper_columns(state2019_df)\n",
    "upper_columns(state2020_df)\n",
    "upper_columns(state2021_df)"
   ]
  },
  {
   "cell_type": "code",
   "execution_count": 49,
   "metadata": {},
   "outputs": [],
   "source": [
    "state2019_df = state2019_df.rename(columns={'AREA_TITLE': 'STATE'})\n",
    "state2020_df = state2020_df.rename(columns={'AREA_TITLE': 'STATE'})\n",
    "state2021_df = state2021_df.rename(columns={'AREA_TITLE': 'STATE'})\n",
    "\n",
    "state2019_df = state2019_df.rename(columns={'O_GROUP': 'OCC_GROUP'})\n",
    "state2020_df = state2020_df.rename(columns={'O_GROUP': 'OCC_GROUP'})\n",
    "state2021_df = state2021_df.rename(columns={'O_GROUP': 'OCC_GROUP'})\n",
    "\n",
    "state2017_df = state2017_df.rename(columns={'LOC_Q': 'LOC_QUOTIENT'})\n",
    "state2018_df = state2018_df.rename(columns={'LOC_Q': 'LOC_QUOTIENT'})"
   ]
  },
  {
   "cell_type": "code",
   "execution_count": 50,
   "metadata": {},
   "outputs": [
    {
     "name": "stdout",
     "output_type": "stream",
     "text": [
      "Index(['AREA', 'ST', 'STATE', 'OCC_CODE', 'OCC_TITLE', 'OCC_GROUP', 'TOT_EMP',\n",
      "       'EMP_PRSE', 'JOBS_1000', 'LOC_QUOTIENT', 'H_MEAN', 'A_MEAN',\n",
      "       'MEAN_PRSE', 'H_PCT10', 'H_PCT25', 'H_MEDIAN', 'H_PCT75', 'H_PCT90',\n",
      "       'A_PCT10', 'A_PCT25', 'A_MEDIAN', 'A_PCT75', 'A_PCT90', 'ANNUAL',\n",
      "       'HOURLY', 'YEAR'],\n",
      "      dtype='object')\n"
     ]
    }
   ],
   "source": [
    "print(state2017_df.columns)"
   ]
  },
  {
   "cell_type": "code",
   "execution_count": 51,
   "metadata": {},
   "outputs": [],
   "source": [
    "state2017_ordered = state2017_df[[\n",
    "    'AREA', 'STATE', 'OCC_CODE', 'OCC_TITLE', 'OCC_GROUP', 'TOT_EMP',\n",
    "    'EMP_PRSE', 'JOBS_1000', 'LOC_QUOTIENT', 'H_MEAN', 'A_MEAN', 'MEAN_PRSE',\n",
    "    'H_PCT10', 'H_PCT25', 'H_MEDIAN', 'H_PCT75', 'H_PCT90', 'A_PCT10',\n",
    "    'A_PCT25', 'A_MEDIAN', 'A_PCT75', 'A_PCT90', 'YEAR']]\n",
    "state2018_ordered = state2018_df[[\n",
    "    'AREA', 'STATE', 'OCC_CODE', 'OCC_TITLE', 'OCC_GROUP', 'TOT_EMP',\n",
    "    'EMP_PRSE', 'JOBS_1000', 'LOC_QUOTIENT', 'H_MEAN', 'A_MEAN', 'MEAN_PRSE',\n",
    "    'H_PCT10', 'H_PCT25', 'H_MEDIAN', 'H_PCT75', 'H_PCT90', 'A_PCT10',\n",
    "    'A_PCT25', 'A_MEDIAN', 'A_PCT75', 'A_PCT90', 'YEAR']]\n",
    "state2019_ordered = state2019_df[[\n",
    "    'AREA', 'STATE', 'OCC_CODE', 'OCC_TITLE', 'OCC_GROUP', 'TOT_EMP',\n",
    "    'EMP_PRSE', 'JOBS_1000', 'LOC_QUOTIENT', 'H_MEAN', 'A_MEAN', 'MEAN_PRSE',\n",
    "    'H_PCT10', 'H_PCT25', 'H_MEDIAN', 'H_PCT75', 'H_PCT90', 'A_PCT10',\n",
    "    'A_PCT25', 'A_MEDIAN', 'A_PCT75', 'A_PCT90', 'YEAR']]\n",
    "state2020_ordered = state2020_df[[\n",
    "    'AREA', 'STATE', 'OCC_CODE', 'OCC_TITLE', 'OCC_GROUP', 'TOT_EMP',\n",
    "    'EMP_PRSE', 'JOBS_1000', 'LOC_QUOTIENT', 'H_MEAN', 'A_MEAN', 'MEAN_PRSE',\n",
    "    'H_PCT10', 'H_PCT25', 'H_MEDIAN', 'H_PCT75', 'H_PCT90', 'A_PCT10',\n",
    "    'A_PCT25', 'A_MEDIAN', 'A_PCT75', 'A_PCT90', 'YEAR']]\n",
    "state2021_ordered = state2021_df[[\n",
    "    'AREA', 'STATE', 'OCC_CODE', 'OCC_TITLE', 'OCC_GROUP', 'TOT_EMP',\n",
    "    'EMP_PRSE', 'JOBS_1000', 'LOC_QUOTIENT', 'H_MEAN', 'A_MEAN', 'MEAN_PRSE',\n",
    "    'H_PCT10', 'H_PCT25', 'H_MEDIAN', 'H_PCT75', 'H_PCT90', 'A_PCT10',\n",
    "    'A_PCT25', 'A_MEDIAN', 'A_PCT75', 'A_PCT90', 'YEAR']]"
   ]
  },
  {
   "cell_type": "code",
   "execution_count": 52,
   "metadata": {},
   "outputs": [
    {
     "data": {
      "text/plain": [
       "(183936, 23)"
      ]
     },
     "execution_count": 52,
     "metadata": {},
     "output_type": "execute_result"
    }
   ],
   "source": [
    "state_df = pd.concat([state2017_ordered, state2018_ordered, state2019_ordered, state2020_ordered, state2021_ordered], axis=0)\n",
    "state_df.shape"
   ]
  },
  {
   "cell_type": "code",
   "execution_count": 53,
   "metadata": {},
   "outputs": [
    {
     "data": {
      "text/plain": [
       "(176252, 23)"
      ]
     },
     "execution_count": 53,
     "metadata": {},
     "output_type": "execute_result"
    }
   ],
   "source": [
    "state_df = state_df[state_df['STATE'] != 'Guam'] \n",
    "state_df = state_df[state_df['STATE'] != 'Puerto Rico'] \n",
    "state_df = state_df[state_df['STATE'] != 'Virgin Islands']\n",
    "state_df = state_df[state_df['STATE'] != 'District of Columbia']\n",
    "state_df.shape"
   ]
  },
  {
   "cell_type": "code",
   "execution_count": 54,
   "metadata": {},
   "outputs": [
    {
     "name": "stdout",
     "output_type": "stream",
     "text": [
      "Index(['AREA', 'STATE', 'OCC_CODE', 'OCC_TITLE', 'OCC_GROUP', 'TOT_EMP',\n",
      "       'EMP_PRSE', 'JOBS_1000', 'LOC_QUOTIENT', 'H_MEAN', 'A_MEAN',\n",
      "       'MEAN_PRSE', 'H_PCT10', 'H_PCT25', 'H_MEDIAN', 'H_PCT75', 'H_PCT90',\n",
      "       'A_PCT10', 'A_PCT25', 'A_MEDIAN', 'A_PCT75', 'A_PCT90', 'YEAR'],\n",
      "      dtype='object')\n"
     ]
    },
    {
     "data": {
      "text/html": [
       "<div>\n",
       "<style scoped>\n",
       "    .dataframe tbody tr th:only-of-type {\n",
       "        vertical-align: middle;\n",
       "    }\n",
       "\n",
       "    .dataframe tbody tr th {\n",
       "        vertical-align: top;\n",
       "    }\n",
       "\n",
       "    .dataframe thead th {\n",
       "        text-align: right;\n",
       "    }\n",
       "</style>\n",
       "<table border=\"1\" class=\"dataframe\">\n",
       "  <thead>\n",
       "    <tr style=\"text-align: right;\">\n",
       "      <th></th>\n",
       "      <th>AREA</th>\n",
       "      <th>STATE</th>\n",
       "      <th>OCC_CODE</th>\n",
       "      <th>OCC_TITLE</th>\n",
       "      <th>OCC_GROUP</th>\n",
       "      <th>TOT_EMP</th>\n",
       "      <th>EMP_PRSE</th>\n",
       "      <th>JOBS_1000</th>\n",
       "      <th>LOC_QUOTIENT</th>\n",
       "      <th>H_MEAN</th>\n",
       "      <th>...</th>\n",
       "      <th>H_PCT25</th>\n",
       "      <th>H_MEDIAN</th>\n",
       "      <th>H_PCT75</th>\n",
       "      <th>H_PCT90</th>\n",
       "      <th>A_PCT10</th>\n",
       "      <th>A_PCT25</th>\n",
       "      <th>A_MEDIAN</th>\n",
       "      <th>A_PCT75</th>\n",
       "      <th>A_PCT90</th>\n",
       "      <th>YEAR</th>\n",
       "    </tr>\n",
       "  </thead>\n",
       "  <tbody>\n",
       "    <tr>\n",
       "      <th>0</th>\n",
       "      <td>1</td>\n",
       "      <td>Alabama</td>\n",
       "      <td>00-0000</td>\n",
       "      <td>All Occupations</td>\n",
       "      <td>total</td>\n",
       "      <td>1922570</td>\n",
       "      <td>0.4</td>\n",
       "      <td>1000</td>\n",
       "      <td>1</td>\n",
       "      <td>20.76</td>\n",
       "      <td>...</td>\n",
       "      <td>10.45</td>\n",
       "      <td>15.77</td>\n",
       "      <td>25.01</td>\n",
       "      <td>37.83</td>\n",
       "      <td>17770</td>\n",
       "      <td>21740</td>\n",
       "      <td>32800</td>\n",
       "      <td>52020</td>\n",
       "      <td>78690</td>\n",
       "      <td>2017</td>\n",
       "    </tr>\n",
       "  </tbody>\n",
       "</table>\n",
       "<p>1 rows × 23 columns</p>\n",
       "</div>"
      ],
      "text/plain": [
       "   AREA    STATE OCC_CODE        OCC_TITLE OCC_GROUP  TOT_EMP EMP_PRSE  \\\n",
       "0     1  Alabama  00-0000  All Occupations     total  1922570      0.4   \n",
       "\n",
       "  JOBS_1000 LOC_QUOTIENT H_MEAN  ... H_PCT25 H_MEDIAN H_PCT75 H_PCT90 A_PCT10  \\\n",
       "0      1000            1  20.76  ...   10.45    15.77   25.01   37.83   17770   \n",
       "\n",
       "  A_PCT25 A_MEDIAN A_PCT75 A_PCT90  YEAR  \n",
       "0   21740    32800   52020   78690  2017  \n",
       "\n",
       "[1 rows x 23 columns]"
      ]
     },
     "execution_count": 54,
     "metadata": {},
     "output_type": "execute_result"
    }
   ],
   "source": [
    "cols = list(state_df.columns)\n",
    "for col in cols:\n",
    "    state_df = state_df[state_df[col] != '#']\n",
    "    state_df = state_df[state_df[col] != '*']\n",
    "    state_df = state_df[state_df[col] != '**']\n",
    "print(state_df.columns)\n",
    "state_df.head(1)"
   ]
  },
  {
   "cell_type": "code",
   "execution_count": 55,
   "metadata": {},
   "outputs": [
    {
     "name": "stdout",
     "output_type": "stream",
     "text": [
      "AREA              int64\n",
      "STATE            object\n",
      "OCC_CODE         object\n",
      "OCC_TITLE        object\n",
      "OCC_GROUP        object\n",
      "TOT_EMP           int32\n",
      "EMP_PRSE        float64\n",
      "JOBS_1000       float64\n",
      "LOC_QUOTIENT    float64\n",
      "H_MEAN          float64\n",
      "A_MEAN          float64\n",
      "MEAN_PRSE       float64\n",
      "H_PCT10         float64\n",
      "H_PCT25         float64\n",
      "H_MEDIAN        float64\n",
      "H_PCT75         float64\n",
      "H_PCT90         float64\n",
      "A_PCT10         float64\n",
      "A_PCT25         float64\n",
      "A_MEDIAN        float64\n",
      "A_PCT75         float64\n",
      "A_PCT90         float64\n",
      "YEAR              int32\n",
      "dtype: object\n"
     ]
    }
   ],
   "source": [
    "state_df = state_df.astype({'TOT_EMP': int, 'EMP_PRSE': float, 'JOBS_1000': float, 'LOC_QUOTIENT': float, 'H_MEAN': float,\n",
    "       'A_MEAN': float, 'MEAN_PRSE': float, 'H_PCT10': float, 'H_PCT25': float, 'H_MEDIAN': float, 'H_PCT75': float,\n",
    "       'H_PCT90': float, 'A_PCT10': float, 'A_PCT25': float, 'A_MEDIAN': float, 'A_PCT75': float, 'A_PCT90': float,\n",
    "       'YEAR': int})\n",
    "print(state_df.dtypes)"
   ]
  },
  {
   "cell_type": "code",
   "execution_count": 56,
   "metadata": {},
   "outputs": [],
   "source": [
    "poverty_nat = poverty_nat.dropna()\n",
    "poverty_state = poverty_state.dropna()"
   ]
  },
  {
   "cell_type": "code",
   "execution_count": 57,
   "metadata": {},
   "outputs": [
    {
     "name": "stdout",
     "output_type": "stream",
     "text": [
      "SAEMHI_MOE            0\n",
      "SAEMHI_PT             0\n",
      "SAEMHI_UB90           0\n",
      "SAEPOV0_17_LB90       0\n",
      "SAEPOV0_17_MOE        0\n",
      "SAEPOV0_17_PT         0\n",
      "SAEPOV0_17_UB90       0\n",
      "SAEPOV0_4_LB90        0\n",
      "SAEPOV0_4_MOE         0\n",
      "SAEPOV0_4_PT          0\n",
      "SAEPOV0_4_UB90        0\n",
      "SAEPOV5_17R_LB90      0\n",
      "SAEPOV5_17R_MOE       0\n",
      "SAEPOV5_17R_PT        0\n",
      "SAEPOV5_17R_UB90      0\n",
      "SAEPOVALL_LB90        0\n",
      "SAEPOVALL_MOE         0\n",
      "SAEPOVALL_PT          0\n",
      "SAEPOVALL_UB90        0\n",
      "SAEPOVRT0_17_LB90     0\n",
      "SAEPOVRT0_17_MOE      0\n",
      "SAEPOVRT0_17_PT       0\n",
      "SAEPOVRT0_17_UB90     0\n",
      "SAEPOVRT0_4_LB90      0\n",
      "SAEPOVRT0_4_MOE       0\n",
      "SAEPOVRT0_4_PT        0\n",
      "SAEPOVRT0_4_UB90      0\n",
      "SAEPOVRT5_17R_LB90    0\n",
      "SAEPOVRT5_17R_MOE     0\n",
      "SAEPOVRT5_17R_PT      0\n",
      "SAEPOVRT5_17R_UB90    0\n",
      "SAEPOVRTALL_LB90      0\n",
      "SAEPOVRTALL_MOE       0\n",
      "SAEPOVRTALL_PT        0\n",
      "SAEPOVRTALL_UB90      0\n",
      "SAEPOVU_0_17          0\n",
      "SAEPOVU_0_4           0\n",
      "SAEPOVU_5_17R         0\n",
      "SAEPOVU_ALL           0\n",
      "YEAR                  0\n",
      "dtype: int64\n",
      "STATE                 0\n",
      "SAEMHI_MOE            0\n",
      "SAEMHI_PT             0\n",
      "SAEMHI_UB90           0\n",
      "SAEPOV0_17_LB90       0\n",
      "SAEPOV0_17_MOE        0\n",
      "SAEPOV0_17_PT         0\n",
      "SAEPOV0_17_UB90       0\n",
      "SAEPOV0_4_LB90        0\n",
      "SAEPOV0_4_MOE         0\n",
      "SAEPOV0_4_PT          0\n",
      "SAEPOV0_4_UB90        0\n",
      "SAEPOV5_17R_LB90      0\n",
      "SAEPOV5_17R_MOE       0\n",
      "SAEPOV5_17R_PT        0\n",
      "SAEPOV5_17R_UB90      0\n",
      "SAEPOVALL_LB90        0\n",
      "SAEPOVALL_MOE         0\n",
      "SAEPOVALL_PT          0\n",
      "SAEPOVALL_UB90        0\n",
      "SAEPOVRT0_17_LB90     0\n",
      "SAEPOVRT0_17_MOE      0\n",
      "SAEPOVRT0_17_PT       0\n",
      "SAEPOVRT0_17_UB90     0\n",
      "SAEPOVRT0_4_LB90      0\n",
      "SAEPOVRT0_4_MOE       0\n",
      "SAEPOVRT0_4_PT        0\n",
      "SAEPOVRT0_4_UB90      0\n",
      "SAEPOVRT5_17R_LB90    0\n",
      "SAEPOVRT5_17R_MOE     0\n",
      "SAEPOVRT5_17R_PT      0\n",
      "SAEPOVRT5_17R_UB90    0\n",
      "SAEPOVRTALL_LB90      0\n",
      "SAEPOVRTALL_MOE       0\n",
      "SAEPOVRTALL_PT        0\n",
      "SAEPOVRTALL_UB90      0\n",
      "SAEPOVU_0_17          0\n",
      "SAEPOVU_0_4           0\n",
      "SAEPOVU_5_17R         0\n",
      "SAEPOVU_ALL           0\n",
      "YEAR                  0\n",
      "dtype: int64\n",
      "OCC_CODE     0\n",
      "OCC_TITLE    0\n",
      "OCC_GROUP    0\n",
      "TOT_EMP      0\n",
      "EMP_PRSE     0\n",
      "H_MEAN       0\n",
      "A_MEAN       0\n",
      "MEAN_PRSE    0\n",
      "H_PCT10      0\n",
      "H_PCT25      0\n",
      "H_MEDIAN     0\n",
      "H_PCT75      0\n",
      "H_PCT90      0\n",
      "A_PCT10      0\n",
      "A_PCT25      0\n",
      "A_MEDIAN     0\n",
      "A_PCT75      0\n",
      "A_PCT90      0\n",
      "YEAR         0\n",
      "dtype: int64\n",
      "AREA            0\n",
      "STATE           0\n",
      "OCC_CODE        0\n",
      "OCC_TITLE       0\n",
      "OCC_GROUP       0\n",
      "TOT_EMP         0\n",
      "EMP_PRSE        0\n",
      "JOBS_1000       0\n",
      "LOC_QUOTIENT    0\n",
      "H_MEAN          0\n",
      "A_MEAN          0\n",
      "MEAN_PRSE       0\n",
      "H_PCT10         0\n",
      "H_PCT25         0\n",
      "H_MEDIAN        0\n",
      "H_PCT75         0\n",
      "H_PCT90         0\n",
      "A_PCT10         0\n",
      "A_PCT25         0\n",
      "A_MEDIAN        0\n",
      "A_PCT75         0\n",
      "A_PCT90         0\n",
      "YEAR            0\n",
      "dtype: int64\n"
     ]
    }
   ],
   "source": [
    "print(poverty_nat.isna().sum())\n",
    "print(poverty_state.isna().sum())\n",
    "print(national_df.isna().sum())\n",
    "print(state_df.isna().sum())"
   ]
  },
  {
   "cell_type": "code",
   "execution_count": 58,
   "metadata": {},
   "outputs": [
    {
     "name": "stdout",
     "output_type": "stream",
     "text": [
      "SAEMHI_MOE            float64\n",
      "SAEMHI_PT             float64\n",
      "SAEMHI_UB90           float64\n",
      "SAEPOV0_17_LB90       float64\n",
      "SAEPOV0_17_MOE        float64\n",
      "SAEPOV0_17_PT         float64\n",
      "SAEPOV0_17_UB90       float64\n",
      "SAEPOV0_4_LB90        float64\n",
      "SAEPOV0_4_MOE         float64\n",
      "SAEPOV0_4_PT          float64\n",
      "SAEPOV0_4_UB90        float64\n",
      "SAEPOV5_17R_LB90      float64\n",
      "SAEPOV5_17R_MOE       float64\n",
      "SAEPOV5_17R_PT        float64\n",
      "SAEPOV5_17R_UB90      float64\n",
      "SAEPOVALL_LB90        float64\n",
      "SAEPOVALL_MOE         float64\n",
      "SAEPOVALL_PT          float64\n",
      "SAEPOVALL_UB90        float64\n",
      "SAEPOVRT0_17_LB90     float64\n",
      "SAEPOVRT0_17_MOE      float64\n",
      "SAEPOVRT0_17_PT       float64\n",
      "SAEPOVRT0_17_UB90     float64\n",
      "SAEPOVRT0_4_LB90      float64\n",
      "SAEPOVRT0_4_MOE       float64\n",
      "SAEPOVRT0_4_PT        float64\n",
      "SAEPOVRT0_4_UB90      float64\n",
      "SAEPOVRT5_17R_LB90    float64\n",
      "SAEPOVRT5_17R_MOE     float64\n",
      "SAEPOVRT5_17R_PT      float64\n",
      "SAEPOVRT5_17R_UB90    float64\n",
      "SAEPOVRTALL_LB90      float64\n",
      "SAEPOVRTALL_MOE       float64\n",
      "SAEPOVRTALL_PT        float64\n",
      "SAEPOVRTALL_UB90      float64\n",
      "SAEPOVU_0_17          float64\n",
      "SAEPOVU_0_4           float64\n",
      "SAEPOVU_5_17R         float64\n",
      "SAEPOVU_ALL           float64\n",
      "YEAR                    int32\n",
      "dtype: object\n",
      "STATE                  object\n",
      "SAEMHI_MOE            float64\n",
      "SAEMHI_PT             float64\n",
      "SAEMHI_UB90           float64\n",
      "SAEPOV0_17_LB90       float64\n",
      "SAEPOV0_17_MOE        float64\n",
      "SAEPOV0_17_PT         float64\n",
      "SAEPOV0_17_UB90       float64\n",
      "SAEPOV0_4_LB90        float64\n",
      "SAEPOV0_4_MOE         float64\n",
      "SAEPOV0_4_PT          float64\n",
      "SAEPOV0_4_UB90        float64\n",
      "SAEPOV5_17R_LB90      float64\n",
      "SAEPOV5_17R_MOE       float64\n",
      "SAEPOV5_17R_PT        float64\n",
      "SAEPOV5_17R_UB90      float64\n",
      "SAEPOVALL_LB90        float64\n",
      "SAEPOVALL_MOE         float64\n",
      "SAEPOVALL_PT          float64\n",
      "SAEPOVALL_UB90        float64\n",
      "SAEPOVRT0_17_LB90     float64\n",
      "SAEPOVRT0_17_MOE      float64\n",
      "SAEPOVRT0_17_PT       float64\n",
      "SAEPOVRT0_17_UB90     float64\n",
      "SAEPOVRT0_4_LB90      float64\n",
      "SAEPOVRT0_4_MOE       float64\n",
      "SAEPOVRT0_4_PT        float64\n",
      "SAEPOVRT0_4_UB90      float64\n",
      "SAEPOVRT5_17R_LB90    float64\n",
      "SAEPOVRT5_17R_MOE     float64\n",
      "SAEPOVRT5_17R_PT      float64\n",
      "SAEPOVRT5_17R_UB90    float64\n",
      "SAEPOVRTALL_LB90      float64\n",
      "SAEPOVRTALL_MOE       float64\n",
      "SAEPOVRTALL_PT        float64\n",
      "SAEPOVRTALL_UB90      float64\n",
      "SAEPOVU_0_17          float64\n",
      "SAEPOVU_0_4           float64\n",
      "SAEPOVU_5_17R         float64\n",
      "SAEPOVU_ALL           float64\n",
      "YEAR                    int32\n",
      "dtype: object\n",
      "OCC_CODE      object\n",
      "OCC_TITLE     object\n",
      "OCC_GROUP     object\n",
      "TOT_EMP        int32\n",
      "EMP_PRSE     float64\n",
      "H_MEAN       float64\n",
      "A_MEAN       float64\n",
      "MEAN_PRSE    float64\n",
      "H_PCT10      float64\n",
      "H_PCT25      float64\n",
      "H_MEDIAN     float64\n",
      "H_PCT75      float64\n",
      "H_PCT90      float64\n",
      "A_PCT10      float64\n",
      "A_PCT25      float64\n",
      "A_MEDIAN     float64\n",
      "A_PCT75      float64\n",
      "A_PCT90      float64\n",
      "YEAR           int32\n",
      "dtype: object\n",
      "AREA              int64\n",
      "STATE            object\n",
      "OCC_CODE         object\n",
      "OCC_TITLE        object\n",
      "OCC_GROUP        object\n",
      "TOT_EMP           int32\n",
      "EMP_PRSE        float64\n",
      "JOBS_1000       float64\n",
      "LOC_QUOTIENT    float64\n",
      "H_MEAN          float64\n",
      "A_MEAN          float64\n",
      "MEAN_PRSE       float64\n",
      "H_PCT10         float64\n",
      "H_PCT25         float64\n",
      "H_MEDIAN        float64\n",
      "H_PCT75         float64\n",
      "H_PCT90         float64\n",
      "A_PCT10         float64\n",
      "A_PCT25         float64\n",
      "A_MEDIAN        float64\n",
      "A_PCT75         float64\n",
      "A_PCT90         float64\n",
      "YEAR              int32\n",
      "dtype: object\n"
     ]
    }
   ],
   "source": [
    "print(poverty_nat.dtypes)\n",
    "print(poverty_state.dtypes)\n",
    "print(national_df.dtypes)\n",
    "print(state_df.dtypes)"
   ]
  },
  {
   "cell_type": "code",
   "execution_count": 59,
   "metadata": {},
   "outputs": [],
   "source": [
    "states_merged = state_df.merge(poverty_state, on=['STATE', 'YEAR'])"
   ]
  },
  {
   "cell_type": "code",
   "execution_count": 60,
   "metadata": {},
   "outputs": [],
   "source": [
    "poverty_nat.to_csv('ml/national_poverty.csv', index=False)\n",
    "poverty_state.to_csv('ml/state_poverty.csv', index=False)\n",
    "national_df.to_csv('ml/national_salary.csv', index=False)\n",
    "state_df.to_csv('ml/state_salary.csv', index=False)\n",
    "states_merged.to_csv('output/state_poverty_and_income.csv')"
   ]
  },
  {
   "cell_type": "code",
   "execution_count": null,
   "metadata": {},
   "outputs": [],
   "source": []
  }
 ],
 "metadata": {
  "kernelspec": {
   "display_name": "base",
   "language": "python",
   "name": "python3"
  },
  "language_info": {
   "codemirror_mode": {
    "name": "ipython",
    "version": 3
   },
   "file_extension": ".py",
   "mimetype": "text/x-python",
   "name": "python",
   "nbconvert_exporter": "python",
   "pygments_lexer": "ipython3",
   "version": "3.9.13"
  },
  "orig_nbformat": 4
 },
 "nbformat": 4,
 "nbformat_minor": 2
}
