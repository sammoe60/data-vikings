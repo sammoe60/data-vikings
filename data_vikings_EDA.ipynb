{
 "cells": [
  {
   "cell_type": "code",
   "execution_count": 1,
   "metadata": {},
   "outputs": [],
   "source": [
    "import requests\n",
    "import pandas as pd"
   ]
  },
  {
   "attachments": {},
   "cell_type": "markdown",
   "metadata": {},
   "source": [
    "# Poverty API Data"
   ]
  },
  {
   "cell_type": "code",
   "execution_count": 2,
   "metadata": {},
   "outputs": [],
   "source": [
    "url_state = 'https://api.census.gov/data/timeseries/poverty/saipe?get=NAME,SAEMHI_MOE,SAEMHI_PT,SAEMHI_UB90,SAEPOV0_17_LB90,SAEPOV0_17_MOE,SAEPOV0_17_PT,SAEPOV0_17_UB90,SAEPOV0_4_LB90,SAEPOV0_4_MOE,SAEPOV0_4_PT,SAEPOV0_4_UB90,SAEPOV5_17R_LB90,SAEPOV5_17R_MOE,SAEPOV5_17R_PT,SAEPOV5_17R_UB90,SAEPOVALL_LB90,SAEPOVALL_MOE,SAEPOVALL_PT,SAEPOVALL_UB90,SAEPOVRT0_17_LB90,SAEPOVRT0_17_MOE,SAEPOVRT0_17_PT,SAEPOVRT0_17_UB90,SAEPOVRT0_4_LB90,SAEPOVRT0_4_MOE,SAEPOVRT0_4_PT,SAEPOVRT0_4_UB90,SAEPOVRT5_17R_LB90,SAEPOVRT5_17R_MOE,SAEPOVRT5_17R_PT,SAEPOVRT5_17R_UB90,SAEPOVRTALL_LB90,SAEPOVRTALL_MOE,SAEPOVRTALL_PT,SAEPOVRTALL_UB90,SAEPOVU_0_17,SAEPOVU_0_4,SAEPOVU_5_17R,SAEPOVU_ALL,YEAR&for=state:*'\n",
    "url_nat = 'https://api.census.gov/data/timeseries/poverty/saipe?get=SAEMHI_MOE,SAEMHI_PT,SAEMHI_UB90,SAEPOV0_17_LB90,SAEPOV0_17_MOE,SAEPOV0_17_PT,SAEPOV0_17_UB90,SAEPOV0_4_LB90,SAEPOV0_4_MOE,SAEPOV0_4_PT,SAEPOV0_4_UB90,SAEPOV5_17R_LB90,SAEPOV5_17R_MOE,SAEPOV5_17R_PT,SAEPOV5_17R_UB90,SAEPOVALL_LB90,SAEPOVALL_MOE,SAEPOVALL_PT,SAEPOVALL_UB90,SAEPOVRT0_17_LB90,SAEPOVRT0_17_MOE,SAEPOVRT0_17_PT,SAEPOVRT0_17_UB90,SAEPOVRT0_4_LB90,SAEPOVRT0_4_MOE,SAEPOVRT0_4_PT,SAEPOVRT0_4_UB90,SAEPOVRT5_17R_LB90,SAEPOVRT5_17R_MOE,SAEPOVRT5_17R_PT,SAEPOVRT5_17R_UB90,SAEPOVRTALL_LB90,SAEPOVRTALL_MOE,SAEPOVRTALL_PT,SAEPOVRTALL_UB90,SAEPOVU_0_17,SAEPOVU_0_4,SAEPOVU_5_17R,SAEPOVU_ALL,YEAR&for=us'\n",
    "\n",
    "state_poverty_response = requests.get(url_state)\n",
    "nat_poverty_response = requests.get(url_nat)"
   ]
  },
  {
   "cell_type": "code",
   "execution_count": 3,
   "metadata": {},
   "outputs": [],
   "source": [
    "state_poverty_json = state_poverty_response.json()\n",
    "nat_poverty_json = nat_poverty_response.json()"
   ]
  },
  {
   "cell_type": "code",
   "execution_count": 4,
   "metadata": {},
   "outputs": [],
   "source": [
    "poverty_state = pd.DataFrame(state_poverty_json[1:], columns=state_poverty_json[0])\n",
    "poverty_nat = pd.DataFrame(nat_poverty_json[1:], columns=nat_poverty_json[0])"
   ]
  },
  {
   "cell_type": "code",
   "execution_count": 5,
   "metadata": {},
   "outputs": [
    {
     "name": "stdout",
     "output_type": "stream",
     "text": [
      "(1479, 42)\n",
      "Index(['NAME', 'SAEMHI_MOE', 'SAEMHI_PT', 'SAEMHI_UB90', 'SAEPOV0_17_LB90',\n",
      "       'SAEPOV0_17_MOE', 'SAEPOV0_17_PT', 'SAEPOV0_17_UB90', 'SAEPOV0_4_LB90',\n",
      "       'SAEPOV0_4_MOE', 'SAEPOV0_4_PT', 'SAEPOV0_4_UB90', 'SAEPOV5_17R_LB90',\n",
      "       'SAEPOV5_17R_MOE', 'SAEPOV5_17R_PT', 'SAEPOV5_17R_UB90',\n",
      "       'SAEPOVALL_LB90', 'SAEPOVALL_MOE', 'SAEPOVALL_PT', 'SAEPOVALL_UB90',\n",
      "       'SAEPOVRT0_17_LB90', 'SAEPOVRT0_17_MOE', 'SAEPOVRT0_17_PT',\n",
      "       'SAEPOVRT0_17_UB90', 'SAEPOVRT0_4_LB90', 'SAEPOVRT0_4_MOE',\n",
      "       'SAEPOVRT0_4_PT', 'SAEPOVRT0_4_UB90', 'SAEPOVRT5_17R_LB90',\n",
      "       'SAEPOVRT5_17R_MOE', 'SAEPOVRT5_17R_PT', 'SAEPOVRT5_17R_UB90',\n",
      "       'SAEPOVRTALL_LB90', 'SAEPOVRTALL_MOE', 'SAEPOVRTALL_PT',\n",
      "       'SAEPOVRTALL_UB90', 'SAEPOVU_0_17', 'SAEPOVU_0_4', 'SAEPOVU_5_17R',\n",
      "       'SAEPOVU_ALL', 'YEAR', 'state'],\n",
      "      dtype='object')\n",
      "(29, 41)\n",
      "Index(['SAEMHI_MOE', 'SAEMHI_PT', 'SAEMHI_UB90', 'SAEPOV0_17_LB90',\n",
      "       'SAEPOV0_17_MOE', 'SAEPOV0_17_PT', 'SAEPOV0_17_UB90', 'SAEPOV0_4_LB90',\n",
      "       'SAEPOV0_4_MOE', 'SAEPOV0_4_PT', 'SAEPOV0_4_UB90', 'SAEPOV5_17R_LB90',\n",
      "       'SAEPOV5_17R_MOE', 'SAEPOV5_17R_PT', 'SAEPOV5_17R_UB90',\n",
      "       'SAEPOVALL_LB90', 'SAEPOVALL_MOE', 'SAEPOVALL_PT', 'SAEPOVALL_UB90',\n",
      "       'SAEPOVRT0_17_LB90', 'SAEPOVRT0_17_MOE', 'SAEPOVRT0_17_PT',\n",
      "       'SAEPOVRT0_17_UB90', 'SAEPOVRT0_4_LB90', 'SAEPOVRT0_4_MOE',\n",
      "       'SAEPOVRT0_4_PT', 'SAEPOVRT0_4_UB90', 'SAEPOVRT5_17R_LB90',\n",
      "       'SAEPOVRT5_17R_MOE', 'SAEPOVRT5_17R_PT', 'SAEPOVRT5_17R_UB90',\n",
      "       'SAEPOVRTALL_LB90', 'SAEPOVRTALL_MOE', 'SAEPOVRTALL_PT',\n",
      "       'SAEPOVRTALL_UB90', 'SAEPOVU_0_17', 'SAEPOVU_0_4', 'SAEPOVU_5_17R',\n",
      "       'SAEPOVU_ALL', 'YEAR', 'us'],\n",
      "      dtype='object')\n"
     ]
    },
    {
     "data": {
      "text/html": [
       "<div>\n",
       "<style scoped>\n",
       "    .dataframe tbody tr th:only-of-type {\n",
       "        vertical-align: middle;\n",
       "    }\n",
       "\n",
       "    .dataframe tbody tr th {\n",
       "        vertical-align: top;\n",
       "    }\n",
       "\n",
       "    .dataframe thead th {\n",
       "        text-align: right;\n",
       "    }\n",
       "</style>\n",
       "<table border=\"1\" class=\"dataframe\">\n",
       "  <thead>\n",
       "    <tr style=\"text-align: right;\">\n",
       "      <th></th>\n",
       "      <th>NAME</th>\n",
       "      <th>SAEMHI_MOE</th>\n",
       "      <th>SAEMHI_PT</th>\n",
       "      <th>SAEMHI_UB90</th>\n",
       "      <th>SAEPOV0_17_LB90</th>\n",
       "      <th>SAEPOV0_17_MOE</th>\n",
       "      <th>SAEPOV0_17_PT</th>\n",
       "      <th>SAEPOV0_17_UB90</th>\n",
       "      <th>SAEPOV0_4_LB90</th>\n",
       "      <th>SAEPOV0_4_MOE</th>\n",
       "      <th>...</th>\n",
       "      <th>SAEPOVRTALL_LB90</th>\n",
       "      <th>SAEPOVRTALL_MOE</th>\n",
       "      <th>SAEPOVRTALL_PT</th>\n",
       "      <th>SAEPOVRTALL_UB90</th>\n",
       "      <th>SAEPOVU_0_17</th>\n",
       "      <th>SAEPOVU_0_4</th>\n",
       "      <th>SAEPOVU_5_17R</th>\n",
       "      <th>SAEPOVU_ALL</th>\n",
       "      <th>YEAR</th>\n",
       "      <th>state</th>\n",
       "    </tr>\n",
       "  </thead>\n",
       "  <tbody>\n",
       "    <tr>\n",
       "      <th>0</th>\n",
       "      <td>Alabama</td>\n",
       "      <td>1076</td>\n",
       "      <td>22202</td>\n",
       "      <td>23278</td>\n",
       "      <td>243761</td>\n",
       "      <td>14895</td>\n",
       "      <td>258656</td>\n",
       "      <td>273551</td>\n",
       "      <td>66684</td>\n",
       "      <td>8852</td>\n",
       "      <td>...</td>\n",
       "      <td>17.0</td>\n",
       "      <td>0.65</td>\n",
       "      <td>17.7</td>\n",
       "      <td>18.3</td>\n",
       "      <td>None</td>\n",
       "      <td>None</td>\n",
       "      <td>None</td>\n",
       "      <td>None</td>\n",
       "      <td>1989</td>\n",
       "      <td>01</td>\n",
       "    </tr>\n",
       "  </tbody>\n",
       "</table>\n",
       "<p>1 rows × 42 columns</p>\n",
       "</div>"
      ],
      "text/plain": [
       "      NAME SAEMHI_MOE SAEMHI_PT SAEMHI_UB90 SAEPOV0_17_LB90 SAEPOV0_17_MOE  \\\n",
       "0  Alabama       1076     22202       23278          243761          14895   \n",
       "\n",
       "  SAEPOV0_17_PT SAEPOV0_17_UB90 SAEPOV0_4_LB90 SAEPOV0_4_MOE  ...  \\\n",
       "0        258656          273551          66684          8852  ...   \n",
       "\n",
       "  SAEPOVRTALL_LB90 SAEPOVRTALL_MOE SAEPOVRTALL_PT SAEPOVRTALL_UB90  \\\n",
       "0             17.0            0.65           17.7             18.3   \n",
       "\n",
       "  SAEPOVU_0_17 SAEPOVU_0_4 SAEPOVU_5_17R SAEPOVU_ALL  YEAR state  \n",
       "0         None        None          None        None  1989    01  \n",
       "\n",
       "[1 rows x 42 columns]"
      ]
     },
     "metadata": {},
     "output_type": "display_data"
    }
   ],
   "source": [
    "print(poverty_state.shape)\n",
    "\n",
    "print(poverty_state.columns)\n",
    "\n",
    "print(poverty_nat.shape)\n",
    "\n",
    "print(poverty_nat.columns)\n",
    "\n",
    "display(poverty_state.head(1))"
   ]
  },
  {
   "cell_type": "code",
   "execution_count": 6,
   "metadata": {},
   "outputs": [
    {
     "name": "stdout",
     "output_type": "stream",
     "text": [
      "SAEMHI_MOE            0\n",
      "SAEMHI_PT             0\n",
      "SAEMHI_UB90           0\n",
      "SAEPOV0_17_LB90       0\n",
      "SAEPOV0_17_MOE        0\n",
      "SAEPOV0_17_PT         0\n",
      "SAEPOV0_17_UB90       0\n",
      "SAEPOV0_4_LB90        0\n",
      "SAEPOV0_4_MOE         0\n",
      "SAEPOV0_4_PT          0\n",
      "SAEPOV0_4_UB90        0\n",
      "SAEPOV5_17R_LB90      0\n",
      "SAEPOV5_17R_MOE       0\n",
      "SAEPOV5_17R_PT        0\n",
      "SAEPOV5_17R_UB90      0\n",
      "SAEPOVALL_LB90        0\n",
      "SAEPOVALL_MOE         0\n",
      "SAEPOVALL_PT          0\n",
      "SAEPOVALL_UB90        0\n",
      "SAEPOVRT0_17_LB90     0\n",
      "SAEPOVRT0_17_MOE      0\n",
      "SAEPOVRT0_17_PT       0\n",
      "SAEPOVRT0_17_UB90     0\n",
      "SAEPOVRT0_4_LB90      0\n",
      "SAEPOVRT0_4_MOE       0\n",
      "SAEPOVRT0_4_PT        0\n",
      "SAEPOVRT0_4_UB90      0\n",
      "SAEPOVRT5_17R_LB90    0\n",
      "SAEPOVRT5_17R_MOE     0\n",
      "SAEPOVRT5_17R_PT      0\n",
      "SAEPOVRT5_17R_UB90    0\n",
      "SAEPOVRTALL_LB90      0\n",
      "SAEPOVRTALL_MOE       0\n",
      "SAEPOVRTALL_PT        0\n",
      "SAEPOVRTALL_UB90      0\n",
      "SAEPOVU_0_17          5\n",
      "SAEPOVU_0_4           5\n",
      "SAEPOVU_5_17R         5\n",
      "SAEPOVU_ALL           5\n",
      "YEAR                  0\n",
      "us                    0\n",
      "dtype: int64\n"
     ]
    }
   ],
   "source": [
    "print(poverty_nat.isna().sum())"
   ]
  },
  {
   "cell_type": "code",
   "execution_count": 8,
   "metadata": {},
   "outputs": [
    {
     "name": "stdout",
     "output_type": "stream",
     "text": [
      "SAEMHI_MOE  SAEMHI_PT  SAEMHI_UB90  SAEPOV0_17_LB90  SAEPOV0_17_MOE  SAEPOV0_17_PT  SAEPOV0_17_UB90  SAEPOV0_4_LB90  SAEPOV0_4_MOE  SAEPOV0_4_PT  SAEPOV0_4_UB90  SAEPOV5_17R_LB90  SAEPOV5_17R_MOE  SAEPOV5_17R_PT  SAEPOV5_17R_UB90  SAEPOVALL_LB90  SAEPOVALL_MOE  SAEPOVALL_PT  SAEPOVALL_UB90  SAEPOVRT0_17_LB90  SAEPOVRT0_17_MOE  SAEPOVRT0_17_PT  SAEPOVRT0_17_UB90  SAEPOVRT0_4_LB90  SAEPOVRT0_4_MOE  SAEPOVRT0_4_PT  SAEPOVRT0_4_UB90  SAEPOVRT5_17R_LB90  SAEPOVRT5_17R_MOE  SAEPOVRT5_17R_PT  SAEPOVRT5_17R_UB90  SAEPOVRTALL_LB90  SAEPOVRTALL_MOE  SAEPOVRTALL_PT  SAEPOVRTALL_UB90  SAEPOVU_0_17  SAEPOVU_0_4  SAEPOVU_5_17R  SAEPOVU_ALL  YEAR  us\n",
      "104         46242      46346        13217771         142502          13360273       13502775         4187205         55743          4242948       4298691         8662789           102752           8765541         8868293           37934924        296550         38231474      38528024        18.4               0.15              18.5             18.7               21.0              0.25             21.3            21.5              16.8                0.20               17.0              17.2                13.2              0.10             13.3            13.4              72023983      19959312     51658744       287270432    2005  00    1\n",
      "115         57617      57732        13976345         139368          14115713       14255081         4108397         48552          4156949       4205501         9548767           99719            9648486         9748205           44022086        246910         44268996      44515906        19.3               0.20              19.5             19.7               21.1              0.20             21.3            21.5              18.1                0.20               18.3              18.5                13.9              0.10             14.0            14.1              72452603      19473767     52644648       315165470    2016  00    1\n",
      "93          53657      53750        15564145         121867          15686012       15807879         4609104         49083          4658187       4707270         10632252          82266            10714518        10796784          47966830        241557         48208387      48449944        21.5               0.20              21.7             21.9               23.7              0.20             23.9            24.1              20.2                0.20               20.4              20.6                15.4              0.10             15.5            15.6              72386485      19453155     52594799       310899910    2014  00    1\n",
      "89          67340      67429        11176652         27771           11204423       11232194         3133736         12589          3146325       3158914         7778138           20428            7798566         7818994           38309115        62279          38371394      38433673        15.7               0.00              15.7             15.7               16.7              0.10             16.8            16.9              14.9                0.00               14.9              14.9                11.9              0.00             11.9            11.9              71388957      18752913     52357364       321478113    2020  00    1\n",
      "86          60336      60422        13229339         123863          13353202       13477065         3880645         52324          3932969       3985293         9033090           87413            9120503         9207916           42342619        241032         42583651      42824683        18.2               0.20              18.4             18.6               19.9              0.30             20.2            20.5              17.1                0.20               17.3              17.5                13.3              0.10             13.4            13.5              72452925      19457844     52669201       317741588    2017  00    1\n",
      "85          55775      55860        14862975         137298          15000273       15137571         4397105         51106          4448211       4499317         10145484          99544            10245028        10344572          45878016        275061         46153077      46428138        20.5               0.20              20.7             20.9               22.5              0.30             22.8            23.1              19.3                0.20               19.5              19.7                14.6              0.10             14.7            14.8              72454786      19489402     52635679       313476400    2015  00    1\n",
      "82          48451      48533        13170950         114619          13285569       13400188         4166465         44880          4211345       4256225         8613863           86185            8700048         8786233           38535015        222238         38757253      38979491        18.2               0.15              18.3             18.5               20.8              0.20             21.0            21.2              16.6                0.15               16.7              16.9                13.2              0.10             13.3            13.4              72482732      20066651     51999081       291531091    2006  00    1\n",
      "75          50740      50815        12981173         115927          13097100       13213027         4178842         50278          4229120       4279398         8419720           80124            8499844         8579968           37829283        222964         38052247      38275211        17.9               0.15              18.0             18.2               20.5              0.25             20.8            21.0              16.2                0.15               16.4              16.5                12.9              0.05             13.0            13.0              72665911      20348501     51904411       293744043    2007  00    1\n",
      "74          50221      50295        14526159         130803          14656962       14787765         4792377         57611          4849988       4907599         9419830           89312            9509142         9598454           42631574        236589         42868163      43104752        19.8               0.20              20.0             20.2               23.0              0.25             23.2            23.5              18.1                0.15               18.2              18.4                14.3              0.05             14.3            14.4              73347404      20878285     52143306       299026555    2009  00    1\n",
      "73          52029      52102        13115296         125574          13240870       13366444         4311741         57957          4369698       4427655         8469455           80071            8549526         8629597           38858742        249680         39108422      39358102        18.0               0.20              18.2             18.4               20.9              0.30             21.2            21.5              16.3                0.15               16.5              16.6                13.1              0.10             13.2            13.3              72825003      20602241     51864080       296184480    2008  00    1\n",
      "            50502      50575        16262247         124253          16386500       16510753         5061357         48730          5110087       5158817         10882675          94312            10976987        11071299          48217869        234166         48452035      48686201        22.3               0.20              22.5             22.7               25.6              0.20             25.8            26.0              20.6                0.20               20.8              21.0                15.8              0.10             15.9            16.0              72802773      19772854     52708799       303778193    2011  00    1\n",
      "65          52250      52315        15948844         138116          16086960       16225076         4759374         52315          4811689       4864004         10860529          97703            10958232        11055935          48554692        256176         48810868      49067044        22.0               0.20              22.2             22.4               24.5              0.30             24.8            25.1              20.6                0.20               20.8              21.0                15.7              0.10             15.8            15.9              72382173      19438875     52605987       308196783    2013  00    1\n",
      "64          50046      50110        15621395         127734          15749129       15876863         4910772         50752          4961524       5012276         10394015          90498            10484513        10575011          45975650        240306         46215956      46456262        21.4               0.20              21.6             21.8               24.8              0.20             25.0            25.2              19.6                0.20               19.8              20.0                15.2              0.10             15.3            15.4              73024577      19822633     52872735       301535021    2010  00    1\n",
      "53          51371      51424        16275868         120995          16396863       16517858         4971692         43278          5014970       5058248         10995403          91134            11086537        11177671          48528543        231580         48760123      48991703        22.4               0.20              22.6             22.8               25.4              0.20             25.6            25.8              20.8                0.20               21.0              21.2                15.8              0.10             15.9            16.0              72605436      19611275     52675863       306086063    2012  00    1\n",
      "378         38885      39263        12979586         486958          13466544       13953502         3752962         285622         4038584       4324206         8511476           411459           8922935         9334394           33555896        919866         34475762      35395628        18.2               0.70              18.9             19.6               19.4              1.45             20.8            22.3              16.7                0.80               17.5              18.3                12.4              0.35             12.7            13.1              71338364      19382484     51060953       271059449    1998  00    1\n",
      "322         44334      44656        12694086         347406          13041492       13388898         3917910         205805         4123715       4329520         8142299           288587           8430886         8719473           36359662        680142         37039804      37719946        17.3               0.50              17.8             18.3               19.5              1.00             20.5            21.5              15.6                0.55               16.2              16.7                12.5              0.25             12.7            13.0              73241407      20121433     52159407       290616537    2004  00    1\n",
      "313         40696      41009        11810623         469698          12280321       12750019         3323894         270522         3594416       3864938         7791630           396438           8188068         8584506           31891000        900272         32791272      33691544        16.5               0.65              17.1             17.8               17.5              1.45             18.9            20.4              15.1                0.75               15.9              16.6                11.5              0.35             11.9            12.2              71684956      18968750     51642359       276207757    1999  00    1\n",
      "309         43318      43627        12519657         346149          12865806       13211955         3817517         203849         4021366       4225215         8111130           288443           8399573         8688016           35190401        670769         35861170      36531939        17.2               0.45              17.6             18.1               19.3              1.05             20.3            21.4              15.5                0.55               16.1              16.6                12.2              0.25             12.5            12.7              72999159      19763309     52278842       287699184    2003  00    1\n",
      "229         42409      42638        11795343         337302          12132645       12469947         3530466         196727         3727193       3923920         7722500           282014           8004514         8286528           33912173        657778         34569951      35227729        16.2               0.50              16.7             17.2               18.0              1.00             19.0            20.0              14.8                0.55               15.3              15.9                11.9              0.20             12.1            12.3              72695775      19594188     52168584       285317346    2002  00    1\n",
      "217         41990      42207        11127838         459280          11587118       12046398         3312911         270187         3583098       3853285         7154100           382475           7536575         7919050           30695361        885725         31581086      32466811        15.5               0.65              16.2             16.8               17.3              1.40             18.7            20.1              13.9                0.75               14.6              15.4                11.0              0.30             11.3            11.6              71741141      19181906     51548879       278944452    2000  00    1\n",
      "212         42228      42440        11403410         329274          11732684       12061958         3383307         192572         3575879       3768451         7387461           274833           7662294         7937127           32262565        643946         32906511      33550457        15.8               0.45              16.3             16.7               17.6              1.00             18.6            19.6              14.3                0.50               14.8              15.3                11.5              0.20             11.7            11.9              72020548      19257993     51820491       281474939    2001  00    1\n",
      "134         69717      69851        12110180         133039          12243219       12376258         3299669         49480          3349149       3398629         8533254           103021           8636275         8739296           41149497        243679         41393176      41636855        16.7               0.20              16.9             17.1               18.0              0.30             18.3            18.6              15.9                0.20               16.1              16.3                12.7              0.10             12.8            12.9              72297129      18313189     53700713       324173084    2021  00    1\n",
      "118         65712      65830        11865995         134475          12000470       12134945         3405854         51835          3457689       3509524         8160650           98256            8258906         8357162           39248096        242000         39490096      39732096        16.6               0.20              16.8             17.0               17.9              0.30             18.2            18.5              15.6                0.20               15.8              16.0                12.2              0.10             12.3            12.4              71633453      19002162     52324733       320118791    2019  00    1\n",
      "94          61937      62031        12873127         124405          12997532       13121937         3714862         43842          3758704       3802546         8834521           95631            8930152         9025783           41619366        232949         41852315      42085264        17.8               0.20              18.0             18.2               19.3              0.20             19.5            19.7              16.8                0.20               17.0              17.2                13.0              0.10             13.1            13.2              72163269      19301529     52529919       319184033    2018  00    1\n",
      "dtype: int64\n"
     ]
    }
   ],
   "source": [
    "print(poverty_nat.value_counts())"
   ]
  },
  {
   "cell_type": "code",
   "execution_count": 9,
   "metadata": {},
   "outputs": [
    {
     "name": "stdout",
     "output_type": "stream",
     "text": [
      "SAEMHI_MOE            object\n",
      "SAEMHI_PT             object\n",
      "SAEMHI_UB90           object\n",
      "SAEPOV0_17_LB90       object\n",
      "SAEPOV0_17_MOE        object\n",
      "SAEPOV0_17_PT         object\n",
      "SAEPOV0_17_UB90       object\n",
      "SAEPOV0_4_LB90        object\n",
      "SAEPOV0_4_MOE         object\n",
      "SAEPOV0_4_PT          object\n",
      "SAEPOV0_4_UB90        object\n",
      "SAEPOV5_17R_LB90      object\n",
      "SAEPOV5_17R_MOE       object\n",
      "SAEPOV5_17R_PT        object\n",
      "SAEPOV5_17R_UB90      object\n",
      "SAEPOVALL_LB90        object\n",
      "SAEPOVALL_MOE         object\n",
      "SAEPOVALL_PT          object\n",
      "SAEPOVALL_UB90        object\n",
      "SAEPOVRT0_17_LB90     object\n",
      "SAEPOVRT0_17_MOE      object\n",
      "SAEPOVRT0_17_PT       object\n",
      "SAEPOVRT0_17_UB90     object\n",
      "SAEPOVRT0_4_LB90      object\n",
      "SAEPOVRT0_4_MOE       object\n",
      "SAEPOVRT0_4_PT        object\n",
      "SAEPOVRT0_4_UB90      object\n",
      "SAEPOVRT5_17R_LB90    object\n",
      "SAEPOVRT5_17R_MOE     object\n",
      "SAEPOVRT5_17R_PT      object\n",
      "SAEPOVRT5_17R_UB90    object\n",
      "SAEPOVRTALL_LB90      object\n",
      "SAEPOVRTALL_MOE       object\n",
      "SAEPOVRTALL_PT        object\n",
      "SAEPOVRTALL_UB90      object\n",
      "SAEPOVU_0_17          object\n",
      "SAEPOVU_0_4           object\n",
      "SAEPOVU_5_17R         object\n",
      "SAEPOVU_ALL           object\n",
      "YEAR                  object\n",
      "us                    object\n",
      "dtype: object\n"
     ]
    }
   ],
   "source": [
    "print(poverty_nat.dtypes)"
   ]
  },
  {
   "cell_type": "code",
   "execution_count": 12,
   "metadata": {},
   "outputs": [
    {
     "ename": "ValueError",
     "evalue": "zero-size array to reduction operation fmin which has no identity",
     "output_type": "error",
     "traceback": [
      "\u001b[1;31m---------------------------------------------------------------------------\u001b[0m",
      "\u001b[1;31mValueError\u001b[0m                                Traceback (most recent call last)",
      "\u001b[1;32m~\\AppData\\Local\\Temp\\ipykernel_7476\\1891616832.py\u001b[0m in \u001b[0;36m<module>\u001b[1;34m\u001b[0m\n\u001b[0;32m      8\u001b[0m \u001b[0mcmap\u001b[0m\u001b[1;33m=\u001b[0m\u001b[0mpoverty_state\u001b[0m\u001b[1;33m.\u001b[0m\u001b[0mcorr\u001b[0m\u001b[1;33m(\u001b[0m\u001b[1;33m)\u001b[0m\u001b[1;33m\u001b[0m\u001b[1;33m\u001b[0m\u001b[0m\n\u001b[0;32m      9\u001b[0m \u001b[1;33m\u001b[0m\u001b[0m\n\u001b[1;32m---> 10\u001b[1;33m \u001b[0msns\u001b[0m\u001b[1;33m.\u001b[0m\u001b[0mheatmap\u001b[0m\u001b[1;33m(\u001b[0m\u001b[0mcmap\u001b[0m\u001b[1;33m)\u001b[0m\u001b[1;33m\u001b[0m\u001b[1;33m\u001b[0m\u001b[0m\n\u001b[0m\u001b[0;32m     11\u001b[0m \u001b[1;33m\u001b[0m\u001b[0m\n\u001b[0;32m     12\u001b[0m \u001b[1;33m\u001b[0m\u001b[0m\n",
      "\u001b[1;32mc:\\Users\\JakeUhl\\anaconda3\\lib\\site-packages\\seaborn\\_decorators.py\u001b[0m in \u001b[0;36minner_f\u001b[1;34m(*args, **kwargs)\u001b[0m\n\u001b[0;32m     44\u001b[0m             )\n\u001b[0;32m     45\u001b[0m         \u001b[0mkwargs\u001b[0m\u001b[1;33m.\u001b[0m\u001b[0mupdate\u001b[0m\u001b[1;33m(\u001b[0m\u001b[1;33m{\u001b[0m\u001b[0mk\u001b[0m\u001b[1;33m:\u001b[0m \u001b[0marg\u001b[0m \u001b[1;32mfor\u001b[0m \u001b[0mk\u001b[0m\u001b[1;33m,\u001b[0m \u001b[0marg\u001b[0m \u001b[1;32min\u001b[0m \u001b[0mzip\u001b[0m\u001b[1;33m(\u001b[0m\u001b[0msig\u001b[0m\u001b[1;33m.\u001b[0m\u001b[0mparameters\u001b[0m\u001b[1;33m,\u001b[0m \u001b[0margs\u001b[0m\u001b[1;33m)\u001b[0m\u001b[1;33m}\u001b[0m\u001b[1;33m)\u001b[0m\u001b[1;33m\u001b[0m\u001b[1;33m\u001b[0m\u001b[0m\n\u001b[1;32m---> 46\u001b[1;33m         \u001b[1;32mreturn\u001b[0m \u001b[0mf\u001b[0m\u001b[1;33m(\u001b[0m\u001b[1;33m**\u001b[0m\u001b[0mkwargs\u001b[0m\u001b[1;33m)\u001b[0m\u001b[1;33m\u001b[0m\u001b[1;33m\u001b[0m\u001b[0m\n\u001b[0m\u001b[0;32m     47\u001b[0m     \u001b[1;32mreturn\u001b[0m \u001b[0minner_f\u001b[0m\u001b[1;33m\u001b[0m\u001b[1;33m\u001b[0m\u001b[0m\n\u001b[0;32m     48\u001b[0m \u001b[1;33m\u001b[0m\u001b[0m\n",
      "\u001b[1;32mc:\\Users\\JakeUhl\\anaconda3\\lib\\site-packages\\seaborn\\matrix.py\u001b[0m in \u001b[0;36mheatmap\u001b[1;34m(data, vmin, vmax, cmap, center, robust, annot, fmt, annot_kws, linewidths, linecolor, cbar, cbar_kws, cbar_ax, square, xticklabels, yticklabels, mask, ax, **kwargs)\u001b[0m\n\u001b[0;32m    538\u001b[0m     \"\"\"\n\u001b[0;32m    539\u001b[0m     \u001b[1;31m# Initialize the plotter object\u001b[0m\u001b[1;33m\u001b[0m\u001b[1;33m\u001b[0m\u001b[0m\n\u001b[1;32m--> 540\u001b[1;33m     plotter = _HeatMapper(data, vmin, vmax, cmap, center, robust, annot, fmt,\n\u001b[0m\u001b[0;32m    541\u001b[0m                           \u001b[0mannot_kws\u001b[0m\u001b[1;33m,\u001b[0m \u001b[0mcbar\u001b[0m\u001b[1;33m,\u001b[0m \u001b[0mcbar_kws\u001b[0m\u001b[1;33m,\u001b[0m \u001b[0mxticklabels\u001b[0m\u001b[1;33m,\u001b[0m\u001b[1;33m\u001b[0m\u001b[1;33m\u001b[0m\u001b[0m\n\u001b[0;32m    542\u001b[0m                           yticklabels, mask)\n",
      "\u001b[1;32mc:\\Users\\JakeUhl\\anaconda3\\lib\\site-packages\\seaborn\\matrix.py\u001b[0m in \u001b[0;36m__init__\u001b[1;34m(self, data, vmin, vmax, cmap, center, robust, annot, fmt, annot_kws, cbar, cbar_kws, xticklabels, yticklabels, mask)\u001b[0m\n\u001b[0;32m    157\u001b[0m \u001b[1;33m\u001b[0m\u001b[0m\n\u001b[0;32m    158\u001b[0m         \u001b[1;31m# Determine good default values for the colormapping\u001b[0m\u001b[1;33m\u001b[0m\u001b[1;33m\u001b[0m\u001b[0m\n\u001b[1;32m--> 159\u001b[1;33m         self._determine_cmap_params(plot_data, vmin, vmax,\n\u001b[0m\u001b[0;32m    160\u001b[0m                                     cmap, center, robust)\n\u001b[0;32m    161\u001b[0m \u001b[1;33m\u001b[0m\u001b[0m\n",
      "\u001b[1;32mc:\\Users\\JakeUhl\\anaconda3\\lib\\site-packages\\seaborn\\matrix.py\u001b[0m in \u001b[0;36m_determine_cmap_params\u001b[1;34m(self, plot_data, vmin, vmax, cmap, center, robust)\u001b[0m\n\u001b[0;32m    196\u001b[0m                 \u001b[0mvmin\u001b[0m \u001b[1;33m=\u001b[0m \u001b[0mnp\u001b[0m\u001b[1;33m.\u001b[0m\u001b[0mnanpercentile\u001b[0m\u001b[1;33m(\u001b[0m\u001b[0mcalc_data\u001b[0m\u001b[1;33m,\u001b[0m \u001b[1;36m2\u001b[0m\u001b[1;33m)\u001b[0m\u001b[1;33m\u001b[0m\u001b[1;33m\u001b[0m\u001b[0m\n\u001b[0;32m    197\u001b[0m             \u001b[1;32melse\u001b[0m\u001b[1;33m:\u001b[0m\u001b[1;33m\u001b[0m\u001b[1;33m\u001b[0m\u001b[0m\n\u001b[1;32m--> 198\u001b[1;33m                 \u001b[0mvmin\u001b[0m \u001b[1;33m=\u001b[0m \u001b[0mnp\u001b[0m\u001b[1;33m.\u001b[0m\u001b[0mnanmin\u001b[0m\u001b[1;33m(\u001b[0m\u001b[0mcalc_data\u001b[0m\u001b[1;33m)\u001b[0m\u001b[1;33m\u001b[0m\u001b[1;33m\u001b[0m\u001b[0m\n\u001b[0m\u001b[0;32m    199\u001b[0m         \u001b[1;32mif\u001b[0m \u001b[0mvmax\u001b[0m \u001b[1;32mis\u001b[0m \u001b[1;32mNone\u001b[0m\u001b[1;33m:\u001b[0m\u001b[1;33m\u001b[0m\u001b[1;33m\u001b[0m\u001b[0m\n\u001b[0;32m    200\u001b[0m             \u001b[1;32mif\u001b[0m \u001b[0mrobust\u001b[0m\u001b[1;33m:\u001b[0m\u001b[1;33m\u001b[0m\u001b[1;33m\u001b[0m\u001b[0m\n",
      "\u001b[1;32m<__array_function__ internals>\u001b[0m in \u001b[0;36mnanmin\u001b[1;34m(*args, **kwargs)\u001b[0m\n",
      "\u001b[1;32mc:\\Users\\JakeUhl\\anaconda3\\lib\\site-packages\\numpy\\lib\\nanfunctions.py\u001b[0m in \u001b[0;36mnanmin\u001b[1;34m(a, axis, out, keepdims)\u001b[0m\n\u001b[0;32m    317\u001b[0m         \u001b[1;31m# Fast, but not safe for subclasses of ndarray, or object arrays,\u001b[0m\u001b[1;33m\u001b[0m\u001b[1;33m\u001b[0m\u001b[0m\n\u001b[0;32m    318\u001b[0m         \u001b[1;31m# which do not implement isnan (gh-9009), or fmin correctly (gh-8975)\u001b[0m\u001b[1;33m\u001b[0m\u001b[1;33m\u001b[0m\u001b[0m\n\u001b[1;32m--> 319\u001b[1;33m         \u001b[0mres\u001b[0m \u001b[1;33m=\u001b[0m \u001b[0mnp\u001b[0m\u001b[1;33m.\u001b[0m\u001b[0mfmin\u001b[0m\u001b[1;33m.\u001b[0m\u001b[0mreduce\u001b[0m\u001b[1;33m(\u001b[0m\u001b[0ma\u001b[0m\u001b[1;33m,\u001b[0m \u001b[0maxis\u001b[0m\u001b[1;33m=\u001b[0m\u001b[0maxis\u001b[0m\u001b[1;33m,\u001b[0m \u001b[0mout\u001b[0m\u001b[1;33m=\u001b[0m\u001b[0mout\u001b[0m\u001b[1;33m,\u001b[0m \u001b[1;33m**\u001b[0m\u001b[0mkwargs\u001b[0m\u001b[1;33m)\u001b[0m\u001b[1;33m\u001b[0m\u001b[1;33m\u001b[0m\u001b[0m\n\u001b[0m\u001b[0;32m    320\u001b[0m         \u001b[1;32mif\u001b[0m \u001b[0mnp\u001b[0m\u001b[1;33m.\u001b[0m\u001b[0misnan\u001b[0m\u001b[1;33m(\u001b[0m\u001b[0mres\u001b[0m\u001b[1;33m)\u001b[0m\u001b[1;33m.\u001b[0m\u001b[0many\u001b[0m\u001b[1;33m(\u001b[0m\u001b[1;33m)\u001b[0m\u001b[1;33m:\u001b[0m\u001b[1;33m\u001b[0m\u001b[1;33m\u001b[0m\u001b[0m\n\u001b[0;32m    321\u001b[0m             warnings.warn(\"All-NaN slice encountered\", RuntimeWarning,\n",
      "\u001b[1;31mValueError\u001b[0m: zero-size array to reduction operation fmin which has no identity"
     ]
    },
    {
     "data": {
      "text/plain": [
       "<Figure size 1000x600 with 0 Axes>"
      ]
     },
     "metadata": {},
     "output_type": "display_data"
    }
   ],
   "source": [
    "import seaborn as sns\n",
    "from matplotlib import pyplot as plt\n",
    "\n",
    "poverty_state.dropna()\n",
    "\n",
    "plt.figure(figsize=(10,6))\n",
    "\n",
    "cmap=poverty_state.corr()\n",
    "\n",
    "sns.heatmap(cmap)\n",
    "\n",
    "\n"
   ]
  },
  {
   "attachments": {},
   "cell_type": "markdown",
   "metadata": {},
   "source": [
    "# National Salary Data"
   ]
  },
  {
   "cell_type": "code",
   "execution_count": 9,
   "metadata": {},
   "outputs": [],
   "source": [
    "national2018_df = pd.read_excel(\"data/national_M2018_dl.xlsx\")\n",
    "national2019_df = pd.read_excel(\"data/national_M2019_dl.xlsx\")\n",
    "national2020_df = pd.read_excel(\"data/national_M2020_dl.xlsx\")\n",
    "national2021_df = pd.read_excel(\"data/national_M2021_dl.xlsx\")\n",
    "national2017_df = pd.read_excel(\"data/national_M2017_dl.xlsx\")\n",
    "national2017_df['Year'] = 2017\n",
    "national2018_df['Year'] = 2018\n",
    "national2019_df['Year'] = 2019\n",
    "national2020_df['Year'] = 2020\n",
    "national2021_df['Year'] = 2021"
   ]
  },
  {
   "cell_type": "code",
   "execution_count": 10,
   "metadata": {},
   "outputs": [],
   "source": [
    "def upper_columns(data):\n",
    "    columns = data\n",
    "    myList = []\n",
    "    for name in columns:\n",
    "        myList.append(name.upper())\n",
    "    data.columns = myList"
   ]
  },
  {
   "cell_type": "code",
   "execution_count": 11,
   "metadata": {},
   "outputs": [],
   "source": [
    "upper_columns(national2017_df)\n",
    "upper_columns(national2018_df)\n",
    "upper_columns(national2019_df)\n",
    "upper_columns(national2020_df)\n",
    "upper_columns(national2021_df)"
   ]
  },
  {
   "cell_type": "code",
   "execution_count": 12,
   "metadata": {},
   "outputs": [],
   "source": [
    "national2019_df = national2019_df.rename(columns={'O_GROUP': 'OCC_GROUP'})\n",
    "national2020_df = national2020_df.rename(columns={'O_GROUP': 'OCC_GROUP'})\n",
    "national2021_df = national2021_df.rename(columns={'O_GROUP': 'OCC_GROUP'})"
   ]
  },
  {
   "cell_type": "code",
   "execution_count": 13,
   "metadata": {},
   "outputs": [],
   "source": [
    "national2017_ordered = national2017_df[[\n",
    "    'OCC_CODE', 'OCC_TITLE', 'OCC_GROUP', 'TOT_EMP', 'EMP_PRSE', 'H_MEAN',\n",
    "    'A_MEAN', 'MEAN_PRSE', 'H_PCT10', 'H_PCT25', 'H_MEDIAN', 'H_PCT75',\n",
    "    'H_PCT90', 'A_PCT10', 'A_PCT25', 'A_MEDIAN', 'A_PCT75', 'A_PCT90',\n",
    "    'YEAR']]\n",
    "national2018_ordered = national2018_df[[\n",
    "    'OCC_CODE', 'OCC_TITLE', 'OCC_GROUP', 'TOT_EMP', 'EMP_PRSE', 'H_MEAN',\n",
    "    'A_MEAN', 'MEAN_PRSE', 'H_PCT10', 'H_PCT25', 'H_MEDIAN', 'H_PCT75',\n",
    "    'H_PCT90', 'A_PCT10', 'A_PCT25', 'A_MEDIAN', 'A_PCT75', 'A_PCT90',\n",
    "    'YEAR']]\n",
    "national2019_ordered = national2019_df[[\n",
    "    'OCC_CODE', 'OCC_TITLE', 'OCC_GROUP', 'TOT_EMP', 'EMP_PRSE', 'H_MEAN',\n",
    "    'A_MEAN', 'MEAN_PRSE', 'H_PCT10', 'H_PCT25', 'H_MEDIAN', 'H_PCT75',\n",
    "    'H_PCT90', 'A_PCT10', 'A_PCT25', 'A_MEDIAN', 'A_PCT75', 'A_PCT90',\n",
    "    'YEAR']]\n",
    "national2020_ordered = national2020_df[[\n",
    "    'OCC_CODE', 'OCC_TITLE', 'OCC_GROUP', 'TOT_EMP', 'EMP_PRSE', 'H_MEAN',\n",
    "    'A_MEAN', 'MEAN_PRSE', 'H_PCT10', 'H_PCT25', 'H_MEDIAN', 'H_PCT75',\n",
    "    'H_PCT90', 'A_PCT10', 'A_PCT25', 'A_MEDIAN', 'A_PCT75', 'A_PCT90',\n",
    "    'YEAR']]\n",
    "national2021_ordered = national2021_df[[\n",
    "    'OCC_CODE', 'OCC_TITLE', 'OCC_GROUP', 'TOT_EMP', 'EMP_PRSE', 'H_MEAN',\n",
    "    'A_MEAN', 'MEAN_PRSE', 'H_PCT10', 'H_PCT25', 'H_MEDIAN', 'H_PCT75',\n",
    "    'H_PCT90', 'A_PCT10', 'A_PCT25', 'A_MEDIAN', 'A_PCT75', 'A_PCT90',\n",
    "    'YEAR']]"
   ]
  },
  {
   "cell_type": "code",
   "execution_count": 14,
   "metadata": {},
   "outputs": [
    {
     "data": {
      "text/plain": [
       "Index(['OCC_CODE', 'OCC_TITLE', 'OCC_GROUP', 'TOT_EMP', 'EMP_PRSE', 'H_MEAN',\n",
       "       'A_MEAN', 'MEAN_PRSE', 'H_PCT10', 'H_PCT25', 'H_MEDIAN', 'H_PCT75',\n",
       "       'H_PCT90', 'A_PCT10', 'A_PCT25', 'A_MEDIAN', 'A_PCT75', 'A_PCT90',\n",
       "       'YEAR'],\n",
       "      dtype='object')"
      ]
     },
     "execution_count": 14,
     "metadata": {},
     "output_type": "execute_result"
    }
   ],
   "source": [
    "national_df = pd.concat([national2017_ordered, national2018_ordered, national2019_ordered, national2020_ordered, national2021_ordered], axis=0)\n",
    "national_df.shape\n",
    "national_df.columns"
   ]
  },
  {
   "cell_type": "code",
   "execution_count": 15,
   "metadata": {},
   "outputs": [
    {
     "data": {
      "text/html": [
       "<div>\n",
       "<style scoped>\n",
       "    .dataframe tbody tr th:only-of-type {\n",
       "        vertical-align: middle;\n",
       "    }\n",
       "\n",
       "    .dataframe tbody tr th {\n",
       "        vertical-align: top;\n",
       "    }\n",
       "\n",
       "    .dataframe thead th {\n",
       "        text-align: right;\n",
       "    }\n",
       "</style>\n",
       "<table border=\"1\" class=\"dataframe\">\n",
       "  <thead>\n",
       "    <tr style=\"text-align: right;\">\n",
       "      <th></th>\n",
       "      <th>OCC_CODE</th>\n",
       "      <th>OCC_TITLE</th>\n",
       "      <th>OCC_GROUP</th>\n",
       "      <th>TOT_EMP</th>\n",
       "      <th>EMP_PRSE</th>\n",
       "      <th>H_MEAN</th>\n",
       "      <th>A_MEAN</th>\n",
       "      <th>MEAN_PRSE</th>\n",
       "      <th>H_PCT10</th>\n",
       "      <th>H_PCT25</th>\n",
       "      <th>H_MEDIAN</th>\n",
       "      <th>H_PCT75</th>\n",
       "      <th>H_PCT90</th>\n",
       "      <th>A_PCT10</th>\n",
       "      <th>A_PCT25</th>\n",
       "      <th>A_MEDIAN</th>\n",
       "      <th>A_PCT75</th>\n",
       "      <th>A_PCT90</th>\n",
       "      <th>YEAR</th>\n",
       "    </tr>\n",
       "  </thead>\n",
       "  <tbody>\n",
       "    <tr>\n",
       "      <th>0</th>\n",
       "      <td>00-0000</td>\n",
       "      <td>All Occupations</td>\n",
       "      <td>total</td>\n",
       "      <td>142549250</td>\n",
       "      <td>0.1</td>\n",
       "      <td>24.34</td>\n",
       "      <td>50620</td>\n",
       "      <td>0.1</td>\n",
       "      <td>9.6</td>\n",
       "      <td>11.91</td>\n",
       "      <td>18.12</td>\n",
       "      <td>29.38</td>\n",
       "      <td>46.23</td>\n",
       "      <td>19970</td>\n",
       "      <td>24770</td>\n",
       "      <td>37690</td>\n",
       "      <td>61110</td>\n",
       "      <td>96150</td>\n",
       "      <td>2017</td>\n",
       "    </tr>\n",
       "  </tbody>\n",
       "</table>\n",
       "</div>"
      ],
      "text/plain": [
       "  OCC_CODE        OCC_TITLE OCC_GROUP    TOT_EMP EMP_PRSE H_MEAN A_MEAN  \\\n",
       "0  00-0000  All Occupations     total  142549250      0.1  24.34  50620   \n",
       "\n",
       "  MEAN_PRSE H_PCT10 H_PCT25 H_MEDIAN H_PCT75 H_PCT90 A_PCT10 A_PCT25 A_MEDIAN  \\\n",
       "0       0.1     9.6   11.91    18.12   29.38   46.23   19970   24770    37690   \n",
       "\n",
       "  A_PCT75 A_PCT90  YEAR  \n",
       "0   61110   96150  2017  "
      ]
     },
     "execution_count": 15,
     "metadata": {},
     "output_type": "execute_result"
    }
   ],
   "source": [
    "cols = list(national_df.columns)\n",
    "for col in cols: \n",
    "    national_df = national_df[national_df[col] != '#']\n",
    "    national_df = national_df[national_df[col] != '*']\n",
    "    national_df = national_df[national_df[col] != '**']\n",
    "national_df.head(1)"
   ]
  },
  {
   "cell_type": "code",
   "execution_count": 16,
   "metadata": {},
   "outputs": [
    {
     "name": "stdout",
     "output_type": "stream",
     "text": [
      "OCC_CODE      object\n",
      "OCC_TITLE     object\n",
      "OCC_GROUP     object\n",
      "TOT_EMP        int32\n",
      "EMP_PRSE     float64\n",
      "H_MEAN       float64\n",
      "A_MEAN       float64\n",
      "MEAN_PRSE    float64\n",
      "H_PCT10      float64\n",
      "H_PCT25      float64\n",
      "H_MEDIAN     float64\n",
      "H_PCT75      float64\n",
      "H_PCT90      float64\n",
      "A_PCT10      float64\n",
      "A_PCT25      float64\n",
      "A_MEDIAN     float64\n",
      "A_PCT75      float64\n",
      "A_PCT90      float64\n",
      "YEAR           int32\n",
      "dtype: object\n"
     ]
    }
   ],
   "source": [
    "national_df = national_df.astype({'TOT_EMP': int, 'EMP_PRSE': float, 'H_MEAN': float,\n",
    "       'A_MEAN': float, 'MEAN_PRSE': float, 'H_PCT10': float, 'H_PCT25': float, 'H_MEDIAN': float, 'H_PCT75': float,\n",
    "       'H_PCT90': float, 'A_PCT10': float, 'A_PCT25': float, 'A_MEDIAN': float, 'A_PCT75': float, 'A_PCT90': float,\n",
    "       'YEAR': int})\n",
    "print(national_df.dtypes)"
   ]
  },
  {
   "attachments": {},
   "cell_type": "markdown",
   "metadata": {},
   "source": [
    "# State Salary Data"
   ]
  },
  {
   "cell_type": "code",
   "execution_count": 17,
   "metadata": {},
   "outputs": [],
   "source": [
    "state2018_df = pd.read_excel(\"data/state_M2018_dl.xlsx\")\n",
    "state2019_df = pd.read_excel(\"data/state_M2019_dl.xlsx\")\n",
    "state2020_df = pd.read_excel(\"data/state_M2020_dl.xlsx\")\n",
    "state2021_df = pd.read_excel(\"data/state_M2021_dl.xlsx\")\n",
    "state2017_df = pd.read_excel(\"data/state_M2017_dl.xlsx\")\n",
    "state2017_df['Year'] = 2017\n",
    "state2018_df['Year'] = 2018\n",
    "state2019_df['Year'] = 2019\n",
    "state2020_df['Year'] = 2020\n",
    "state2021_df['Year'] = 2021"
   ]
  },
  {
   "cell_type": "code",
   "execution_count": 18,
   "metadata": {},
   "outputs": [],
   "source": [
    "upper_columns(state2017_df)\n",
    "upper_columns(state2018_df)\n",
    "upper_columns(state2019_df)\n",
    "upper_columns(state2020_df)\n",
    "upper_columns(state2021_df)"
   ]
  },
  {
   "cell_type": "code",
   "execution_count": 19,
   "metadata": {},
   "outputs": [],
   "source": [
    "state2019_df = state2019_df.rename(columns={'AREA_TITLE': 'STATE'})\n",
    "state2020_df = state2020_df.rename(columns={'AREA_TITLE': 'STATE'})\n",
    "state2021_df = state2021_df.rename(columns={'AREA_TITLE': 'STATE'})\n",
    "\n",
    "state2019_df = state2019_df.rename(columns={'O_GROUP': 'OCC_GROUP'})\n",
    "state2020_df = state2020_df.rename(columns={'O_GROUP': 'OCC_GROUP'})\n",
    "state2021_df = state2021_df.rename(columns={'O_GROUP': 'OCC_GROUP'})\n",
    "\n",
    "state2017_df = state2017_df.rename(columns={'LOC_Q': 'LOC_QUOTIENT'})\n",
    "state2018_df = state2018_df.rename(columns={'LOC_Q': 'LOC_QUOTIENT'})"
   ]
  },
  {
   "cell_type": "code",
   "execution_count": 20,
   "metadata": {},
   "outputs": [
    {
     "name": "stdout",
     "output_type": "stream",
     "text": [
      "Index(['AREA', 'ST', 'STATE', 'OCC_CODE', 'OCC_TITLE', 'OCC_GROUP', 'TOT_EMP',\n",
      "       'EMP_PRSE', 'JOBS_1000', 'LOC_QUOTIENT', 'H_MEAN', 'A_MEAN',\n",
      "       'MEAN_PRSE', 'H_PCT10', 'H_PCT25', 'H_MEDIAN', 'H_PCT75', 'H_PCT90',\n",
      "       'A_PCT10', 'A_PCT25', 'A_MEDIAN', 'A_PCT75', 'A_PCT90', 'ANNUAL',\n",
      "       'HOURLY', 'YEAR'],\n",
      "      dtype='object')\n"
     ]
    }
   ],
   "source": [
    "print(state2017_df.columns)"
   ]
  },
  {
   "cell_type": "code",
   "execution_count": 21,
   "metadata": {},
   "outputs": [],
   "source": [
    "state2017_ordered = state2017_df[[\n",
    "    'AREA', 'STATE', 'OCC_CODE', 'OCC_TITLE', 'OCC_GROUP', 'TOT_EMP',\n",
    "    'EMP_PRSE', 'JOBS_1000', 'LOC_QUOTIENT', 'H_MEAN', 'A_MEAN', 'MEAN_PRSE',\n",
    "    'H_PCT10', 'H_PCT25', 'H_MEDIAN', 'H_PCT75', 'H_PCT90', 'A_PCT10',\n",
    "    'A_PCT25', 'A_MEDIAN', 'A_PCT75', 'A_PCT90', 'YEAR']]\n",
    "state2018_ordered = state2018_df[[\n",
    "    'AREA', 'STATE', 'OCC_CODE', 'OCC_TITLE', 'OCC_GROUP', 'TOT_EMP',\n",
    "    'EMP_PRSE', 'JOBS_1000', 'LOC_QUOTIENT', 'H_MEAN', 'A_MEAN', 'MEAN_PRSE',\n",
    "    'H_PCT10', 'H_PCT25', 'H_MEDIAN', 'H_PCT75', 'H_PCT90', 'A_PCT10',\n",
    "    'A_PCT25', 'A_MEDIAN', 'A_PCT75', 'A_PCT90', 'YEAR']]\n",
    "state2019_ordered = state2019_df[[\n",
    "    'AREA', 'STATE', 'OCC_CODE', 'OCC_TITLE', 'OCC_GROUP', 'TOT_EMP',\n",
    "    'EMP_PRSE', 'JOBS_1000', 'LOC_QUOTIENT', 'H_MEAN', 'A_MEAN', 'MEAN_PRSE',\n",
    "    'H_PCT10', 'H_PCT25', 'H_MEDIAN', 'H_PCT75', 'H_PCT90', 'A_PCT10',\n",
    "    'A_PCT25', 'A_MEDIAN', 'A_PCT75', 'A_PCT90', 'YEAR']]\n",
    "state2020_ordered = state2020_df[[\n",
    "    'AREA', 'STATE', 'OCC_CODE', 'OCC_TITLE', 'OCC_GROUP', 'TOT_EMP',\n",
    "    'EMP_PRSE', 'JOBS_1000', 'LOC_QUOTIENT', 'H_MEAN', 'A_MEAN', 'MEAN_PRSE',\n",
    "    'H_PCT10', 'H_PCT25', 'H_MEDIAN', 'H_PCT75', 'H_PCT90', 'A_PCT10',\n",
    "    'A_PCT25', 'A_MEDIAN', 'A_PCT75', 'A_PCT90', 'YEAR']]\n",
    "state2021_ordered = state2021_df[[\n",
    "    'AREA', 'STATE', 'OCC_CODE', 'OCC_TITLE', 'OCC_GROUP', 'TOT_EMP',\n",
    "    'EMP_PRSE', 'JOBS_1000', 'LOC_QUOTIENT', 'H_MEAN', 'A_MEAN', 'MEAN_PRSE',\n",
    "    'H_PCT10', 'H_PCT25', 'H_MEDIAN', 'H_PCT75', 'H_PCT90', 'A_PCT10',\n",
    "    'A_PCT25', 'A_MEDIAN', 'A_PCT75', 'A_PCT90', 'YEAR']]"
   ]
  },
  {
   "cell_type": "code",
   "execution_count": 22,
   "metadata": {},
   "outputs": [
    {
     "data": {
      "text/plain": [
       "(183936, 23)"
      ]
     },
     "execution_count": 22,
     "metadata": {},
     "output_type": "execute_result"
    }
   ],
   "source": [
    "state_df = pd.concat([state2017_ordered, state2018_ordered, state2019_ordered, state2020_ordered, state2021_ordered], axis=0)\n",
    "state_df.shape"
   ]
  },
  {
   "cell_type": "code",
   "execution_count": 23,
   "metadata": {},
   "outputs": [
    {
     "data": {
      "text/plain": [
       "(176252, 23)"
      ]
     },
     "execution_count": 23,
     "metadata": {},
     "output_type": "execute_result"
    }
   ],
   "source": [
    "state_df = state_df[state_df['STATE'] != 'Guam'] \n",
    "state_df = state_df[state_df['STATE'] != 'Puerto Rico'] \n",
    "state_df = state_df[state_df['STATE'] != 'Virgin Islands']\n",
    "state_df = state_df[state_df['STATE'] != 'District of Columbia']\n",
    "state_df.shape"
   ]
  },
  {
   "cell_type": "code",
   "execution_count": 24,
   "metadata": {},
   "outputs": [
    {
     "name": "stdout",
     "output_type": "stream",
     "text": [
      "Index(['AREA', 'STATE', 'OCC_CODE', 'OCC_TITLE', 'OCC_GROUP', 'TOT_EMP',\n",
      "       'EMP_PRSE', 'JOBS_1000', 'LOC_QUOTIENT', 'H_MEAN', 'A_MEAN',\n",
      "       'MEAN_PRSE', 'H_PCT10', 'H_PCT25', 'H_MEDIAN', 'H_PCT75', 'H_PCT90',\n",
      "       'A_PCT10', 'A_PCT25', 'A_MEDIAN', 'A_PCT75', 'A_PCT90', 'YEAR'],\n",
      "      dtype='object')\n"
     ]
    },
    {
     "data": {
      "text/html": [
       "<div>\n",
       "<style scoped>\n",
       "    .dataframe tbody tr th:only-of-type {\n",
       "        vertical-align: middle;\n",
       "    }\n",
       "\n",
       "    .dataframe tbody tr th {\n",
       "        vertical-align: top;\n",
       "    }\n",
       "\n",
       "    .dataframe thead th {\n",
       "        text-align: right;\n",
       "    }\n",
       "</style>\n",
       "<table border=\"1\" class=\"dataframe\">\n",
       "  <thead>\n",
       "    <tr style=\"text-align: right;\">\n",
       "      <th></th>\n",
       "      <th>AREA</th>\n",
       "      <th>STATE</th>\n",
       "      <th>OCC_CODE</th>\n",
       "      <th>OCC_TITLE</th>\n",
       "      <th>OCC_GROUP</th>\n",
       "      <th>TOT_EMP</th>\n",
       "      <th>EMP_PRSE</th>\n",
       "      <th>JOBS_1000</th>\n",
       "      <th>LOC_QUOTIENT</th>\n",
       "      <th>H_MEAN</th>\n",
       "      <th>...</th>\n",
       "      <th>H_PCT25</th>\n",
       "      <th>H_MEDIAN</th>\n",
       "      <th>H_PCT75</th>\n",
       "      <th>H_PCT90</th>\n",
       "      <th>A_PCT10</th>\n",
       "      <th>A_PCT25</th>\n",
       "      <th>A_MEDIAN</th>\n",
       "      <th>A_PCT75</th>\n",
       "      <th>A_PCT90</th>\n",
       "      <th>YEAR</th>\n",
       "    </tr>\n",
       "  </thead>\n",
       "  <tbody>\n",
       "    <tr>\n",
       "      <th>0</th>\n",
       "      <td>1</td>\n",
       "      <td>Alabama</td>\n",
       "      <td>00-0000</td>\n",
       "      <td>All Occupations</td>\n",
       "      <td>total</td>\n",
       "      <td>1922570</td>\n",
       "      <td>0.4</td>\n",
       "      <td>1000</td>\n",
       "      <td>1</td>\n",
       "      <td>20.76</td>\n",
       "      <td>...</td>\n",
       "      <td>10.45</td>\n",
       "      <td>15.77</td>\n",
       "      <td>25.01</td>\n",
       "      <td>37.83</td>\n",
       "      <td>17770</td>\n",
       "      <td>21740</td>\n",
       "      <td>32800</td>\n",
       "      <td>52020</td>\n",
       "      <td>78690</td>\n",
       "      <td>2017</td>\n",
       "    </tr>\n",
       "  </tbody>\n",
       "</table>\n",
       "<p>1 rows × 23 columns</p>\n",
       "</div>"
      ],
      "text/plain": [
       "   AREA    STATE OCC_CODE        OCC_TITLE OCC_GROUP  TOT_EMP EMP_PRSE  \\\n",
       "0     1  Alabama  00-0000  All Occupations     total  1922570      0.4   \n",
       "\n",
       "  JOBS_1000 LOC_QUOTIENT H_MEAN  ... H_PCT25 H_MEDIAN H_PCT75 H_PCT90 A_PCT10  \\\n",
       "0      1000            1  20.76  ...   10.45    15.77   25.01   37.83   17770   \n",
       "\n",
       "  A_PCT25 A_MEDIAN A_PCT75 A_PCT90  YEAR  \n",
       "0   21740    32800   52020   78690  2017  \n",
       "\n",
       "[1 rows x 23 columns]"
      ]
     },
     "execution_count": 24,
     "metadata": {},
     "output_type": "execute_result"
    }
   ],
   "source": [
    "cols = list(state_df.columns)\n",
    "for col in cols:\n",
    "    state_df = state_df[state_df[col] != '#']\n",
    "    state_df = state_df[state_df[col] != '*']\n",
    "    state_df = state_df[state_df[col] != '**']\n",
    "print(state_df.columns)\n",
    "state_df.head(1)"
   ]
  },
  {
   "cell_type": "code",
   "execution_count": 25,
   "metadata": {},
   "outputs": [
    {
     "name": "stdout",
     "output_type": "stream",
     "text": [
      "AREA              int64\n",
      "STATE            object\n",
      "OCC_CODE         object\n",
      "OCC_TITLE        object\n",
      "OCC_GROUP        object\n",
      "TOT_EMP           int32\n",
      "EMP_PRSE        float64\n",
      "JOBS_1000       float64\n",
      "LOC_QUOTIENT    float64\n",
      "H_MEAN          float64\n",
      "A_MEAN          float64\n",
      "MEAN_PRSE       float64\n",
      "H_PCT10         float64\n",
      "H_PCT25         float64\n",
      "H_MEDIAN        float64\n",
      "H_PCT75         float64\n",
      "H_PCT90         float64\n",
      "A_PCT10         float64\n",
      "A_PCT25         float64\n",
      "A_MEDIAN        float64\n",
      "A_PCT75         float64\n",
      "A_PCT90         float64\n",
      "YEAR              int32\n",
      "dtype: object\n"
     ]
    }
   ],
   "source": [
    "state_df = state_df.astype({'TOT_EMP': int, 'EMP_PRSE': float, 'JOBS_1000': float, 'LOC_QUOTIENT': float, 'H_MEAN': float,\n",
    "       'A_MEAN': float, 'MEAN_PRSE': float, 'H_PCT10': float, 'H_PCT25': float, 'H_MEDIAN': float, 'H_PCT75': float,\n",
    "       'H_PCT90': float, 'A_PCT10': float, 'A_PCT25': float, 'A_MEDIAN': float, 'A_PCT75': float, 'A_PCT90': float,\n",
    "       'YEAR': int})\n",
    "print(state_df.dtypes)"
   ]
  },
  {
   "cell_type": "code",
   "execution_count": 26,
   "metadata": {},
   "outputs": [],
   "source": [
    "poverty_nat = poverty_nat.dropna()\n",
    "poverty_state = poverty_state.dropna()"
   ]
  },
  {
   "cell_type": "code",
   "execution_count": 27,
   "metadata": {},
   "outputs": [
    {
     "name": "stdout",
     "output_type": "stream",
     "text": [
      "SAEMHI_MOE            0\n",
      "SAEMHI_PT             0\n",
      "SAEMHI_UB90           0\n",
      "SAEPOV0_17_LB90       0\n",
      "SAEPOV0_17_MOE        0\n",
      "SAEPOV0_17_PT         0\n",
      "SAEPOV0_17_UB90       0\n",
      "SAEPOV0_4_LB90        0\n",
      "SAEPOV0_4_MOE         0\n",
      "SAEPOV0_4_PT          0\n",
      "SAEPOV0_4_UB90        0\n",
      "SAEPOV5_17R_LB90      0\n",
      "SAEPOV5_17R_MOE       0\n",
      "SAEPOV5_17R_PT        0\n",
      "SAEPOV5_17R_UB90      0\n",
      "SAEPOVALL_LB90        0\n",
      "SAEPOVALL_MOE         0\n",
      "SAEPOVALL_PT          0\n",
      "SAEPOVALL_UB90        0\n",
      "SAEPOVRT0_17_LB90     0\n",
      "SAEPOVRT0_17_MOE      0\n",
      "SAEPOVRT0_17_PT       0\n",
      "SAEPOVRT0_17_UB90     0\n",
      "SAEPOVRT0_4_LB90      0\n",
      "SAEPOVRT0_4_MOE       0\n",
      "SAEPOVRT0_4_PT        0\n",
      "SAEPOVRT0_4_UB90      0\n",
      "SAEPOVRT5_17R_LB90    0\n",
      "SAEPOVRT5_17R_MOE     0\n",
      "SAEPOVRT5_17R_PT      0\n",
      "SAEPOVRT5_17R_UB90    0\n",
      "SAEPOVRTALL_LB90      0\n",
      "SAEPOVRTALL_MOE       0\n",
      "SAEPOVRTALL_PT        0\n",
      "SAEPOVRTALL_UB90      0\n",
      "SAEPOVU_0_17          0\n",
      "SAEPOVU_0_4           0\n",
      "SAEPOVU_5_17R         0\n",
      "SAEPOVU_ALL           0\n",
      "YEAR                  0\n",
      "dtype: int64\n",
      "STATE                 0\n",
      "SAEMHI_MOE            0\n",
      "SAEMHI_PT             0\n",
      "SAEMHI_UB90           0\n",
      "SAEPOV0_17_LB90       0\n",
      "SAEPOV0_17_MOE        0\n",
      "SAEPOV0_17_PT         0\n",
      "SAEPOV0_17_UB90       0\n",
      "SAEPOV0_4_LB90        0\n",
      "SAEPOV0_4_MOE         0\n",
      "SAEPOV0_4_PT          0\n",
      "SAEPOV0_4_UB90        0\n",
      "SAEPOV5_17R_LB90      0\n",
      "SAEPOV5_17R_MOE       0\n",
      "SAEPOV5_17R_PT        0\n",
      "SAEPOV5_17R_UB90      0\n",
      "SAEPOVALL_LB90        0\n",
      "SAEPOVALL_MOE         0\n",
      "SAEPOVALL_PT          0\n",
      "SAEPOVALL_UB90        0\n",
      "SAEPOVRT0_17_LB90     0\n",
      "SAEPOVRT0_17_MOE      0\n",
      "SAEPOVRT0_17_PT       0\n",
      "SAEPOVRT0_17_UB90     0\n",
      "SAEPOVRT0_4_LB90      0\n",
      "SAEPOVRT0_4_MOE       0\n",
      "SAEPOVRT0_4_PT        0\n",
      "SAEPOVRT0_4_UB90      0\n",
      "SAEPOVRT5_17R_LB90    0\n",
      "SAEPOVRT5_17R_MOE     0\n",
      "SAEPOVRT5_17R_PT      0\n",
      "SAEPOVRT5_17R_UB90    0\n",
      "SAEPOVRTALL_LB90      0\n",
      "SAEPOVRTALL_MOE       0\n",
      "SAEPOVRTALL_PT        0\n",
      "SAEPOVRTALL_UB90      0\n",
      "SAEPOVU_0_17          0\n",
      "SAEPOVU_0_4           0\n",
      "SAEPOVU_5_17R         0\n",
      "SAEPOVU_ALL           0\n",
      "YEAR                  0\n",
      "dtype: int64\n",
      "OCC_CODE     0\n",
      "OCC_TITLE    0\n",
      "OCC_GROUP    0\n",
      "TOT_EMP      0\n",
      "EMP_PRSE     0\n",
      "H_MEAN       0\n",
      "A_MEAN       0\n",
      "MEAN_PRSE    0\n",
      "H_PCT10      0\n",
      "H_PCT25      0\n",
      "H_MEDIAN     0\n",
      "H_PCT75      0\n",
      "H_PCT90      0\n",
      "A_PCT10      0\n",
      "A_PCT25      0\n",
      "A_MEDIAN     0\n",
      "A_PCT75      0\n",
      "A_PCT90      0\n",
      "YEAR         0\n",
      "dtype: int64\n",
      "AREA            0\n",
      "STATE           0\n",
      "OCC_CODE        0\n",
      "OCC_TITLE       0\n",
      "OCC_GROUP       0\n",
      "TOT_EMP         0\n",
      "EMP_PRSE        0\n",
      "JOBS_1000       0\n",
      "LOC_QUOTIENT    0\n",
      "H_MEAN          0\n",
      "A_MEAN          0\n",
      "MEAN_PRSE       0\n",
      "H_PCT10         0\n",
      "H_PCT25         0\n",
      "H_MEDIAN        0\n",
      "H_PCT75         0\n",
      "H_PCT90         0\n",
      "A_PCT10         0\n",
      "A_PCT25         0\n",
      "A_MEDIAN        0\n",
      "A_PCT75         0\n",
      "A_PCT90         0\n",
      "YEAR            0\n",
      "dtype: int64\n"
     ]
    }
   ],
   "source": [
    "print(poverty_nat.isna().sum())\n",
    "print(poverty_state.isna().sum())\n",
    "print(national_df.isna().sum())\n",
    "print(state_df.isna().sum())"
   ]
  },
  {
   "cell_type": "code",
   "execution_count": 29,
   "metadata": {},
   "outputs": [
    {
     "name": "stdout",
     "output_type": "stream",
     "text": [
      "SAEMHI_MOE            object\n",
      "SAEMHI_PT             object\n",
      "SAEMHI_UB90           object\n",
      "SAEPOV0_17_LB90       object\n",
      "SAEPOV0_17_MOE        object\n",
      "SAEPOV0_17_PT         object\n",
      "SAEPOV0_17_UB90       object\n",
      "SAEPOV0_4_LB90        object\n",
      "SAEPOV0_4_MOE         object\n",
      "SAEPOV0_4_PT          object\n",
      "SAEPOV0_4_UB90        object\n",
      "SAEPOV5_17R_LB90      object\n",
      "SAEPOV5_17R_MOE       object\n",
      "SAEPOV5_17R_PT        object\n",
      "SAEPOV5_17R_UB90      object\n",
      "SAEPOVALL_LB90        object\n",
      "SAEPOVALL_MOE         object\n",
      "SAEPOVALL_PT          object\n",
      "SAEPOVALL_UB90        object\n",
      "SAEPOVRT0_17_LB90     object\n",
      "SAEPOVRT0_17_MOE      object\n",
      "SAEPOVRT0_17_PT       object\n",
      "SAEPOVRT0_17_UB90     object\n",
      "SAEPOVRT0_4_LB90      object\n",
      "SAEPOVRT0_4_MOE       object\n",
      "SAEPOVRT0_4_PT        object\n",
      "SAEPOVRT0_4_UB90      object\n",
      "SAEPOVRT5_17R_LB90    object\n",
      "SAEPOVRT5_17R_MOE     object\n",
      "SAEPOVRT5_17R_PT      object\n",
      "SAEPOVRT5_17R_UB90    object\n",
      "SAEPOVRTALL_LB90      object\n",
      "SAEPOVRTALL_MOE       object\n",
      "SAEPOVRTALL_PT        object\n",
      "SAEPOVRTALL_UB90      object\n",
      "SAEPOVU_0_17          object\n",
      "SAEPOVU_0_4           object\n",
      "SAEPOVU_5_17R         object\n",
      "SAEPOVU_ALL           object\n",
      "YEAR                  object\n",
      "dtype: object\n",
      "STATE                 object\n",
      "SAEMHI_MOE            object\n",
      "SAEMHI_PT             object\n",
      "SAEMHI_UB90           object\n",
      "SAEPOV0_17_LB90       object\n",
      "SAEPOV0_17_MOE        object\n",
      "SAEPOV0_17_PT         object\n",
      "SAEPOV0_17_UB90       object\n",
      "SAEPOV0_4_LB90        object\n",
      "SAEPOV0_4_MOE         object\n",
      "SAEPOV0_4_PT          object\n",
      "SAEPOV0_4_UB90        object\n",
      "SAEPOV5_17R_LB90      object\n",
      "SAEPOV5_17R_MOE       object\n",
      "SAEPOV5_17R_PT        object\n",
      "SAEPOV5_17R_UB90      object\n",
      "SAEPOVALL_LB90        object\n",
      "SAEPOVALL_MOE         object\n",
      "SAEPOVALL_PT          object\n",
      "SAEPOVALL_UB90        object\n",
      "SAEPOVRT0_17_LB90     object\n",
      "SAEPOVRT0_17_MOE      object\n",
      "SAEPOVRT0_17_PT       object\n",
      "SAEPOVRT0_17_UB90     object\n",
      "SAEPOVRT0_4_LB90      object\n",
      "SAEPOVRT0_4_MOE       object\n",
      "SAEPOVRT0_4_PT        object\n",
      "SAEPOVRT0_4_UB90      object\n",
      "SAEPOVRT5_17R_LB90    object\n",
      "SAEPOVRT5_17R_MOE     object\n",
      "SAEPOVRT5_17R_PT      object\n",
      "SAEPOVRT5_17R_UB90    object\n",
      "SAEPOVRTALL_LB90      object\n",
      "SAEPOVRTALL_MOE       object\n",
      "SAEPOVRTALL_PT        object\n",
      "SAEPOVRTALL_UB90      object\n",
      "SAEPOVU_0_17          object\n",
      "SAEPOVU_0_4           object\n",
      "SAEPOVU_5_17R         object\n",
      "SAEPOVU_ALL           object\n",
      "YEAR                  object\n",
      "dtype: object\n",
      "OCC_CODE      object\n",
      "OCC_TITLE     object\n",
      "OCC_GROUP     object\n",
      "TOT_EMP        int32\n",
      "EMP_PRSE     float64\n",
      "H_MEAN       float64\n",
      "A_MEAN       float64\n",
      "MEAN_PRSE    float64\n",
      "H_PCT10      float64\n",
      "H_PCT25      float64\n",
      "H_MEDIAN     float64\n",
      "H_PCT75      float64\n",
      "H_PCT90      float64\n",
      "A_PCT10      float64\n",
      "A_PCT25      float64\n",
      "A_MEDIAN     float64\n",
      "A_PCT75      float64\n",
      "A_PCT90      float64\n",
      "YEAR           int32\n",
      "dtype: object\n",
      "AREA              int64\n",
      "STATE            object\n",
      "OCC_CODE         object\n",
      "OCC_TITLE        object\n",
      "OCC_GROUP        object\n",
      "TOT_EMP           int32\n",
      "EMP_PRSE        float64\n",
      "JOBS_1000       float64\n",
      "LOC_QUOTIENT    float64\n",
      "H_MEAN          float64\n",
      "A_MEAN          float64\n",
      "MEAN_PRSE       float64\n",
      "H_PCT10         float64\n",
      "H_PCT25         float64\n",
      "H_MEDIAN        float64\n",
      "H_PCT75         float64\n",
      "H_PCT90         float64\n",
      "A_PCT10         float64\n",
      "A_PCT25         float64\n",
      "A_MEDIAN        float64\n",
      "A_PCT75         float64\n",
      "A_PCT90         float64\n",
      "YEAR              int32\n",
      "dtype: object\n"
     ]
    }
   ],
   "source": [
    "print(poverty_nat.dtypes)\n",
    "print(poverty_state.dtypes)\n",
    "print(national_df.dtypes)\n",
    "print(state_df.dtypes)"
   ]
  },
  {
   "cell_type": "code",
   "execution_count": 28,
   "metadata": {},
   "outputs": [],
   "source": [
    "poverty_nat.to_csv('ml/national_poverty.csv', index=False)\n",
    "poverty_state.to_csv('ml/state_poverty.csv', index=False)\n",
    "national_df.to_csv('ml/national_salary.csv', index=False)\n",
    "state_df.to_csv('ml/state_salary.csv', index=False)"
   ]
  }
 ],
 "metadata": {
  "kernelspec": {
   "display_name": "base",
   "language": "python",
   "name": "python3"
  },
  "language_info": {
   "codemirror_mode": {
    "name": "ipython",
    "version": 3
   },
   "file_extension": ".py",
   "mimetype": "text/x-python",
   "name": "python",
   "nbconvert_exporter": "python",
   "pygments_lexer": "ipython3",
   "version": "3.9.13"
  },
  "orig_nbformat": 4
 },
 "nbformat": 4,
 "nbformat_minor": 2
}
