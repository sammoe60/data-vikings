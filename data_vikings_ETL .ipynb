{
 "cells": [
  {
   "cell_type": "code",
   "execution_count": 13,
   "metadata": {},
   "outputs": [],
   "source": [
    "import requests\n",
    "import json\n",
    "import pandas as pd\n",
    "from bs4 import BeautifulSoup"
   ]
  },
  {
   "attachments": {},
   "cell_type": "markdown",
   "metadata": {},
   "source": [
    "Reusable function to change column names to upper"
   ]
  },
  {
   "cell_type": "code",
   "execution_count": 14,
   "metadata": {},
   "outputs": [],
   "source": [
    "def upper_columns(data):\n",
    "    columns = data\n",
    "    myList = []\n",
    "    for name in columns:\n",
    "        myList.append(name.upper())\n",
    "    data.columns = myList"
   ]
  },
  {
   "attachments": {},
   "cell_type": "markdown",
   "metadata": {},
   "source": [
    "### Census.gov API Call"
   ]
  },
  {
   "cell_type": "code",
   "execution_count": 15,
   "metadata": {},
   "outputs": [],
   "source": [
    "response = None\n",
    "url1 = 'https://api.census.gov/data/timeseries/poverty/saipe?get=NAME,SAEPOVRTALL_PT,SAEPOVRT0_17_PT,SAEMHI_PT,YEAR&for=state:*'\n",
    "url2 ='https://api.census.gov/data/timeseries/poverty/saipe?get=SAEPOVRTALL_PT,SAEPOVRT0_17_PT,SAEMHI_PT,YEAR&for=us'\n",
    "\n",
    "poverty_response1 = requests.get(url1)\n",
    "poverty_response2 = requests.get(url2)"
   ]
  },
  {
   "attachments": {},
   "cell_type": "markdown",
   "metadata": {},
   "source": [
    "Convert our api response to json"
   ]
  },
  {
   "cell_type": "code",
   "execution_count": 16,
   "metadata": {},
   "outputs": [],
   "source": [
    "poverty_response_json1 = poverty_response1.json()\n",
    "poverty_response_json2 = poverty_response2.json()"
   ]
  },
  {
   "attachments": {},
   "cell_type": "markdown",
   "metadata": {},
   "source": [
    "load Poverty Data in DF"
   ]
  },
  {
   "cell_type": "code",
   "execution_count": 17,
   "metadata": {},
   "outputs": [],
   "source": [
    "poverty_state = pd.DataFrame(poverty_response_json1[1:], columns=poverty_response_json1[0])\n",
    "poverty_nat = pd.DataFrame(poverty_response_json2[1:], columns=poverty_response_json2[0])"
   ]
  },
  {
   "cell_type": "code",
   "execution_count": 18,
   "metadata": {},
   "outputs": [
    {
     "name": "stdout",
     "output_type": "stream",
     "text": [
      "Index(['NAME', 'SAEPOVRTALL_PT', 'SAEPOVRT0_17_PT', 'SAEMHI_PT', 'YEAR',\n",
      "       'state'],\n",
      "      dtype='object')\n",
      "Index(['SAEPOVRTALL_PT', 'SAEPOVRT0_17_PT', 'SAEMHI_PT', 'YEAR', 'us'], dtype='object')\n"
     ]
    }
   ],
   "source": [
    "print(poverty_state.columns)\n",
    "print(poverty_nat.columns)"
   ]
  },
  {
   "cell_type": "code",
   "execution_count": 19,
   "metadata": {},
   "outputs": [],
   "source": [
    "poverty_state = poverty_state.drop(columns='state')\n",
    "poverty_nat = poverty_nat.drop(columns='us')\n",
    "\n",
    "poverty_state = poverty_state.rename(columns={\"NAME\": \"STATE\", \"SAEPOVRTALL_PT\": \"PR_ALL\", \"SAEPOVRT0_17_PT\": \"PR_YOUTH\", 'SAEMHI_PT': 'MED_HH_INCOME' })\n",
    "poverty_nat = poverty_nat.rename(columns={\"NAME\": \"STATE\", \"SAEPOVRTALL_PT\": \"PR_ALL\", \"SAEPOVRT0_17_PT\": \"PR_YOUTH\", 'SAEMHI_PT': 'MED_HH_INCOME' })"
   ]
  },
  {
   "cell_type": "code",
   "execution_count": 20,
   "metadata": {},
   "outputs": [],
   "source": [
    "poverty_state = poverty_state.astype({'PR_ALL': float, 'PR_YOUTH': float, 'MED_HH_INCOME': float, 'YEAR': int})\n",
    "poverty_nat = poverty_nat.astype({'PR_ALL': float, 'PR_YOUTH': float, 'MED_HH_INCOME': float, 'YEAR': int})"
   ]
  },
  {
   "cell_type": "code",
   "execution_count": 21,
   "metadata": {},
   "outputs": [
    {
     "name": "stdout",
     "output_type": "stream",
     "text": [
      "STATE             object\n",
      "PR_ALL           float64\n",
      "PR_YOUTH         float64\n",
      "MED_HH_INCOME    float64\n",
      "YEAR               int32\n",
      "dtype: object\n",
      "PR_ALL           float64\n",
      "PR_YOUTH         float64\n",
      "MED_HH_INCOME    float64\n",
      "YEAR               int32\n",
      "dtype: object\n"
     ]
    }
   ],
   "source": [
    "print(poverty_state.dtypes)\n",
    "print(poverty_nat.dtypes)"
   ]
  },
  {
   "cell_type": "code",
   "execution_count": 22,
   "metadata": {},
   "outputs": [],
   "source": [
    "# poverty_nat = poverty_nat[poverty_nat['YEAR'] >= 2017]\n",
    "# poverty_state = poverty_state[poverty_state['YEAR'] >= 2017]"
   ]
  },
  {
   "cell_type": "code",
   "execution_count": 23,
   "metadata": {},
   "outputs": [],
   "source": [
    "poverty_state = poverty_state[poverty_state['STATE'] != 'Guam'] \n",
    "poverty_state = poverty_state[poverty_state['STATE'] != 'Puerto Rico'] \n",
    "poverty_state = poverty_state[poverty_state['STATE'] != 'Virgin Islands']\n",
    "poverty_state = poverty_state[poverty_state['STATE'] != 'District of Columbia']"
   ]
  },
  {
   "attachments": {},
   "cell_type": "markdown",
   "metadata": {},
   "source": [
    "# National salary data"
   ]
  },
  {
   "cell_type": "code",
   "execution_count": 24,
   "metadata": {},
   "outputs": [],
   "source": [
    "national2001_df = pd.read_excel(\"data/national_M2001_dl.xls\")\n",
    "national2002_df = pd.read_excel(\"data/national_M2002_dl.xls\")\n",
    "national2003_df = pd.read_excel(\"data/national_M2003_dl.xls\")\n",
    "national2004_df = pd.read_excel(\"data/national_M2004_dl.xls\")\n",
    "national2005_df = pd.read_excel(\"data/national_M2005_dl.xls\")\n",
    "national2006_df = pd.read_excel(\"data/national_M2006_dl.xls\")\n",
    "national2007_df = pd.read_excel(\"data/national_M2007_dl.xls\")\n",
    "national2008_df = pd.read_excel(\"data/national_M2008_dl.xls\")\n",
    "national2009_df = pd.read_excel(\"data/national_M2009_dl.xls\")\n",
    "national2010_df = pd.read_excel(\"data/national_M2010_dl.xls\")\n",
    "national2011_df = pd.read_excel(\"data/national_M2011_dl.xls\")\n",
    "national2012_df = pd.read_excel(\"data/national_M2012_dl.xls\")\n",
    "national2013_df = pd.read_excel(\"data/national_M2013_dl.xls\")\n",
    "national2014_df = pd.read_excel(\"data/national_M2014_dl.xlsx\")\n",
    "national2015_df = pd.read_excel(\"data/national_M2015_dl.xlsx\")\n",
    "national2016_df = pd.read_excel(\"data/national_M2016_dl.xlsx\")\n",
    "national2017_df = pd.read_excel(\"data/national_M2017_dl.xlsx\")\n",
    "national2018_df = pd.read_excel(\"data/national_M2018_dl.xlsx\")\n",
    "national2019_df = pd.read_excel(\"data/national_M2019_dl.xlsx\")\n",
    "national2020_df = pd.read_excel(\"data/national_M2020_dl.xlsx\")\n",
    "national2021_df = pd.read_excel(\"data/national_M2021_dl.xlsx\")\n",
    "national2022_df = pd.read_excel(\"data/national_M2022_dl.xlsx\")"
   ]
  },
  {
   "attachments": {},
   "cell_type": "markdown",
   "metadata": {},
   "source": [
    "Add Year columns to data"
   ]
  },
  {
   "cell_type": "code",
   "execution_count": 25,
   "metadata": {},
   "outputs": [],
   "source": [
    "national2002_df['Year'] = 2002\n",
    "national2003_df['Year'] = 2003\n",
    "national2004_df['Year'] = 2004\n",
    "national2005_df['Year'] = 2005\n",
    "national2006_df['Year'] = 2006\n",
    "national2007_df['Year'] = 2007\n",
    "national2008_df['Year'] = 2008\n",
    "national2009_df['Year'] = 2009\n",
    "national2010_df['Year'] = 2010\n",
    "national2011_df['Year'] = 2011\n",
    "national2012_df['Year'] = 2012\n",
    "national2013_df['Year'] = 2013\n",
    "national2014_df['Year'] = 2014\n",
    "national2015_df['Year'] = 2015\n",
    "national2016_df['Year'] = 2016\n",
    "national2017_df['Year'] = 2017\n",
    "national2018_df['Year'] = 2018\n",
    "national2019_df['Year'] = 2019\n",
    "national2020_df['Year'] = 2020\n",
    "national2021_df['Year'] = 2021\n",
    "national2022_df['Year'] = 2022"
   ]
  },
  {
   "attachments": {},
   "cell_type": "markdown",
   "metadata": {},
   "source": [
    "Capitalize column names"
   ]
  },
  {
   "cell_type": "code",
   "execution_count": 26,
   "metadata": {},
   "outputs": [],
   "source": [
    "upper_columns(national2001_df)\n",
    "upper_columns(national2002_df)\n",
    "upper_columns(national2003_df)\n",
    "upper_columns(national2004_df)\n",
    "upper_columns(national2005_df)\n",
    "upper_columns(national2006_df)\n",
    "upper_columns(national2007_df)\n",
    "upper_columns(national2008_df)\n",
    "upper_columns(national2009_df)\n",
    "upper_columns(national2010_df)\n",
    "upper_columns(national2011_df)\n",
    "upper_columns(national2012_df)\n",
    "upper_columns(national2013_df)\n",
    "upper_columns(national2014_df)\n",
    "upper_columns(national2015_df)\n",
    "upper_columns(national2016_df)\n",
    "upper_columns(national2017_df)\n",
    "upper_columns(national2018_df)\n",
    "upper_columns(national2019_df)\n",
    "upper_columns(national2020_df)\n",
    "upper_columns(national2021_df)\n",
    "upper_columns(national2022_df)"
   ]
  },
  {
   "attachments": {},
   "cell_type": "markdown",
   "metadata": {},
   "source": [
    "Rename columns that dont match"
   ]
  },
  {
   "cell_type": "code",
   "execution_count": 27,
   "metadata": {},
   "outputs": [],
   "source": [
    "n2001_df = national2001_df.rename(columns={ 'GROUP': 'OCC_GROUP', 'H_WPCT10' : 'H_PCT10', 'H_WPCT25' : 'H_PCT25', 'H_WPCT75' : 'H_PCT75', 'H_WPCT90' : 'H_PCT90', 'A_WPCT10' : 'A_PCT10', 'A_WPCT25' : 'A_PCT25', 'A_WPCT75' : 'A_PCT75', 'A_WPCT90' : 'A_PCT90'})\n",
    "n2002_df = national2002_df.rename(columns={ 'GROUP': 'OCC_GROUP', 'H_WPCT10' : 'H_PCT10', 'H_WPCT25' : 'H_PCT25', 'H_WPCT75' : 'H_PCT75', 'H_WPCT90' : 'H_PCT90', 'A_WPCT10' : 'A_PCT10', 'A_WPCT25' : 'A_PCT25', 'A_WPCT75' : 'A_PCT75', 'A_WPCT90' : 'A_PCT90'})\n",
    "n2003_df = national2003_df.rename(columns={ 'GROUP': 'OCC_GROUP'})\n",
    "n2004_df = national2004_df.rename(columns={ 'GROUP': 'OCC_GROUP'})\n",
    "n2005_df = national2005_df.rename(columns={ 'GROUP': 'OCC_GROUP'})\n",
    "n2006_df = national2006_df.rename(columns={ 'GROUP': 'OCC_GROUP'})\n",
    "n2007_df = national2007_df.rename(columns={ 'GROUP': 'OCC_GROUP'})\n",
    "n2008_df = national2008_df.rename(columns={ 'GROUP': 'OCC_GROUP'})\n",
    "n2009_df = national2009_df.rename(columns={'GROUP': 'OCC_GROUP'})\n",
    "n2010_df = national2010_df.rename(columns={'LOC QUOTIENT': 'LOC_QUOTIENT', 'GROUP': 'OCC_GROUP'})\n",
    "n2011_df = national2011_df.rename(columns={'LOC_Q': 'LOC_QUOTIENT', 'GROUP': 'OCC_GROUP'})\n",
    "n2012_df = national2012_df.rename(columns={'LOC_Q': 'LOC_QUOTIENT'})\n",
    "n2013_df = national2013_df.rename(columns={'LOC_Q': 'LOC_QUOTIENT'})\n",
    "n2014_df = national2014_df.rename(columns={'LOC_Q': 'LOC_QUOTIENT'})\n",
    "n2015_df = national2015_df.rename(columns={'LOC_Q': 'LOC_QUOTIENT'})\n",
    "n2016_df = national2016_df.rename(columns={'LOC_Q': 'LOC_QUOTIENT'})\n",
    "n2017_df = national2017_df.rename(columns={'LOC_Q': 'LOC_QUOTIENT'})\n",
    "n2018_df = national2018_df.rename(columns={'LOC_Q': 'LOC_QUOTIENT'})\n",
    "n2019_df = national2019_df.rename(columns={'O_GROUP': 'OCC_GROUP', 'AREA_TITLE': 'STATE'})\n",
    "n2020_df = national2020_df.rename(columns={'O_GROUP': 'OCC_GROUP', 'AREA_TITLE': 'STATE'})\n",
    "n2021_df = national2021_df.rename(columns={'O_GROUP': 'OCC_GROUP', 'AREA_TITLE': 'STATE'})\n",
    "n2022_df = national2022_df.rename(columns={'O_GROUP': 'OCC_GROUP', 'AREA_TITLE': 'STATE'})"
   ]
  },
  {
   "attachments": {},
   "cell_type": "markdown",
   "metadata": {},
   "source": [
    "Filter columns and set correct column order"
   ]
  },
  {
   "cell_type": "code",
   "execution_count": 28,
   "metadata": {},
   "outputs": [],
   "source": [
    "n2001_ordered = n2001_df[[\n",
    "    'OCC_CODE', 'OCC_TITLE', 'OCC_GROUP', 'TOT_EMP',\n",
    "   'EMP_PRSE', 'H_MEAN', 'A_MEAN', 'MEAN_PRSE',\n",
    "   'H_PCT10', 'H_PCT25', 'H_MEDIAN', 'H_PCT75', 'H_PCT90', 'A_PCT10',\n",
    "   'A_PCT25', 'A_MEDIAN', 'A_PCT75', 'A_PCT90', 'YEAR']]\n",
    "n2002_ordered = n2002_df[[\n",
    "    'OCC_CODE', 'OCC_GROUP', 'TOT_EMP',\n",
    "   'EMP_PRSE', 'H_MEAN', 'A_MEAN', 'MEAN_PRSE',\n",
    "   'H_PCT10', 'H_PCT25', 'H_MEDIAN', 'H_PCT75', 'H_PCT90', 'A_PCT10',\n",
    "   'A_PCT25', 'A_MEDIAN', 'A_PCT75', 'A_PCT90', 'YEAR']]\n",
    "n2003_ordered = n2003_df[[\n",
    "  'OCC_CODE', 'OCC_TITLE', 'OCC_GROUP', 'TOT_EMP',\n",
    "   'EMP_PRSE', 'H_MEAN', 'A_MEAN', 'MEAN_PRSE',\n",
    "   'H_PCT10', 'H_PCT25', 'H_MEDIAN', 'H_PCT75', 'H_PCT90', 'A_PCT10',\n",
    "   'A_PCT25', 'A_MEDIAN', 'A_PCT75', 'A_PCT90', 'YEAR']]\n",
    "n2004_ordered = n2004_df[[\n",
    "    'OCC_CODE', 'OCC_TITLE', 'OCC_GROUP', 'TOT_EMP',\n",
    "   'EMP_PRSE', 'H_MEAN', 'A_MEAN', 'MEAN_PRSE',\n",
    "   'H_PCT10', 'H_PCT25', 'H_MEDIAN', 'H_PCT75', 'H_PCT90', 'A_PCT10',\n",
    "   'A_PCT25', 'A_MEDIAN', 'A_PCT75', 'A_PCT90', 'YEAR']]\n",
    "n2005_ordered = n2005_df[[\n",
    "    'OCC_CODE', 'OCC_TITLE', 'OCC_GROUP', 'TOT_EMP',\n",
    "   'EMP_PRSE', 'H_MEAN', 'A_MEAN', 'MEAN_PRSE',\n",
    "   'H_PCT10', 'H_PCT25', 'H_MEDIAN', 'H_PCT75', 'H_PCT90', 'A_PCT10',\n",
    "   'A_PCT25', 'A_MEDIAN', 'A_PCT75', 'A_PCT90', 'YEAR']]\n",
    "n2006_ordered = n2006_df[[\n",
    "    'OCC_CODE', 'OCC_TITLE', 'OCC_GROUP', 'TOT_EMP',\n",
    "   'EMP_PRSE', 'H_MEAN', 'A_MEAN', 'MEAN_PRSE',\n",
    "   'H_PCT10', 'H_PCT25', 'H_MEDIAN', 'H_PCT75', 'H_PCT90', 'A_PCT10',\n",
    "   'A_PCT25', 'A_MEDIAN', 'A_PCT75', 'A_PCT90', 'YEAR']]\n",
    "n2007_ordered = n2007_df[[\n",
    "    'OCC_CODE', 'OCC_TITLE', 'OCC_GROUP', 'TOT_EMP',\n",
    "   'EMP_PRSE', 'H_MEAN', 'A_MEAN', 'MEAN_PRSE',\n",
    "   'H_PCT10', 'H_PCT25', 'H_MEDIAN', 'H_PCT75', 'H_PCT90', 'A_PCT10',\n",
    "   'A_PCT25', 'A_MEDIAN', 'A_PCT75', 'A_PCT90', 'YEAR']]\n",
    "n2008_ordered = n2008_df[[\n",
    "    'OCC_CODE', 'OCC_TITLE', 'OCC_GROUP', 'TOT_EMP',\n",
    "   'EMP_PRSE', 'H_MEAN', 'A_MEAN', 'MEAN_PRSE',\n",
    "   'H_PCT10', 'H_PCT25', 'H_MEDIAN', 'H_PCT75', 'H_PCT90', 'A_PCT10',\n",
    "   'A_PCT25', 'A_MEDIAN', 'A_PCT75', 'A_PCT90', 'YEAR']]\n",
    "n2009_ordered = n2009_df[[\n",
    "    'OCC_CODE', 'OCC_TITLE', 'OCC_GROUP', 'TOT_EMP',\n",
    "   'EMP_PRSE', 'H_MEAN', 'A_MEAN', 'MEAN_PRSE',\n",
    "   'H_PCT10', 'H_PCT25', 'H_MEDIAN', 'H_PCT75', 'H_PCT90', 'A_PCT10',\n",
    "   'A_PCT25', 'A_MEDIAN', 'A_PCT75', 'A_PCT90', 'YEAR']]\n",
    "n2010_ordered = n2010_df[[\n",
    "    'OCC_CODE', 'OCC_TITLE', 'OCC_GROUP', 'TOT_EMP',\n",
    "   'EMP_PRSE', 'H_MEAN', 'A_MEAN', 'MEAN_PRSE',\n",
    "   'H_PCT10', 'H_PCT25', 'H_MEDIAN', 'H_PCT75', 'H_PCT90', 'A_PCT10',\n",
    "   'A_PCT25', 'A_MEDIAN', 'A_PCT75', 'A_PCT90', 'YEAR']]\n",
    "n2011_ordered = n2011_df[[\n",
    "    'OCC_CODE', 'OCC_TITLE', 'OCC_GROUP', 'TOT_EMP',\n",
    "   'EMP_PRSE',  'H_MEAN', 'A_MEAN', 'MEAN_PRSE',\n",
    "   'H_PCT10', 'H_PCT25', 'H_MEDIAN', 'H_PCT75', 'H_PCT90', 'A_PCT10',\n",
    "   'A_PCT25', 'A_MEDIAN', 'A_PCT75', 'A_PCT90', 'YEAR']]\n",
    "n2012_ordered = n2012_df[[\n",
    "    'OCC_CODE', 'OCC_TITLE', 'OCC_GROUP', 'TOT_EMP',\n",
    "   'EMP_PRSE',  'H_MEAN', 'A_MEAN', 'MEAN_PRSE',\n",
    "   'H_PCT10', 'H_PCT25', 'H_MEDIAN', 'H_PCT75', 'H_PCT90', 'A_PCT10',\n",
    "   'A_PCT25', 'A_MEDIAN', 'A_PCT75', 'A_PCT90', 'YEAR']]\n",
    "n2013_ordered = n2013_df[[\n",
    "    'OCC_CODE', 'OCC_TITLE', 'OCC_GROUP', 'TOT_EMP',\n",
    "   'EMP_PRSE',  'H_MEAN', 'A_MEAN', 'MEAN_PRSE',\n",
    "   'H_PCT10', 'H_PCT25', 'H_MEDIAN', 'H_PCT75', 'H_PCT90', 'A_PCT10',\n",
    "   'A_PCT25', 'A_MEDIAN', 'A_PCT75', 'A_PCT90', 'YEAR']]\n",
    "n2014_ordered = n2014_df[[\n",
    "   'OCC_CODE', 'OCC_TITLE', 'OCC_GROUP', 'TOT_EMP',\n",
    "   'EMP_PRSE',  'H_MEAN', 'A_MEAN', 'MEAN_PRSE',\n",
    "   'H_PCT10', 'H_PCT25', 'H_MEDIAN', 'H_PCT75', 'H_PCT90', 'A_PCT10',\n",
    "   'A_PCT25', 'A_MEDIAN', 'A_PCT75', 'A_PCT90', 'YEAR']]\n",
    "n2015_ordered = n2015_df[[\n",
    "    'OCC_CODE', 'OCC_TITLE', 'OCC_GROUP', 'TOT_EMP',\n",
    "   'EMP_PRSE',  'H_MEAN', 'A_MEAN', 'MEAN_PRSE',\n",
    "   'H_PCT10', 'H_PCT25', 'H_MEDIAN', 'H_PCT75', 'H_PCT90', 'A_PCT10',\n",
    "   'A_PCT25', 'A_MEDIAN', 'A_PCT75', 'A_PCT90', 'YEAR']]\n",
    "n2016_ordered = n2016_df[[\n",
    "    'OCC_CODE', 'OCC_TITLE', 'OCC_GROUP', 'TOT_EMP',\n",
    "   'EMP_PRSE',  'H_MEAN', 'A_MEAN', 'MEAN_PRSE',\n",
    "   'H_PCT10', 'H_PCT25', 'H_MEDIAN', 'H_PCT75', 'H_PCT90', 'A_PCT10',\n",
    "   'A_PCT25', 'A_MEDIAN', 'A_PCT75', 'A_PCT90', 'YEAR']]\n",
    "n2017_ordered = n2017_df[[\n",
    "    'OCC_CODE', 'OCC_TITLE', 'OCC_GROUP', 'TOT_EMP',\n",
    "   'EMP_PRSE',  'H_MEAN', 'A_MEAN', 'MEAN_PRSE',\n",
    "   'H_PCT10', 'H_PCT25', 'H_MEDIAN', 'H_PCT75', 'H_PCT90', 'A_PCT10',\n",
    "   'A_PCT25', 'A_MEDIAN', 'A_PCT75', 'A_PCT90', 'YEAR']]\n",
    "n2018_ordered = n2018_df[[\n",
    "    'OCC_CODE', 'OCC_TITLE', 'OCC_GROUP', 'TOT_EMP',\n",
    "   'EMP_PRSE',  'H_MEAN', 'A_MEAN', 'MEAN_PRSE',\n",
    "  'H_PCT10', 'H_PCT25', 'H_MEDIAN', 'H_PCT75', 'H_PCT90', 'A_PCT10',\n",
    "   'A_PCT25', 'A_MEDIAN', 'A_PCT75', 'A_PCT90', 'YEAR']]\n",
    "n2019_ordered = n2019_df[[\n",
    "    'OCC_CODE', 'OCC_TITLE', 'OCC_GROUP', 'TOT_EMP',\n",
    "   'EMP_PRSE',  'H_MEAN', 'A_MEAN', 'MEAN_PRSE',\n",
    "   'H_PCT10', 'H_PCT25', 'H_MEDIAN', 'H_PCT75', 'H_PCT90', 'A_PCT10',\n",
    "   'A_PCT25', 'A_MEDIAN', 'A_PCT75', 'A_PCT90', 'YEAR']]\n",
    "n2020_ordered = n2020_df[[\n",
    "   'OCC_CODE', 'OCC_TITLE', 'OCC_GROUP', 'TOT_EMP',\n",
    "   'EMP_PRSE',  'H_MEAN', 'A_MEAN', 'MEAN_PRSE',\n",
    "   'H_PCT10', 'H_PCT25', 'H_MEDIAN', 'H_PCT75', 'H_PCT90', 'A_PCT10',\n",
    "   'A_PCT25', 'A_MEDIAN', 'A_PCT75', 'A_PCT90', 'YEAR']]\n",
    "n2021_ordered = n2021_df[[\n",
    "    'OCC_CODE', 'OCC_TITLE', 'OCC_GROUP', 'TOT_EMP',\n",
    "   'EMP_PRSE',  'H_MEAN', 'A_MEAN', 'MEAN_PRSE',\n",
    "   'H_PCT10', 'H_PCT25', 'H_MEDIAN', 'H_PCT75', 'H_PCT90', 'A_PCT10',\n",
    "   'A_PCT25', 'A_MEDIAN', 'A_PCT75', 'A_PCT90', 'YEAR']]\n",
    "n2022_ordered = n2022_df[[\n",
    "     'OCC_CODE', 'OCC_TITLE', 'OCC_GROUP', 'TOT_EMP',\n",
    "    'EMP_PRSE',  'H_MEAN', 'A_MEAN', 'MEAN_PRSE',\n",
    "    'H_PCT10', 'H_PCT25', 'H_MEDIAN', 'H_PCT75', 'H_PCT90', 'A_PCT10',\n",
    "    'A_PCT25', 'A_MEDIAN', 'A_PCT75', 'A_PCT90', 'YEAR']]"
   ]
  },
  {
   "attachments": {},
   "cell_type": "markdown",
   "metadata": {},
   "source": [
    "Concat all National data into one df"
   ]
  },
  {
   "cell_type": "code",
   "execution_count": 29,
   "metadata": {},
   "outputs": [
    {
     "data": {
      "text/plain": [
       "(23969, 19)"
      ]
     },
     "execution_count": 29,
     "metadata": {},
     "output_type": "execute_result"
    }
   ],
   "source": [
    "national_df = pd.concat([n2001_ordered,n2002_ordered,n2003_ordered,n2004_ordered,\n",
    "                         n2005_ordered,n2006_ordered, n2007_ordered,n2008_ordered,\n",
    "                         n2009_ordered,n2010_ordered, n2011_ordered,n2012_ordered,\n",
    "                         n2013_ordered,n2014_ordered,n2015_ordered,n2016_ordered,\n",
    "                         n2017_ordered,n2018_ordered,n2019_ordered,n2020_ordered,\n",
    "                         n2021_ordered,n2022_ordered ], axis=0)\n",
    "national_df.shape"
   ]
  },
  {
   "cell_type": "code",
   "execution_count": 30,
   "metadata": {},
   "outputs": [
    {
     "data": {
      "text/html": [
       "<div>\n",
       "<style scoped>\n",
       "    .dataframe tbody tr th:only-of-type {\n",
       "        vertical-align: middle;\n",
       "    }\n",
       "\n",
       "    .dataframe tbody tr th {\n",
       "        vertical-align: top;\n",
       "    }\n",
       "\n",
       "    .dataframe thead th {\n",
       "        text-align: right;\n",
       "    }\n",
       "</style>\n",
       "<table border=\"1\" class=\"dataframe\">\n",
       "  <thead>\n",
       "    <tr style=\"text-align: right;\">\n",
       "      <th></th>\n",
       "      <th>OCC_TITLE</th>\n",
       "      <th>OCC_GROUP</th>\n",
       "      <th>TOT_EMP</th>\n",
       "      <th>H_MEAN</th>\n",
       "      <th>A_MEAN</th>\n",
       "      <th>H_MEDIAN</th>\n",
       "      <th>A_MEDIAN</th>\n",
       "      <th>YEAR</th>\n",
       "    </tr>\n",
       "  </thead>\n",
       "  <tbody>\n",
       "    <tr>\n",
       "      <th>0</th>\n",
       "      <td>All Occupations</td>\n",
       "      <td>NaN</td>\n",
       "      <td>127980410</td>\n",
       "      <td>16.35</td>\n",
       "      <td>34020</td>\n",
       "      <td>13.01</td>\n",
       "      <td>27060</td>\n",
       "      <td>2001</td>\n",
       "    </tr>\n",
       "    <tr>\n",
       "      <th>1</th>\n",
       "      <td>Management Occupations</td>\n",
       "      <td>major</td>\n",
       "      <td>7212360</td>\n",
       "      <td>34.04</td>\n",
       "      <td>70800</td>\n",
       "      <td>30.88</td>\n",
       "      <td>64220</td>\n",
       "      <td>2001</td>\n",
       "    </tr>\n",
       "    <tr>\n",
       "      <th>2</th>\n",
       "      <td>Chief Executives</td>\n",
       "      <td>NaN</td>\n",
       "      <td>455930</td>\n",
       "      <td>51.77</td>\n",
       "      <td>107670</td>\n",
       "      <td>57.91</td>\n",
       "      <td>120450</td>\n",
       "      <td>2001</td>\n",
       "    </tr>\n",
       "    <tr>\n",
       "      <th>3</th>\n",
       "      <td>General and Operations Managers</td>\n",
       "      <td>NaN</td>\n",
       "      <td>2064220</td>\n",
       "      <td>35.37</td>\n",
       "      <td>73570</td>\n",
       "      <td>31.25</td>\n",
       "      <td>65000</td>\n",
       "      <td>2001</td>\n",
       "    </tr>\n",
       "    <tr>\n",
       "      <th>4</th>\n",
       "      <td>Legislators</td>\n",
       "      <td>NaN</td>\n",
       "      <td>67400</td>\n",
       "      <td>13.54</td>\n",
       "      <td>28170</td>\n",
       "      <td>7.05</td>\n",
       "      <td>14650</td>\n",
       "      <td>2001</td>\n",
       "    </tr>\n",
       "    <tr>\n",
       "      <th>...</th>\n",
       "      <td>...</td>\n",
       "      <td>...</td>\n",
       "      <td>...</td>\n",
       "      <td>...</td>\n",
       "      <td>...</td>\n",
       "      <td>...</td>\n",
       "      <td>...</td>\n",
       "      <td>...</td>\n",
       "    </tr>\n",
       "    <tr>\n",
       "      <th>1397</th>\n",
       "      <td>Refuse and Recyclable Material Collectors</td>\n",
       "      <td>detailed</td>\n",
       "      <td>132240</td>\n",
       "      <td>21.91</td>\n",
       "      <td>45560</td>\n",
       "      <td>20.94</td>\n",
       "      <td>43540</td>\n",
       "      <td>2022</td>\n",
       "    </tr>\n",
       "    <tr>\n",
       "      <th>1398</th>\n",
       "      <td>Tank Car, Truck, and Ship Loaders</td>\n",
       "      <td>broad</td>\n",
       "      <td>12470</td>\n",
       "      <td>28.21</td>\n",
       "      <td>58680</td>\n",
       "      <td>25.93</td>\n",
       "      <td>53930</td>\n",
       "      <td>2022</td>\n",
       "    </tr>\n",
       "    <tr>\n",
       "      <th>1399</th>\n",
       "      <td>Tank Car, Truck, and Ship Loaders</td>\n",
       "      <td>detailed</td>\n",
       "      <td>12470</td>\n",
       "      <td>28.21</td>\n",
       "      <td>58680</td>\n",
       "      <td>25.93</td>\n",
       "      <td>53930</td>\n",
       "      <td>2022</td>\n",
       "    </tr>\n",
       "    <tr>\n",
       "      <th>1400</th>\n",
       "      <td>Miscellaneous Material Moving Workers</td>\n",
       "      <td>broad</td>\n",
       "      <td>24880</td>\n",
       "      <td>20.81</td>\n",
       "      <td>43290</td>\n",
       "      <td>18.65</td>\n",
       "      <td>38800</td>\n",
       "      <td>2022</td>\n",
       "    </tr>\n",
       "    <tr>\n",
       "      <th>1401</th>\n",
       "      <td>Material Moving Workers, All Other</td>\n",
       "      <td>detailed</td>\n",
       "      <td>24880</td>\n",
       "      <td>20.81</td>\n",
       "      <td>43290</td>\n",
       "      <td>18.65</td>\n",
       "      <td>38800</td>\n",
       "      <td>2022</td>\n",
       "    </tr>\n",
       "  </tbody>\n",
       "</table>\n",
       "<p>23969 rows × 8 columns</p>\n",
       "</div>"
      ],
      "text/plain": [
       "                                      OCC_TITLE OCC_GROUP    TOT_EMP H_MEAN  \\\n",
       "0                               All Occupations       NaN  127980410  16.35   \n",
       "1                        Management Occupations     major    7212360  34.04   \n",
       "2                              Chief Executives       NaN     455930  51.77   \n",
       "3               General and Operations Managers       NaN    2064220  35.37   \n",
       "4                                   Legislators       NaN      67400  13.54   \n",
       "...                                         ...       ...        ...    ...   \n",
       "1397  Refuse and Recyclable Material Collectors  detailed     132240  21.91   \n",
       "1398          Tank Car, Truck, and Ship Loaders     broad      12470  28.21   \n",
       "1399          Tank Car, Truck, and Ship Loaders  detailed      12470  28.21   \n",
       "1400      Miscellaneous Material Moving Workers     broad      24880  20.81   \n",
       "1401         Material Moving Workers, All Other  detailed      24880  20.81   \n",
       "\n",
       "      A_MEAN H_MEDIAN A_MEDIAN  YEAR  \n",
       "0      34020    13.01    27060  2001  \n",
       "1      70800    30.88    64220  2001  \n",
       "2     107670    57.91   120450  2001  \n",
       "3      73570    31.25    65000  2001  \n",
       "4      28170     7.05    14650  2001  \n",
       "...      ...      ...      ...   ...  \n",
       "1397   45560    20.94    43540  2022  \n",
       "1398   58680    25.93    53930  2022  \n",
       "1399   58680    25.93    53930  2022  \n",
       "1400   43290    18.65    38800  2022  \n",
       "1401   43290    18.65    38800  2022  \n",
       "\n",
       "[23969 rows x 8 columns]"
      ]
     },
     "execution_count": 30,
     "metadata": {},
     "output_type": "execute_result"
    }
   ],
   "source": [
    "national_df = national_df[[\n",
    "    'OCC_TITLE', 'OCC_GROUP', 'TOT_EMP', 'H_MEAN',\n",
    "    'A_MEAN', 'H_MEDIAN', 'A_MEDIAN', 'YEAR']]\n",
    "national_df"
   ]
  },
  {
   "attachments": {},
   "cell_type": "markdown",
   "metadata": {},
   "source": [
    "Remove missing data:"
   ]
  },
  {
   "cell_type": "code",
   "execution_count": 31,
   "metadata": {},
   "outputs": [
    {
     "data": {
      "text/html": [
       "<div>\n",
       "<style scoped>\n",
       "    .dataframe tbody tr th:only-of-type {\n",
       "        vertical-align: middle;\n",
       "    }\n",
       "\n",
       "    .dataframe tbody tr th {\n",
       "        vertical-align: top;\n",
       "    }\n",
       "\n",
       "    .dataframe thead th {\n",
       "        text-align: right;\n",
       "    }\n",
       "</style>\n",
       "<table border=\"1\" class=\"dataframe\">\n",
       "  <thead>\n",
       "    <tr style=\"text-align: right;\">\n",
       "      <th></th>\n",
       "      <th>OCC_TITLE</th>\n",
       "      <th>OCC_GROUP</th>\n",
       "      <th>TOT_EMP</th>\n",
       "      <th>H_MEAN</th>\n",
       "      <th>A_MEAN</th>\n",
       "      <th>H_MEDIAN</th>\n",
       "      <th>A_MEDIAN</th>\n",
       "      <th>YEAR</th>\n",
       "    </tr>\n",
       "  </thead>\n",
       "  <tbody>\n",
       "    <tr>\n",
       "      <th>0</th>\n",
       "      <td>All Occupations</td>\n",
       "      <td>NaN</td>\n",
       "      <td>127980410</td>\n",
       "      <td>16.35</td>\n",
       "      <td>34020</td>\n",
       "      <td>13.01</td>\n",
       "      <td>27060</td>\n",
       "      <td>2001</td>\n",
       "    </tr>\n",
       "  </tbody>\n",
       "</table>\n",
       "</div>"
      ],
      "text/plain": [
       "         OCC_TITLE OCC_GROUP    TOT_EMP H_MEAN A_MEAN H_MEDIAN A_MEDIAN  YEAR\n",
       "0  All Occupations       NaN  127980410  16.35  34020    13.01    27060  2001"
      ]
     },
     "execution_count": 31,
     "metadata": {},
     "output_type": "execute_result"
    }
   ],
   "source": [
    "cols = list(national_df.columns)\n",
    "for col in cols: \n",
    "    national_df = national_df[national_df[col] != '#']\n",
    "    national_df = national_df[national_df[col] != '*']\n",
    "    national_df = national_df[national_df[col] != '**']\n",
    "national_df.head(1)"
   ]
  },
  {
   "attachments": {},
   "cell_type": "markdown",
   "metadata": {},
   "source": [
    "Convert types:"
   ]
  },
  {
   "cell_type": "code",
   "execution_count": 32,
   "metadata": {},
   "outputs": [
    {
     "name": "stdout",
     "output_type": "stream",
     "text": [
      "Index(['OCC_TITLE', 'OCC_GROUP', 'TOT_EMP', 'H_MEAN', 'A_MEAN', 'H_MEDIAN',\n",
      "       'A_MEDIAN', 'YEAR'],\n",
      "      dtype='object')\n",
      "OCC_TITLE    object\n",
      "OCC_GROUP    object\n",
      "TOT_EMP      object\n",
      "H_MEAN       object\n",
      "A_MEAN       object\n",
      "H_MEDIAN     object\n",
      "A_MEDIAN     object\n",
      "YEAR          int64\n",
      "dtype: object\n"
     ]
    }
   ],
   "source": [
    "print(national_df.columns)\n",
    "print(national_df.dtypes)"
   ]
  },
  {
   "cell_type": "code",
   "execution_count": 33,
   "metadata": {},
   "outputs": [
    {
     "name": "stdout",
     "output_type": "stream",
     "text": [
      "OCC_TITLE    object\n",
      "OCC_GROUP    object\n",
      "TOT_EMP      object\n",
      "H_MEAN       object\n",
      "A_MEAN       object\n",
      "H_MEDIAN     object\n",
      "A_MEDIAN     object\n",
      "YEAR          int64\n",
      "dtype: object\n"
     ]
    }
   ],
   "source": [
    "nat_final_df = national_df.astype({'TOT_EMP': int, 'H_MEAN': float, 'A_MEAN': float, 'H_MEDIAN': float, 'A_MEDIAN': float, 'YEAR': int})\n",
    "print(national_df.dtypes)"
   ]
  },
  {
   "attachments": {},
   "cell_type": "markdown",
   "metadata": {},
   "source": [
    "# State salary data"
   ]
  },
  {
   "attachments": {},
   "cell_type": "markdown",
   "metadata": {},
   "source": [
    "Read in state salary data from excel"
   ]
  },
  {
   "cell_type": "code",
   "execution_count": 34,
   "metadata": {},
   "outputs": [],
   "source": [
    "state2001_df = pd.read_excel(\"data/state_M2001_dl.xls\")\n",
    "state2002_df = pd.read_excel(\"data/state_M2002_dl.xls\")\n",
    "state2003_df = pd.read_excel(\"data/state_M2003_dl.xls\")\n",
    "state2004_df = pd.read_excel(\"data/state_M2004_dl.xls\")\n",
    "state2005_df = pd.read_excel(\"data/state_M2005_dl.xls\")\n",
    "state2006_df = pd.read_excel(\"data/state_M2006_dl.xls\")\n",
    "state2007_df = pd.read_excel(\"data/state_M2007_dl.xls\")\n",
    "state2008_df = pd.read_excel(\"data/state_M2008_dl.xls\")\n",
    "state2009_df = pd.read_excel(\"data/state_M2009_dl.xls\")\n",
    "state2010_df = pd.read_excel(\"data/state_M2010_dl.xls\")\n",
    "state2011_df = pd.read_excel(\"data/state_M2011_dl.xls\")\n",
    "state2012_df = pd.read_excel(\"data/state_M2012_dl.xls\")\n",
    "state2013_df = pd.read_excel(\"data/state_M2013_dl.xls\")\n",
    "state2014_df = pd.read_excel(\"data/state_M2014_dl.xlsx\")\n",
    "state2015_df = pd.read_excel(\"data/state_M2015_dl.xlsx\")\n",
    "state2016_df = pd.read_excel(\"data/state_M2016_dl.xlsx\")\n",
    "state2017_df = pd.read_excel(\"data/state_M2017_dl.xlsx\")\n",
    "state2018_df = pd.read_excel(\"data/state_M2018_dl.xlsx\")\n",
    "state2019_df = pd.read_excel(\"data/state_M2019_dl.xlsx\")\n",
    "state2020_df = pd.read_excel(\"data/state_M2020_dl.xlsx\")\n",
    "state2021_df = pd.read_excel(\"data/state_M2021_dl.xlsx\")\n",
    "state2022_df = pd.read_excel(\"data/state_M2022_dl.xlsx\")"
   ]
  },
  {
   "cell_type": "code",
   "execution_count": 35,
   "metadata": {},
   "outputs": [],
   "source": [
    "state2002_df['Year'] = 2002\n",
    "state2003_df['Year'] = 2003\n",
    "state2004_df['Year'] = 2004\n",
    "state2005_df['Year'] = 2005\n",
    "state2006_df['Year'] = 2006\n",
    "state2007_df['Year'] = 2007\n",
    "state2008_df['Year'] = 2008\n",
    "state2009_df['Year'] = 2009\n",
    "state2010_df['Year'] = 2010\n",
    "state2011_df['Year'] = 2011\n",
    "state2012_df['Year'] = 2012\n",
    "state2013_df['Year'] = 2013\n",
    "state2014_df['Year'] = 2014\n",
    "state2015_df['Year'] = 2015\n",
    "state2016_df['Year'] = 2016\n",
    "state2017_df['Year'] = 2017\n",
    "state2018_df['Year'] = 2018\n",
    "state2019_df['Year'] = 2019\n",
    "state2020_df['Year'] = 2020\n",
    "state2021_df['Year'] = 2021\n",
    "state2022_df['Year'] = 2022"
   ]
  },
  {
   "cell_type": "code",
   "execution_count": 36,
   "metadata": {},
   "outputs": [],
   "source": [
    "upper_columns(state2001_df)\n",
    "upper_columns(state2002_df)\n",
    "upper_columns(state2003_df)\n",
    "upper_columns(state2004_df)\n",
    "upper_columns(state2005_df)\n",
    "upper_columns(state2006_df)\n",
    "upper_columns(state2007_df)\n",
    "upper_columns(state2008_df)\n",
    "upper_columns(state2009_df)\n",
    "upper_columns(state2010_df)\n",
    "upper_columns(state2011_df)\n",
    "upper_columns(state2012_df)\n",
    "upper_columns(state2013_df)\n",
    "upper_columns(state2014_df)\n",
    "upper_columns(state2015_df)\n",
    "upper_columns(state2016_df)\n",
    "upper_columns(state2017_df)\n",
    "upper_columns(state2018_df)\n",
    "upper_columns(state2019_df)\n",
    "upper_columns(state2020_df)\n",
    "upper_columns(state2021_df)\n",
    "upper_columns(state2022_df)"
   ]
  },
  {
   "attachments": {},
   "cell_type": "markdown",
   "metadata": {},
   "source": [
    "Rename columns that are unmatched"
   ]
  },
  {
   "cell_type": "code",
   "execution_count": 37,
   "metadata": {},
   "outputs": [],
   "source": [
    "s2001_df = state2001_df.rename(columns={ 'GROUP': 'OCC_GROUP', 'H_WPCT10' : 'H_PCT10', 'H_WPCT25' : 'H_PCT25', 'H_WPCT75' : 'H_PCT75', 'H_WPCT90' : 'H_PCT90', 'A_WPCT10' : 'A_PCT10', 'A_WPCT25' : 'A_PCT25', 'A_WPCT75' : 'A_PCT75', 'A_WPCT90' : 'A_PCT90'})\n",
    "s2002_df = state2002_df.rename(columns={ 'GROUP': 'OCC_GROUP', 'H_WPCT10' : 'H_PCT10', 'H_WPCT25' : 'H_PCT25', 'H_WPCT75' : 'H_PCT75', 'H_WPCT90' : 'H_PCT90', 'A_WPCT10' : 'A_PCT10', 'A_WPCT25' : 'A_PCT25', 'A_WPCT75' : 'A_PCT75', 'A_WPCT90' : 'A_PCT90'})\n",
    "s2003_df = state2003_df.rename(columns={ 'GROUP': 'OCC_GROUP'})\n",
    "s2004_df = state2004_df.rename(columns={ 'GROUP': 'OCC_GROUP'})\n",
    "s2005_df = state2005_df.rename(columns={ 'GROUP': 'OCC_GROUP'})\n",
    "s2006_df = state2006_df.rename(columns={ 'GROUP': 'OCC_GROUP'})\n",
    "s2007_df = state2007_df.rename(columns={ 'GROUP': 'OCC_GROUP'})\n",
    "s2008_df = state2008_df.rename(columns={ 'GROUP': 'OCC_GROUP'})\n",
    "s2009_df = state2009_df.rename(columns={'GROUP': 'OCC_GROUP'})\n",
    "s2010_df = state2010_df.rename(columns={'LOC QUOTIENT': 'LOC_QUOTIENT', 'GROUP': 'OCC_GROUP'})\n",
    "s2011_df = state2011_df.rename(columns={'LOC_Q': 'LOC_QUOTIENT', 'GROUP': 'OCC_GROUP'})\n",
    "s2012_df = state2012_df.rename(columns={'LOC_Q': 'LOC_QUOTIENT'})\n",
    "s2013_df = state2013_df.rename(columns={'LOC_Q': 'LOC_QUOTIENT'})\n",
    "s2014_df = state2014_df.rename(columns={'LOC_Q': 'LOC_QUOTIENT'})\n",
    "s2015_df = state2015_df.rename(columns={'LOC_Q': 'LOC_QUOTIENT'})\n",
    "s2016_df = state2016_df.rename(columns={'LOC_Q': 'LOC_QUOTIENT'})\n",
    "s2017_df = state2017_df.rename(columns={'LOC_Q': 'LOC_QUOTIENT'})\n",
    "s2018_df = state2018_df.rename(columns={'LOC_Q': 'LOC_QUOTIENT'})\n",
    "s2019_df = state2019_df.rename(columns={'O_GROUP': 'OCC_GROUP', 'AREA_TITLE': 'STATE'})\n",
    "s2020_df = state2020_df.rename(columns={'O_GROUP': 'OCC_GROUP', 'AREA_TITLE': 'STATE'})\n",
    "s2021_df = state2021_df.rename(columns={'O_GROUP': 'OCC_GROUP', 'AREA_TITLE': 'STATE'})\n",
    "s2022_df = state2022_df.rename(columns={'O_GROUP': 'OCC_GROUP', 'AREA_TITLE': 'STATE'})\n"
   ]
  },
  {
   "attachments": {},
   "cell_type": "markdown",
   "metadata": {},
   "source": [
    "Filter columns and set correct column order"
   ]
  },
  {
   "cell_type": "code",
   "execution_count": 38,
   "metadata": {},
   "outputs": [],
   "source": [
    "s2001_ordered = s2001_df[[\n",
    "    'AREA', 'STATE', 'OCC_CODE', 'OCC_TITLE', 'OCC_GROUP', 'TOT_EMP',\n",
    "    'EMP_PRSE', 'H_MEAN', 'A_MEAN', 'MEAN_PRSE',\n",
    "    'H_PCT10', 'H_PCT25', 'H_MEDIAN', 'H_PCT75', 'H_PCT90', 'A_PCT10',\n",
    "    'A_PCT25', 'A_MEDIAN', 'A_PCT75', 'A_PCT90', 'YEAR']]\n",
    "s2002_ordered = s2002_df[[\n",
    "    'AREA', 'STATE', 'OCC_CODE', 'OCC_TITLE', 'OCC_GROUP', 'TOT_EMP',\n",
    "    'EMP_PRSE',  'H_MEAN', 'A_MEAN', 'MEAN_PRSE',\n",
    "    'H_PCT10', 'H_PCT25', 'H_MEDIAN', 'H_PCT75', 'H_PCT90', 'A_PCT10',\n",
    "    'A_PCT25', 'A_MEDIAN', 'A_PCT75', 'A_PCT90', 'YEAR']]\n",
    "s2003_ordered = s2003_df[[\n",
    "    'AREA', 'STATE', 'OCC_CODE', 'OCC_TITLE', 'OCC_GROUP', 'TOT_EMP',\n",
    "    'EMP_PRSE',  'H_MEAN', 'A_MEAN', 'MEAN_PRSE',\n",
    "    'H_PCT10', 'H_PCT25', 'H_MEDIAN', 'H_PCT75', 'H_PCT90', 'A_PCT10',\n",
    "    'A_PCT25', 'A_MEDIAN', 'A_PCT75', 'A_PCT90', 'YEAR']]\n",
    "s2004_ordered = s2004_df[[\n",
    "    'AREA', 'STATE', 'OCC_CODE', 'OCC_TITLE', 'OCC_GROUP', 'TOT_EMP',\n",
    "    'EMP_PRSE',  'H_MEAN', 'A_MEAN', 'MEAN_PRSE',\n",
    "    'H_PCT10', 'H_PCT25', 'H_MEDIAN', 'H_PCT75', 'H_PCT90', 'A_PCT10',\n",
    "    'A_PCT25', 'A_MEDIAN', 'A_PCT75', 'A_PCT90', 'YEAR']]\n",
    "s2005_ordered = s2005_df[[\n",
    "    'AREA', 'STATE', 'OCC_CODE', 'OCC_TITLE', 'OCC_GROUP', 'TOT_EMP',\n",
    "    'EMP_PRSE',  'H_MEAN', 'A_MEAN', 'MEAN_PRSE',\n",
    "    'H_PCT10', 'H_PCT25', 'H_MEDIAN', 'H_PCT75', 'H_PCT90', 'A_PCT10',\n",
    "    'A_PCT25', 'A_MEDIAN', 'A_PCT75', 'A_PCT90', 'YEAR']]\n",
    "s2006_ordered = s2006_df[[\n",
    "    'AREA', 'STATE', 'OCC_CODE', 'OCC_TITLE', 'OCC_GROUP', 'TOT_EMP',\n",
    "    'EMP_PRSE',  'H_MEAN', 'A_MEAN', 'MEAN_PRSE',\n",
    "    'H_PCT10', 'H_PCT25', 'H_MEDIAN', 'H_PCT75', 'H_PCT90', 'A_PCT10',\n",
    "    'A_PCT25', 'A_MEDIAN', 'A_PCT75', 'A_PCT90', 'YEAR']]\n",
    "s2007_ordered = s2007_df[[\n",
    "    'AREA', 'STATE', 'OCC_CODE', 'OCC_TITLE', 'OCC_GROUP', 'TOT_EMP',\n",
    "    'EMP_PRSE',  'H_MEAN', 'A_MEAN', 'MEAN_PRSE',\n",
    "    'H_PCT10', 'H_PCT25', 'H_MEDIAN', 'H_PCT75', 'H_PCT90', 'A_PCT10',\n",
    "    'A_PCT25', 'A_MEDIAN', 'A_PCT75', 'A_PCT90', 'YEAR']]\n",
    "s2008_ordered = s2008_df[[\n",
    "    'AREA', 'STATE', 'OCC_CODE', 'OCC_TITLE', 'OCC_GROUP', 'TOT_EMP',\n",
    "    'EMP_PRSE', 'H_MEAN', 'A_MEAN', 'MEAN_PRSE',\n",
    "    'H_PCT10', 'H_PCT25', 'H_MEDIAN', 'H_PCT75', 'H_PCT90', 'A_PCT10',\n",
    "    'A_PCT25', 'A_MEDIAN', 'A_PCT75', 'A_PCT90', 'YEAR']]\n",
    "s2009_ordered = s2009_df[[\n",
    "    'AREA', 'STATE', 'OCC_CODE', 'OCC_TITLE', 'OCC_GROUP', 'TOT_EMP',\n",
    "    'EMP_PRSE', 'H_MEAN', 'A_MEAN', 'MEAN_PRSE',\n",
    "    'H_PCT10', 'H_PCT25', 'H_MEDIAN', 'H_PCT75', 'H_PCT90', 'A_PCT10',\n",
    "    'A_PCT25', 'A_MEDIAN', 'A_PCT75', 'A_PCT90', 'YEAR']]\n",
    "s2010_ordered = s2010_df[[\n",
    "    'AREA', 'STATE', 'OCC_CODE', 'OCC_TITLE', 'OCC_GROUP', 'TOT_EMP',\n",
    "    'EMP_PRSE', 'JOBS_1000', 'LOC_QUOTIENT', 'H_MEAN', 'A_MEAN', 'MEAN_PRSE',\n",
    "    'H_PCT10', 'H_PCT25', 'H_MEDIAN', 'H_PCT75', 'H_PCT90', 'A_PCT10',\n",
    "    'A_PCT25', 'A_MEDIAN', 'A_PCT75', 'A_PCT90', 'YEAR']]\n",
    "s2011_ordered = s2011_df[[\n",
    "    'AREA', 'STATE', 'OCC_CODE', 'OCC_TITLE', 'OCC_GROUP', 'TOT_EMP',\n",
    "    'EMP_PRSE', 'JOBS_1000', 'LOC_QUOTIENT', 'H_MEAN', 'A_MEAN', 'MEAN_PRSE',\n",
    "    'H_PCT10', 'H_PCT25', 'H_MEDIAN', 'H_PCT75', 'H_PCT90', 'A_PCT10',\n",
    "    'A_PCT25', 'A_MEDIAN', 'A_PCT75', 'A_PCT90', 'YEAR']]\n",
    "s2012_ordered = s2012_df[[\n",
    "    'AREA', 'STATE', 'OCC_CODE', 'OCC_TITLE', 'OCC_GROUP', 'TOT_EMP',\n",
    "    'EMP_PRSE', 'JOBS_1000', 'LOC_QUOTIENT', 'H_MEAN', 'A_MEAN', 'MEAN_PRSE',\n",
    "    'H_PCT10', 'H_PCT25', 'H_MEDIAN', 'H_PCT75', 'H_PCT90', 'A_PCT10',\n",
    "    'A_PCT25', 'A_MEDIAN', 'A_PCT75', 'A_PCT90', 'YEAR']]\n",
    "s2013_ordered = s2013_df[[\n",
    "    'AREA', 'STATE', 'OCC_CODE', 'OCC_TITLE', 'OCC_GROUP', 'TOT_EMP',\n",
    "    'EMP_PRSE', 'JOBS_1000', 'LOC_QUOTIENT', 'H_MEAN', 'A_MEAN', 'MEAN_PRSE',\n",
    "    'H_PCT10', 'H_PCT25', 'H_MEDIAN', 'H_PCT75', 'H_PCT90', 'A_PCT10',\n",
    "    'A_PCT25', 'A_MEDIAN', 'A_PCT75', 'A_PCT90', 'YEAR']]\n",
    "s2014_ordered = s2014_df[[\n",
    "    'AREA', 'STATE', 'OCC_CODE', 'OCC_TITLE', 'OCC_GROUP', 'TOT_EMP',\n",
    "    'EMP_PRSE', 'JOBS_1000', 'LOC_QUOTIENT', 'H_MEAN', 'A_MEAN', 'MEAN_PRSE',\n",
    "    'H_PCT10', 'H_PCT25', 'H_MEDIAN', 'H_PCT75', 'H_PCT90', 'A_PCT10',\n",
    "    'A_PCT25', 'A_MEDIAN', 'A_PCT75', 'A_PCT90', 'YEAR']]\n",
    "s2015_ordered = s2015_df[[\n",
    "    'AREA', 'STATE', 'OCC_CODE', 'OCC_TITLE', 'OCC_GROUP', 'TOT_EMP',\n",
    "    'EMP_PRSE', 'JOBS_1000', 'LOC_QUOTIENT', 'H_MEAN', 'A_MEAN', 'MEAN_PRSE',\n",
    "    'H_PCT10', 'H_PCT25', 'H_MEDIAN', 'H_PCT75', 'H_PCT90', 'A_PCT10',\n",
    "    'A_PCT25', 'A_MEDIAN', 'A_PCT75', 'A_PCT90', 'YEAR']]\n",
    "s2016_ordered = s2016_df[[\n",
    "    'AREA', 'STATE', 'OCC_CODE', 'OCC_TITLE', 'OCC_GROUP', 'TOT_EMP',\n",
    "    'EMP_PRSE', 'JOBS_1000', 'LOC_QUOTIENT', 'H_MEAN', 'A_MEAN', 'MEAN_PRSE',\n",
    "    'H_PCT10', 'H_PCT25', 'H_MEDIAN', 'H_PCT75', 'H_PCT90', 'A_PCT10',\n",
    "    'A_PCT25', 'A_MEDIAN', 'A_PCT75', 'A_PCT90', 'YEAR']]\n",
    "s2017_ordered = s2017_df[[\n",
    "    'AREA', 'STATE', 'OCC_CODE', 'OCC_TITLE', 'OCC_GROUP', 'TOT_EMP',\n",
    "    'EMP_PRSE', 'JOBS_1000', 'LOC_QUOTIENT', 'H_MEAN', 'A_MEAN', 'MEAN_PRSE',\n",
    "    'H_PCT10', 'H_PCT25', 'H_MEDIAN', 'H_PCT75', 'H_PCT90', 'A_PCT10',\n",
    "    'A_PCT25', 'A_MEDIAN', 'A_PCT75', 'A_PCT90', 'YEAR']]\n",
    "s2018_ordered = s2018_df[[\n",
    "    'AREA', 'STATE', 'OCC_CODE', 'OCC_TITLE', 'OCC_GROUP', 'TOT_EMP',\n",
    "    'EMP_PRSE', 'JOBS_1000', 'LOC_QUOTIENT', 'H_MEAN', 'A_MEAN', 'MEAN_PRSE',\n",
    "    'H_PCT10', 'H_PCT25', 'H_MEDIAN', 'H_PCT75', 'H_PCT90', 'A_PCT10',\n",
    "    'A_PCT25', 'A_MEDIAN', 'A_PCT75', 'A_PCT90', 'YEAR']]\n",
    "s2019_ordered = s2019_df[[\n",
    "    'AREA', 'STATE', 'OCC_CODE', 'OCC_TITLE', 'OCC_GROUP', 'TOT_EMP',\n",
    "    'EMP_PRSE', 'JOBS_1000', 'LOC_QUOTIENT', 'H_MEAN', 'A_MEAN', 'MEAN_PRSE',\n",
    "    'H_PCT10', 'H_PCT25', 'H_MEDIAN', 'H_PCT75', 'H_PCT90', 'A_PCT10',\n",
    "    'A_PCT25', 'A_MEDIAN', 'A_PCT75', 'A_PCT90', 'YEAR']]\n",
    "s2020_ordered = s2020_df[[\n",
    "    'AREA', 'STATE', 'OCC_CODE', 'OCC_TITLE', 'OCC_GROUP', 'TOT_EMP',\n",
    "    'EMP_PRSE', 'JOBS_1000', 'LOC_QUOTIENT', 'H_MEAN', 'A_MEAN', 'MEAN_PRSE',\n",
    "    'H_PCT10', 'H_PCT25', 'H_MEDIAN', 'H_PCT75', 'H_PCT90', 'A_PCT10',\n",
    "    'A_PCT25', 'A_MEDIAN', 'A_PCT75', 'A_PCT90', 'YEAR']]\n",
    "s2021_ordered = s2021_df[[\n",
    "    'AREA', 'STATE', 'OCC_CODE', 'OCC_TITLE', 'OCC_GROUP', 'TOT_EMP',\n",
    "    'EMP_PRSE', 'JOBS_1000', 'LOC_QUOTIENT', 'H_MEAN', 'A_MEAN', 'MEAN_PRSE',\n",
    "    'H_PCT10', 'H_PCT25', 'H_MEDIAN', 'H_PCT75', 'H_PCT90', 'A_PCT10',\n",
    "    'A_PCT25', 'A_MEDIAN', 'A_PCT75', 'A_PCT90', 'YEAR']]\n",
    "s2022_ordered = s2022_df[[\n",
    "    'AREA', 'STATE', 'OCC_CODE', 'OCC_TITLE', 'OCC_GROUP', 'TOT_EMP',\n",
    "    'EMP_PRSE', 'JOBS_1000', 'LOC_QUOTIENT', 'H_MEAN', 'A_MEAN', 'MEAN_PRSE',\n",
    "    'H_PCT10', 'H_PCT25', 'H_MEDIAN', 'H_PCT75', 'H_PCT90', 'A_PCT10',\n",
    "    'A_PCT25', 'A_MEDIAN', 'A_PCT75', 'A_PCT90', 'YEAR']]\n"
   ]
  },
  {
   "attachments": {},
   "cell_type": "markdown",
   "metadata": {},
   "source": [
    "Concat all State data into one df"
   ]
  },
  {
   "cell_type": "code",
   "execution_count": 39,
   "metadata": {},
   "outputs": [
    {
     "data": {
      "text/plain": [
       "(798959, 23)"
      ]
     },
     "execution_count": 39,
     "metadata": {},
     "output_type": "execute_result"
    }
   ],
   "source": [
    "state_df = pd.concat([s2001_ordered, s2002_ordered, s2003_ordered,s2004_ordered,s2005_ordered,s2006_ordered\n",
    "                      ,s2007_ordered,s2008_ordered,s2009_ordered,s2010_ordered,s2011_ordered,s2012_ordered,\n",
    "                      s2013_ordered,s2014_ordered,s2015_ordered,s2016_ordered,s2017_ordered,s2018_ordered,\n",
    "                      s2019_ordered,s2020_ordered,s2021_ordered,s2022_ordered], axis=0)\n",
    "state_df.shape"
   ]
  },
  {
   "attachments": {},
   "cell_type": "markdown",
   "metadata": {},
   "source": [
    "Remove non-state territories"
   ]
  },
  {
   "cell_type": "code",
   "execution_count": 40,
   "metadata": {},
   "outputs": [
    {
     "data": {
      "text/plain": [
       "Index(['AREA', 'STATE', 'OCC_CODE', 'OCC_TITLE', 'OCC_GROUP', 'TOT_EMP',\n",
       "       'EMP_PRSE', 'H_MEAN', 'A_MEAN', 'MEAN_PRSE', 'H_PCT10', 'H_PCT25',\n",
       "       'H_MEDIAN', 'H_PCT75', 'H_PCT90', 'A_PCT10', 'A_PCT25', 'A_MEDIAN',\n",
       "       'A_PCT75', 'A_PCT90', 'YEAR', 'JOBS_1000', 'LOC_QUOTIENT'],\n",
       "      dtype='object')"
      ]
     },
     "execution_count": 40,
     "metadata": {},
     "output_type": "execute_result"
    }
   ],
   "source": [
    "state_df = state_df[state_df['STATE'] != 'Guam'] \n",
    "state_df = state_df[state_df['STATE'] != 'Puerto Rico'] \n",
    "state_df = state_df[state_df['STATE'] != 'Virgin Islands']\n",
    "state_df = state_df[state_df['STATE'] != 'District of Columbia']\n",
    "state_df.columns"
   ]
  },
  {
   "attachments": {},
   "cell_type": "markdown",
   "metadata": {},
   "source": [
    "Filter out unnecessary columns"
   ]
  },
  {
   "cell_type": "code",
   "execution_count": 41,
   "metadata": {},
   "outputs": [],
   "source": [
    "state_df = state_df[[\n",
    "    'STATE', 'OCC_TITLE', 'OCC_GROUP', 'TOT_EMP',\n",
    "    'JOBS_1000', 'LOC_QUOTIENT', 'H_MEAN', 'A_MEAN', \n",
    "    'H_MEDIAN', 'A_MEDIAN', 'YEAR']]"
   ]
  },
  {
   "attachments": {},
   "cell_type": "markdown",
   "metadata": {},
   "source": [
    "Remove missing data"
   ]
  },
  {
   "cell_type": "code",
   "execution_count": 42,
   "metadata": {},
   "outputs": [],
   "source": [
    "cols = list(state_df.columns)\n",
    "for col in cols:\n",
    "    state_df = state_df[state_df[col] != '#']\n",
    "    state_df = state_df[state_df[col] != '*']\n",
    "    state_df = state_df[state_df[col] != '**']\n"
   ]
  },
  {
   "attachments": {},
   "cell_type": "markdown",
   "metadata": {},
   "source": [
    "Convert types"
   ]
  },
  {
   "cell_type": "code",
   "execution_count": 43,
   "metadata": {},
   "outputs": [],
   "source": [
    "state_final_df = state_df.astype({'TOT_EMP': int, 'JOBS_1000': float, 'LOC_QUOTIENT': float, 'H_MEAN': float, 'A_MEAN': float, 'H_MEDIAN': float, 'A_MEDIAN': float, 'YEAR': int})"
   ]
  },
  {
   "cell_type": "code",
   "execution_count": 44,
   "metadata": {},
   "outputs": [
    {
     "name": "stdout",
     "output_type": "stream",
     "text": [
      "PR_ALL           0\n",
      "PR_YOUTH         0\n",
      "MED_HH_INCOME    0\n",
      "YEAR             0\n",
      "dtype: int64\n",
      "STATE            0\n",
      "PR_ALL           0\n",
      "PR_YOUTH         0\n",
      "MED_HH_INCOME    0\n",
      "YEAR             0\n",
      "dtype: int64\n",
      "OCC_TITLE     673\n",
      "OCC_GROUP    7790\n",
      "TOT_EMP         0\n",
      "H_MEAN          0\n",
      "A_MEAN          0\n",
      "H_MEDIAN        0\n",
      "A_MEDIAN        0\n",
      "YEAR            0\n",
      "dtype: int64\n",
      "STATE                0\n",
      "OCC_TITLE            0\n",
      "OCC_GROUP       315171\n",
      "TOT_EMP              0\n",
      "JOBS_1000       265637\n",
      "LOC_QUOTIENT    265637\n",
      "H_MEAN               0\n",
      "A_MEAN               0\n",
      "H_MEDIAN             0\n",
      "A_MEDIAN             0\n",
      "YEAR                 0\n",
      "dtype: int64\n"
     ]
    }
   ],
   "source": [
    "print(poverty_nat.isna().sum())\n",
    "print(poverty_state.isna().sum())\n",
    "print(nat_final_df.isna().sum())\n",
    "print(state_final_df.isna().sum())"
   ]
  },
  {
   "cell_type": "code",
   "execution_count": 45,
   "metadata": {},
   "outputs": [
    {
     "name": "stdout",
     "output_type": "stream",
     "text": [
      "PR_ALL           float64\n",
      "PR_YOUTH         float64\n",
      "MED_HH_INCOME    float64\n",
      "YEAR               int32\n",
      "dtype: object\n",
      "STATE             object\n",
      "PR_ALL           float64\n",
      "PR_YOUTH         float64\n",
      "MED_HH_INCOME    float64\n",
      "YEAR               int32\n",
      "dtype: object\n",
      "OCC_TITLE     object\n",
      "OCC_GROUP     object\n",
      "TOT_EMP        int32\n",
      "H_MEAN       float64\n",
      "A_MEAN       float64\n",
      "H_MEDIAN     float64\n",
      "A_MEDIAN     float64\n",
      "YEAR           int32\n",
      "dtype: object\n",
      "STATE            object\n",
      "OCC_TITLE        object\n",
      "OCC_GROUP        object\n",
      "TOT_EMP           int32\n",
      "JOBS_1000       float64\n",
      "LOC_QUOTIENT    float64\n",
      "H_MEAN          float64\n",
      "A_MEAN          float64\n",
      "H_MEDIAN        float64\n",
      "A_MEDIAN        float64\n",
      "YEAR              int32\n",
      "dtype: object\n",
      "(29, 4)\n",
      "(1450, 5)\n",
      "(22155, 8)\n",
      "(670962, 11)\n"
     ]
    }
   ],
   "source": [
    "print(poverty_nat.dtypes)\n",
    "print(poverty_state.dtypes)\n",
    "print(nat_final_df.dtypes)\n",
    "print(state_final_df.dtypes)\n",
    "print(poverty_nat.shape)\n",
    "print(poverty_state.shape)\n",
    "print(nat_final_df.shape)\n",
    "print(state_final_df.shape)"
   ]
  },
  {
   "cell_type": "code",
   "execution_count": 46,
   "metadata": {},
   "outputs": [],
   "source": [
    "poverty_state.to_csv('output/state_poverty.csv', index=False)\n",
    "poverty_nat.to_csv('output/national_poverty.csv', index=False)\n",
    "nat_final_df.to_csv('output/national_salary.csv', index=False)\n",
    "state_final_df.to_csv('output/state_salary.csv', index=False)"
   ]
  }
 ],
 "metadata": {
  "kernelspec": {
   "display_name": "base",
   "language": "python",
   "name": "python3"
  },
  "language_info": {
   "codemirror_mode": {
    "name": "ipython",
    "version": 3
   },
   "file_extension": ".py",
   "mimetype": "text/x-python",
   "name": "python",
   "nbconvert_exporter": "python",
   "pygments_lexer": "ipython3",
   "version": "3.9.13"
  },
  "orig_nbformat": 4
 },
 "nbformat": 4,
 "nbformat_minor": 2
}
