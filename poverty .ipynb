{
 "cells": [
  {
   "cell_type": "code",
   "execution_count": 1,
   "metadata": {},
   "outputs": [],
   "source": [
    "import requests\n",
    "import json\n",
    "import pandas as pd\n",
    "from bs4 import BeautifulSoup"
   ]
  },
  {
   "attachments": {},
   "cell_type": "markdown",
   "metadata": {},
   "source": [
    "### Census.gov API Call"
   ]
  },
  {
   "cell_type": "code",
   "execution_count": 2,
   "metadata": {},
   "outputs": [],
   "source": [
    "response = None\n",
    "url1 = 'https://api.census.gov/data/timeseries/poverty/saipe?get=NAME,SAEPOVRTALL_PT,SAEPOVRT0_17_PT,SAEMHI_PT,YEAR&for=state:*'\n",
    "url2 ='https://api.census.gov/data/timeseries/poverty/saipe?get=SAEPOVRTALL_PT,SAEPOVRT0_17_PT,SAEMHI_PT,YEAR&for=us'\n",
    "\n",
    "poverty_response1 = requests.get(url1)\n",
    "poverty_response2 = requests.get(url2)"
   ]
  },
  {
   "attachments": {},
   "cell_type": "markdown",
   "metadata": {},
   "source": [
    "Convert our api response to json"
   ]
  },
  {
   "cell_type": "code",
   "execution_count": 3,
   "metadata": {},
   "outputs": [],
   "source": [
    "poverty_response_json1 = poverty_response1.json()\n",
    "poverty_response_json2 = poverty_response2.json()"
   ]
  },
  {
   "attachments": {},
   "cell_type": "markdown",
   "metadata": {},
   "source": [
    "load Poverty Data in DF"
   ]
  },
  {
   "cell_type": "code",
   "execution_count": 4,
   "metadata": {},
   "outputs": [],
   "source": [
    "poverty_state = pd.DataFrame(poverty_response_json1[1:], columns=poverty_response_json1[0])\n",
    "poverty_nat = pd.DataFrame(poverty_response_json2[1:], columns=poverty_response_json2[0])"
   ]
  },
  {
   "cell_type": "code",
   "execution_count": 5,
   "metadata": {},
   "outputs": [
    {
     "name": "stdout",
     "output_type": "stream",
     "text": [
      "Index(['NAME', 'SAEPOVRTALL_PT', 'SAEPOVRT0_17_PT', 'SAEMHI_PT', 'YEAR',\n",
      "       'state'],\n",
      "      dtype='object')\n",
      "Index(['SAEPOVRTALL_PT', 'SAEPOVRT0_17_PT', 'SAEMHI_PT', 'YEAR', 'us'], dtype='object')\n"
     ]
    }
   ],
   "source": [
    "print(poverty_state.columns)\n",
    "print(poverty_nat.columns)"
   ]
  },
  {
   "cell_type": "code",
   "execution_count": 6,
   "metadata": {},
   "outputs": [],
   "source": [
    "poverty_state = poverty_state.drop(columns='state')\n",
    "poverty_nat = poverty_nat.drop(columns='us')\n",
    "\n",
    "poverty_state = poverty_state.rename(columns={\"NAME\": \"STATE\", \"SAEPOVRTALL_PT\": \"PR_ALL\", \"SAEPOVRT0_17_PT\": \"PR_YOUTH\", 'SAEMHI_PT': 'MED_HH_INCOME' })\n",
    "poverty_nat = poverty_nat.rename(columns={\"NAME\": \"STATE\", \"SAEPOVRTALL_PT\": \"PR_ALL\", \"SAEPOVRT0_17_PT\": \"PR_YOUTH\", 'SAEMHI_PT': 'MED_HH_INCOME' })"
   ]
  },
  {
   "cell_type": "code",
   "execution_count": 7,
   "metadata": {},
   "outputs": [],
   "source": [
    "poverty_state = poverty_state.astype({'PR_ALL': float, 'PR_YOUTH': float, 'MED_HH_INCOME': float, 'YEAR': int})\n",
    "poverty_nat = poverty_nat.astype({'PR_ALL': float, 'PR_YOUTH': float, 'MED_HH_INCOME': float, 'YEAR': int})"
   ]
  },
  {
   "cell_type": "code",
   "execution_count": 8,
   "metadata": {},
   "outputs": [
    {
     "name": "stdout",
     "output_type": "stream",
     "text": [
      "STATE             object\n",
      "PR_ALL           float64\n",
      "PR_YOUTH         float64\n",
      "MED_HH_INCOME    float64\n",
      "YEAR               int32\n",
      "dtype: object\n",
      "PR_ALL           float64\n",
      "PR_YOUTH         float64\n",
      "MED_HH_INCOME    float64\n",
      "YEAR               int32\n",
      "dtype: object\n"
     ]
    }
   ],
   "source": [
    "print(poverty_state.dtypes)\n",
    "print(poverty_nat.dtypes)"
   ]
  },
  {
   "cell_type": "code",
   "execution_count": 9,
   "metadata": {},
   "outputs": [],
   "source": [
    "poverty_nat = poverty_nat[poverty_nat['YEAR'] >= 2017]\n",
    "poverty_state = poverty_state[poverty_state['YEAR'] >= 2017]"
   ]
  },
  {
   "cell_type": "code",
   "execution_count": 10,
   "metadata": {},
   "outputs": [],
   "source": [
    "poverty_state = poverty_state[poverty_state['STATE'] != 'Guam'] \n",
    "poverty_state = poverty_state[poverty_state['STATE'] != 'Puerto Rico'] \n",
    "poverty_state = poverty_state[poverty_state['STATE'] != 'Virgin Islands']\n",
    "poverty_state = poverty_state[poverty_state['STATE'] != 'District of Columbia']"
   ]
  },
  {
   "attachments": {},
   "cell_type": "markdown",
   "metadata": {},
   "source": [
    "# National salary data"
   ]
  },
  {
   "cell_type": "code",
   "execution_count": 11,
   "metadata": {},
   "outputs": [],
   "source": [
    "national2018_df = pd.read_excel(\"data/national_M2018_dl.xlsx\")\n",
    "national2019_df = pd.read_excel(\"data/national_M2019_dl.xlsx\")\n",
    "national2020_df = pd.read_excel(\"data/national_M2020_dl.xlsx\")\n",
    "national2021_df = pd.read_excel(\"data/national_M2021_dl.xlsx\")\n",
    "national2017_df = pd.read_excel(\"data/national_M2017_dl.xlsx\")\n",
    "national2017_df['Year'] = 2017\n",
    "national2018_df['Year'] = 2018\n",
    "national2019_df['Year'] = 2019\n",
    "national2020_df['Year'] = 2020\n",
    "national2021_df['Year'] = 2021"
   ]
  },
  {
   "attachments": {},
   "cell_type": "markdown",
   "metadata": {},
   "source": [
    "Add Year columns to data"
   ]
  },
  {
   "attachments": {},
   "cell_type": "markdown",
   "metadata": {},
   "source": [
    "Reusable function to change column names to upper"
   ]
  },
  {
   "cell_type": "code",
   "execution_count": 12,
   "metadata": {},
   "outputs": [],
   "source": [
    "def upper_columns(data):\n",
    "    columns = data\n",
    "    myList = []\n",
    "    for name in columns:\n",
    "        myList.append(name.upper())\n",
    "    data.columns = myList"
   ]
  },
  {
   "cell_type": "code",
   "execution_count": 13,
   "metadata": {},
   "outputs": [],
   "source": [
    "upper_columns(national2017_df)\n",
    "upper_columns(national2018_df)\n",
    "upper_columns(national2019_df)\n",
    "upper_columns(national2020_df)\n",
    "upper_columns(national2021_df)"
   ]
  },
  {
   "attachments": {},
   "cell_type": "markdown",
   "metadata": {},
   "source": [
    "Rename columns that dont match"
   ]
  },
  {
   "cell_type": "code",
   "execution_count": 14,
   "metadata": {},
   "outputs": [],
   "source": [
    "national2019_df = national2019_df.rename(columns={'O_GROUP': 'OCC_GROUP'})\n",
    "national2020_df = national2020_df.rename(columns={'O_GROUP': 'OCC_GROUP'})\n",
    "national2021_df = national2021_df.rename(columns={'O_GROUP': 'OCC_GROUP'})"
   ]
  },
  {
   "attachments": {},
   "cell_type": "markdown",
   "metadata": {},
   "source": [
    "Filter columns and set correct column order"
   ]
  },
  {
   "cell_type": "code",
   "execution_count": 15,
   "metadata": {},
   "outputs": [],
   "source": [
    "national2017_ordered = national2017_df[[\n",
    "    'OCC_CODE', 'OCC_TITLE', 'OCC_GROUP', 'TOT_EMP', 'EMP_PRSE', 'H_MEAN',\n",
    "    'A_MEAN', 'MEAN_PRSE', 'H_PCT10', 'H_PCT25', 'H_MEDIAN', 'H_PCT75',\n",
    "    'H_PCT90', 'A_PCT10', 'A_PCT25', 'A_MEDIAN', 'A_PCT75', 'A_PCT90',\n",
    "    'YEAR']]\n",
    "national2018_ordered = national2018_df[[\n",
    "    'OCC_CODE', 'OCC_TITLE', 'OCC_GROUP', 'TOT_EMP', 'EMP_PRSE', 'H_MEAN',\n",
    "    'A_MEAN', 'MEAN_PRSE', 'H_PCT10', 'H_PCT25', 'H_MEDIAN', 'H_PCT75',\n",
    "    'H_PCT90', 'A_PCT10', 'A_PCT25', 'A_MEDIAN', 'A_PCT75', 'A_PCT90',\n",
    "    'YEAR']]\n",
    "national2019_ordered = national2019_df[[\n",
    "    'OCC_CODE', 'OCC_TITLE', 'OCC_GROUP', 'TOT_EMP', 'EMP_PRSE', 'H_MEAN',\n",
    "    'A_MEAN', 'MEAN_PRSE', 'H_PCT10', 'H_PCT25', 'H_MEDIAN', 'H_PCT75',\n",
    "    'H_PCT90', 'A_PCT10', 'A_PCT25', 'A_MEDIAN', 'A_PCT75', 'A_PCT90',\n",
    "    'YEAR']]\n",
    "national2020_ordered = national2020_df[[\n",
    "    'OCC_CODE', 'OCC_TITLE', 'OCC_GROUP', 'TOT_EMP', 'EMP_PRSE', 'H_MEAN',\n",
    "    'A_MEAN', 'MEAN_PRSE', 'H_PCT10', 'H_PCT25', 'H_MEDIAN', 'H_PCT75',\n",
    "    'H_PCT90', 'A_PCT10', 'A_PCT25', 'A_MEDIAN', 'A_PCT75', 'A_PCT90',\n",
    "    'YEAR']]\n",
    "national2021_ordered = national2021_df[[\n",
    "    'OCC_CODE', 'OCC_TITLE', 'OCC_GROUP', 'TOT_EMP', 'EMP_PRSE', 'H_MEAN',\n",
    "    'A_MEAN', 'MEAN_PRSE', 'H_PCT10', 'H_PCT25', 'H_MEDIAN', 'H_PCT75',\n",
    "    'H_PCT90', 'A_PCT10', 'A_PCT25', 'A_MEDIAN', 'A_PCT75', 'A_PCT90',\n",
    "    'YEAR']]"
   ]
  },
  {
   "attachments": {},
   "cell_type": "markdown",
   "metadata": {},
   "source": [
    "Concat all National data into one df"
   ]
  },
  {
   "cell_type": "code",
   "execution_count": 16,
   "metadata": {},
   "outputs": [
    {
     "data": {
      "text/html": [
       "<div>\n",
       "<style scoped>\n",
       "    .dataframe tbody tr th:only-of-type {\n",
       "        vertical-align: middle;\n",
       "    }\n",
       "\n",
       "    .dataframe tbody tr th {\n",
       "        vertical-align: top;\n",
       "    }\n",
       "\n",
       "    .dataframe thead th {\n",
       "        text-align: right;\n",
       "    }\n",
       "</style>\n",
       "<table border=\"1\" class=\"dataframe\">\n",
       "  <thead>\n",
       "    <tr style=\"text-align: right;\">\n",
       "      <th></th>\n",
       "      <th>OCC_CODE</th>\n",
       "      <th>OCC_TITLE</th>\n",
       "      <th>OCC_GROUP</th>\n",
       "      <th>TOT_EMP</th>\n",
       "      <th>EMP_PRSE</th>\n",
       "      <th>H_MEAN</th>\n",
       "      <th>A_MEAN</th>\n",
       "      <th>MEAN_PRSE</th>\n",
       "      <th>H_PCT10</th>\n",
       "      <th>H_PCT25</th>\n",
       "      <th>H_MEDIAN</th>\n",
       "      <th>H_PCT75</th>\n",
       "      <th>H_PCT90</th>\n",
       "      <th>A_PCT10</th>\n",
       "      <th>A_PCT25</th>\n",
       "      <th>A_MEDIAN</th>\n",
       "      <th>A_PCT75</th>\n",
       "      <th>A_PCT90</th>\n",
       "      <th>YEAR</th>\n",
       "    </tr>\n",
       "  </thead>\n",
       "  <tbody>\n",
       "    <tr>\n",
       "      <th>0</th>\n",
       "      <td>00-0000</td>\n",
       "      <td>All Occupations</td>\n",
       "      <td>total</td>\n",
       "      <td>142549250</td>\n",
       "      <td>0.1</td>\n",
       "      <td>24.34</td>\n",
       "      <td>50620</td>\n",
       "      <td>0.1</td>\n",
       "      <td>9.6</td>\n",
       "      <td>11.91</td>\n",
       "      <td>18.12</td>\n",
       "      <td>29.38</td>\n",
       "      <td>46.23</td>\n",
       "      <td>19970</td>\n",
       "      <td>24770</td>\n",
       "      <td>37690</td>\n",
       "      <td>61110</td>\n",
       "      <td>96150</td>\n",
       "      <td>2017</td>\n",
       "    </tr>\n",
       "    <tr>\n",
       "      <th>1</th>\n",
       "      <td>11-0000</td>\n",
       "      <td>Management Occupations</td>\n",
       "      <td>major</td>\n",
       "      <td>7280330</td>\n",
       "      <td>0.2</td>\n",
       "      <td>57.65</td>\n",
       "      <td>119910</td>\n",
       "      <td>0.1</td>\n",
       "      <td>23.19</td>\n",
       "      <td>33.6</td>\n",
       "      <td>49.32</td>\n",
       "      <td>71.83</td>\n",
       "      <td>#</td>\n",
       "      <td>48220</td>\n",
       "      <td>69880</td>\n",
       "      <td>102590</td>\n",
       "      <td>149410</td>\n",
       "      <td>#</td>\n",
       "      <td>2017</td>\n",
       "    </tr>\n",
       "    <tr>\n",
       "      <th>2</th>\n",
       "      <td>11-1000</td>\n",
       "      <td>Top Executives</td>\n",
       "      <td>minor</td>\n",
       "      <td>2473740</td>\n",
       "      <td>0.3</td>\n",
       "      <td>61.55</td>\n",
       "      <td>128020</td>\n",
       "      <td>0.2</td>\n",
       "      <td>20.74</td>\n",
       "      <td>31.74</td>\n",
       "      <td>49.58</td>\n",
       "      <td>78.72</td>\n",
       "      <td>#</td>\n",
       "      <td>43140</td>\n",
       "      <td>66030</td>\n",
       "      <td>103120</td>\n",
       "      <td>163740</td>\n",
       "      <td>#</td>\n",
       "      <td>2017</td>\n",
       "    </tr>\n",
       "    <tr>\n",
       "      <th>3</th>\n",
       "      <td>11-1010</td>\n",
       "      <td>Chief Executives</td>\n",
       "      <td>broad</td>\n",
       "      <td>210160</td>\n",
       "      <td>0.7</td>\n",
       "      <td>94.25</td>\n",
       "      <td>196050</td>\n",
       "      <td>0.4</td>\n",
       "      <td>32.74</td>\n",
       "      <td>54.55</td>\n",
       "      <td>88.11</td>\n",
       "      <td>#</td>\n",
       "      <td>#</td>\n",
       "      <td>68110</td>\n",
       "      <td>113470</td>\n",
       "      <td>183270</td>\n",
       "      <td>#</td>\n",
       "      <td>#</td>\n",
       "      <td>2017</td>\n",
       "    </tr>\n",
       "    <tr>\n",
       "      <th>4</th>\n",
       "      <td>11-1011</td>\n",
       "      <td>Chief Executives</td>\n",
       "      <td>detailed</td>\n",
       "      <td>210160</td>\n",
       "      <td>0.7</td>\n",
       "      <td>94.25</td>\n",
       "      <td>196050</td>\n",
       "      <td>0.4</td>\n",
       "      <td>32.74</td>\n",
       "      <td>54.55</td>\n",
       "      <td>88.11</td>\n",
       "      <td>#</td>\n",
       "      <td>#</td>\n",
       "      <td>68110</td>\n",
       "      <td>113470</td>\n",
       "      <td>183270</td>\n",
       "      <td>#</td>\n",
       "      <td>#</td>\n",
       "      <td>2017</td>\n",
       "    </tr>\n",
       "    <tr>\n",
       "      <th>...</th>\n",
       "      <td>...</td>\n",
       "      <td>...</td>\n",
       "      <td>...</td>\n",
       "      <td>...</td>\n",
       "      <td>...</td>\n",
       "      <td>...</td>\n",
       "      <td>...</td>\n",
       "      <td>...</td>\n",
       "      <td>...</td>\n",
       "      <td>...</td>\n",
       "      <td>...</td>\n",
       "      <td>...</td>\n",
       "      <td>...</td>\n",
       "      <td>...</td>\n",
       "      <td>...</td>\n",
       "      <td>...</td>\n",
       "      <td>...</td>\n",
       "      <td>...</td>\n",
       "      <td>...</td>\n",
       "    </tr>\n",
       "    <tr>\n",
       "      <th>1398</th>\n",
       "      <td>53-7081</td>\n",
       "      <td>Refuse and Recyclable Material Collectors</td>\n",
       "      <td>detailed</td>\n",
       "      <td>126050</td>\n",
       "      <td>1.5</td>\n",
       "      <td>20.57</td>\n",
       "      <td>42780</td>\n",
       "      <td>0.7</td>\n",
       "      <td>11.99</td>\n",
       "      <td>14.56</td>\n",
       "      <td>18.51</td>\n",
       "      <td>23.5</td>\n",
       "      <td>29.96</td>\n",
       "      <td>24950</td>\n",
       "      <td>30270</td>\n",
       "      <td>38500</td>\n",
       "      <td>48870</td>\n",
       "      <td>62310</td>\n",
       "      <td>2021</td>\n",
       "    </tr>\n",
       "    <tr>\n",
       "      <th>1399</th>\n",
       "      <td>53-7120</td>\n",
       "      <td>Tank Car, Truck, and Ship Loaders</td>\n",
       "      <td>broad</td>\n",
       "      <td>12090</td>\n",
       "      <td>6.8</td>\n",
       "      <td>26.6</td>\n",
       "      <td>55330</td>\n",
       "      <td>2.6</td>\n",
       "      <td>15.91</td>\n",
       "      <td>18.54</td>\n",
       "      <td>23.75</td>\n",
       "      <td>37.31</td>\n",
       "      <td>38.39</td>\n",
       "      <td>33090</td>\n",
       "      <td>38570</td>\n",
       "      <td>49390</td>\n",
       "      <td>77610</td>\n",
       "      <td>79860</td>\n",
       "      <td>2021</td>\n",
       "    </tr>\n",
       "    <tr>\n",
       "      <th>1400</th>\n",
       "      <td>53-7121</td>\n",
       "      <td>Tank Car, Truck, and Ship Loaders</td>\n",
       "      <td>detailed</td>\n",
       "      <td>12090</td>\n",
       "      <td>6.8</td>\n",
       "      <td>26.6</td>\n",
       "      <td>55330</td>\n",
       "      <td>2.6</td>\n",
       "      <td>15.91</td>\n",
       "      <td>18.54</td>\n",
       "      <td>23.75</td>\n",
       "      <td>37.31</td>\n",
       "      <td>38.39</td>\n",
       "      <td>33090</td>\n",
       "      <td>38570</td>\n",
       "      <td>49390</td>\n",
       "      <td>77610</td>\n",
       "      <td>79860</td>\n",
       "      <td>2021</td>\n",
       "    </tr>\n",
       "    <tr>\n",
       "      <th>1401</th>\n",
       "      <td>53-7190</td>\n",
       "      <td>Miscellaneous Material Moving Workers</td>\n",
       "      <td>broad</td>\n",
       "      <td>22470</td>\n",
       "      <td>4.7</td>\n",
       "      <td>19.32</td>\n",
       "      <td>40190</td>\n",
       "      <td>1.8</td>\n",
       "      <td>13.68</td>\n",
       "      <td>14.4</td>\n",
       "      <td>17.38</td>\n",
       "      <td>22.78</td>\n",
       "      <td>29.24</td>\n",
       "      <td>28450</td>\n",
       "      <td>29960</td>\n",
       "      <td>36150</td>\n",
       "      <td>47380</td>\n",
       "      <td>60830</td>\n",
       "      <td>2021</td>\n",
       "    </tr>\n",
       "    <tr>\n",
       "      <th>1402</th>\n",
       "      <td>53-7199</td>\n",
       "      <td>Material Moving Workers, All Other</td>\n",
       "      <td>detailed</td>\n",
       "      <td>22470</td>\n",
       "      <td>4.7</td>\n",
       "      <td>19.32</td>\n",
       "      <td>40190</td>\n",
       "      <td>1.8</td>\n",
       "      <td>13.68</td>\n",
       "      <td>14.4</td>\n",
       "      <td>17.38</td>\n",
       "      <td>22.78</td>\n",
       "      <td>29.24</td>\n",
       "      <td>28450</td>\n",
       "      <td>29960</td>\n",
       "      <td>36150</td>\n",
       "      <td>47380</td>\n",
       "      <td>60830</td>\n",
       "      <td>2021</td>\n",
       "    </tr>\n",
       "  </tbody>\n",
       "</table>\n",
       "<p>6822 rows × 19 columns</p>\n",
       "</div>"
      ],
      "text/plain": [
       "     OCC_CODE                                  OCC_TITLE OCC_GROUP    TOT_EMP  \\\n",
       "0     00-0000                            All Occupations     total  142549250   \n",
       "1     11-0000                     Management Occupations     major    7280330   \n",
       "2     11-1000                             Top Executives     minor    2473740   \n",
       "3     11-1010                           Chief Executives     broad     210160   \n",
       "4     11-1011                           Chief Executives  detailed     210160   \n",
       "...       ...                                        ...       ...        ...   \n",
       "1398  53-7081  Refuse and Recyclable Material Collectors  detailed     126050   \n",
       "1399  53-7120          Tank Car, Truck, and Ship Loaders     broad      12090   \n",
       "1400  53-7121          Tank Car, Truck, and Ship Loaders  detailed      12090   \n",
       "1401  53-7190      Miscellaneous Material Moving Workers     broad      22470   \n",
       "1402  53-7199         Material Moving Workers, All Other  detailed      22470   \n",
       "\n",
       "     EMP_PRSE H_MEAN  A_MEAN MEAN_PRSE H_PCT10 H_PCT25 H_MEDIAN H_PCT75  \\\n",
       "0         0.1  24.34   50620       0.1     9.6   11.91    18.12   29.38   \n",
       "1         0.2  57.65  119910       0.1   23.19    33.6    49.32   71.83   \n",
       "2         0.3  61.55  128020       0.2   20.74   31.74    49.58   78.72   \n",
       "3         0.7  94.25  196050       0.4   32.74   54.55    88.11       #   \n",
       "4         0.7  94.25  196050       0.4   32.74   54.55    88.11       #   \n",
       "...       ...    ...     ...       ...     ...     ...      ...     ...   \n",
       "1398      1.5  20.57   42780       0.7   11.99   14.56    18.51    23.5   \n",
       "1399      6.8   26.6   55330       2.6   15.91   18.54    23.75   37.31   \n",
       "1400      6.8   26.6   55330       2.6   15.91   18.54    23.75   37.31   \n",
       "1401      4.7  19.32   40190       1.8   13.68    14.4    17.38   22.78   \n",
       "1402      4.7  19.32   40190       1.8   13.68    14.4    17.38   22.78   \n",
       "\n",
       "     H_PCT90 A_PCT10 A_PCT25 A_MEDIAN A_PCT75 A_PCT90  YEAR  \n",
       "0      46.23   19970   24770    37690   61110   96150  2017  \n",
       "1          #   48220   69880   102590  149410       #  2017  \n",
       "2          #   43140   66030   103120  163740       #  2017  \n",
       "3          #   68110  113470   183270       #       #  2017  \n",
       "4          #   68110  113470   183270       #       #  2017  \n",
       "...      ...     ...     ...      ...     ...     ...   ...  \n",
       "1398   29.96   24950   30270    38500   48870   62310  2021  \n",
       "1399   38.39   33090   38570    49390   77610   79860  2021  \n",
       "1400   38.39   33090   38570    49390   77610   79860  2021  \n",
       "1401   29.24   28450   29960    36150   47380   60830  2021  \n",
       "1402   29.24   28450   29960    36150   47380   60830  2021  \n",
       "\n",
       "[6822 rows x 19 columns]"
      ]
     },
     "execution_count": 16,
     "metadata": {},
     "output_type": "execute_result"
    }
   ],
   "source": [
    "national_df = pd.concat([national2017_ordered, national2018_ordered, national2019_ordered, national2020_ordered, national2021_ordered], axis=0)\n",
    "national_df.shape\n",
    "national_df"
   ]
  },
  {
   "cell_type": "code",
   "execution_count": 17,
   "metadata": {},
   "outputs": [
    {
     "data": {
      "text/html": [
       "<div>\n",
       "<style scoped>\n",
       "    .dataframe tbody tr th:only-of-type {\n",
       "        vertical-align: middle;\n",
       "    }\n",
       "\n",
       "    .dataframe tbody tr th {\n",
       "        vertical-align: top;\n",
       "    }\n",
       "\n",
       "    .dataframe thead th {\n",
       "        text-align: right;\n",
       "    }\n",
       "</style>\n",
       "<table border=\"1\" class=\"dataframe\">\n",
       "  <thead>\n",
       "    <tr style=\"text-align: right;\">\n",
       "      <th></th>\n",
       "      <th>OCC_TITLE</th>\n",
       "      <th>OCC_GROUP</th>\n",
       "      <th>TOT_EMP</th>\n",
       "      <th>H_MEAN</th>\n",
       "      <th>A_MEAN</th>\n",
       "      <th>H_MEDIAN</th>\n",
       "      <th>A_MEDIAN</th>\n",
       "      <th>YEAR</th>\n",
       "    </tr>\n",
       "  </thead>\n",
       "  <tbody>\n",
       "    <tr>\n",
       "      <th>0</th>\n",
       "      <td>All Occupations</td>\n",
       "      <td>total</td>\n",
       "      <td>142549250</td>\n",
       "      <td>24.34</td>\n",
       "      <td>50620</td>\n",
       "      <td>18.12</td>\n",
       "      <td>37690</td>\n",
       "      <td>2017</td>\n",
       "    </tr>\n",
       "    <tr>\n",
       "      <th>1</th>\n",
       "      <td>Management Occupations</td>\n",
       "      <td>major</td>\n",
       "      <td>7280330</td>\n",
       "      <td>57.65</td>\n",
       "      <td>119910</td>\n",
       "      <td>49.32</td>\n",
       "      <td>102590</td>\n",
       "      <td>2017</td>\n",
       "    </tr>\n",
       "    <tr>\n",
       "      <th>2</th>\n",
       "      <td>Top Executives</td>\n",
       "      <td>minor</td>\n",
       "      <td>2473740</td>\n",
       "      <td>61.55</td>\n",
       "      <td>128020</td>\n",
       "      <td>49.58</td>\n",
       "      <td>103120</td>\n",
       "      <td>2017</td>\n",
       "    </tr>\n",
       "    <tr>\n",
       "      <th>3</th>\n",
       "      <td>Chief Executives</td>\n",
       "      <td>broad</td>\n",
       "      <td>210160</td>\n",
       "      <td>94.25</td>\n",
       "      <td>196050</td>\n",
       "      <td>88.11</td>\n",
       "      <td>183270</td>\n",
       "      <td>2017</td>\n",
       "    </tr>\n",
       "    <tr>\n",
       "      <th>4</th>\n",
       "      <td>Chief Executives</td>\n",
       "      <td>detailed</td>\n",
       "      <td>210160</td>\n",
       "      <td>94.25</td>\n",
       "      <td>196050</td>\n",
       "      <td>88.11</td>\n",
       "      <td>183270</td>\n",
       "      <td>2017</td>\n",
       "    </tr>\n",
       "    <tr>\n",
       "      <th>...</th>\n",
       "      <td>...</td>\n",
       "      <td>...</td>\n",
       "      <td>...</td>\n",
       "      <td>...</td>\n",
       "      <td>...</td>\n",
       "      <td>...</td>\n",
       "      <td>...</td>\n",
       "      <td>...</td>\n",
       "    </tr>\n",
       "    <tr>\n",
       "      <th>1398</th>\n",
       "      <td>Refuse and Recyclable Material Collectors</td>\n",
       "      <td>detailed</td>\n",
       "      <td>126050</td>\n",
       "      <td>20.57</td>\n",
       "      <td>42780</td>\n",
       "      <td>18.51</td>\n",
       "      <td>38500</td>\n",
       "      <td>2021</td>\n",
       "    </tr>\n",
       "    <tr>\n",
       "      <th>1399</th>\n",
       "      <td>Tank Car, Truck, and Ship Loaders</td>\n",
       "      <td>broad</td>\n",
       "      <td>12090</td>\n",
       "      <td>26.6</td>\n",
       "      <td>55330</td>\n",
       "      <td>23.75</td>\n",
       "      <td>49390</td>\n",
       "      <td>2021</td>\n",
       "    </tr>\n",
       "    <tr>\n",
       "      <th>1400</th>\n",
       "      <td>Tank Car, Truck, and Ship Loaders</td>\n",
       "      <td>detailed</td>\n",
       "      <td>12090</td>\n",
       "      <td>26.6</td>\n",
       "      <td>55330</td>\n",
       "      <td>23.75</td>\n",
       "      <td>49390</td>\n",
       "      <td>2021</td>\n",
       "    </tr>\n",
       "    <tr>\n",
       "      <th>1401</th>\n",
       "      <td>Miscellaneous Material Moving Workers</td>\n",
       "      <td>broad</td>\n",
       "      <td>22470</td>\n",
       "      <td>19.32</td>\n",
       "      <td>40190</td>\n",
       "      <td>17.38</td>\n",
       "      <td>36150</td>\n",
       "      <td>2021</td>\n",
       "    </tr>\n",
       "    <tr>\n",
       "      <th>1402</th>\n",
       "      <td>Material Moving Workers, All Other</td>\n",
       "      <td>detailed</td>\n",
       "      <td>22470</td>\n",
       "      <td>19.32</td>\n",
       "      <td>40190</td>\n",
       "      <td>17.38</td>\n",
       "      <td>36150</td>\n",
       "      <td>2021</td>\n",
       "    </tr>\n",
       "  </tbody>\n",
       "</table>\n",
       "<p>6822 rows × 8 columns</p>\n",
       "</div>"
      ],
      "text/plain": [
       "                                      OCC_TITLE OCC_GROUP    TOT_EMP H_MEAN  \\\n",
       "0                               All Occupations     total  142549250  24.34   \n",
       "1                        Management Occupations     major    7280330  57.65   \n",
       "2                                Top Executives     minor    2473740  61.55   \n",
       "3                              Chief Executives     broad     210160  94.25   \n",
       "4                              Chief Executives  detailed     210160  94.25   \n",
       "...                                         ...       ...        ...    ...   \n",
       "1398  Refuse and Recyclable Material Collectors  detailed     126050  20.57   \n",
       "1399          Tank Car, Truck, and Ship Loaders     broad      12090   26.6   \n",
       "1400          Tank Car, Truck, and Ship Loaders  detailed      12090   26.6   \n",
       "1401      Miscellaneous Material Moving Workers     broad      22470  19.32   \n",
       "1402         Material Moving Workers, All Other  detailed      22470  19.32   \n",
       "\n",
       "      A_MEAN H_MEDIAN A_MEDIAN  YEAR  \n",
       "0      50620    18.12    37690  2017  \n",
       "1     119910    49.32   102590  2017  \n",
       "2     128020    49.58   103120  2017  \n",
       "3     196050    88.11   183270  2017  \n",
       "4     196050    88.11   183270  2017  \n",
       "...      ...      ...      ...   ...  \n",
       "1398   42780    18.51    38500  2021  \n",
       "1399   55330    23.75    49390  2021  \n",
       "1400   55330    23.75    49390  2021  \n",
       "1401   40190    17.38    36150  2021  \n",
       "1402   40190    17.38    36150  2021  \n",
       "\n",
       "[6822 rows x 8 columns]"
      ]
     },
     "execution_count": 17,
     "metadata": {},
     "output_type": "execute_result"
    }
   ],
   "source": [
    "national_df = national_df[[\n",
    "    'OCC_TITLE', 'OCC_GROUP', 'TOT_EMP', 'H_MEAN',\n",
    "    'A_MEAN', 'H_MEDIAN', 'A_MEDIAN', 'YEAR']]\n",
    "national_df"
   ]
  },
  {
   "attachments": {},
   "cell_type": "markdown",
   "metadata": {},
   "source": [
    "Remove missing data:"
   ]
  },
  {
   "cell_type": "code",
   "execution_count": 18,
   "metadata": {},
   "outputs": [
    {
     "data": {
      "text/html": [
       "<div>\n",
       "<style scoped>\n",
       "    .dataframe tbody tr th:only-of-type {\n",
       "        vertical-align: middle;\n",
       "    }\n",
       "\n",
       "    .dataframe tbody tr th {\n",
       "        vertical-align: top;\n",
       "    }\n",
       "\n",
       "    .dataframe thead th {\n",
       "        text-align: right;\n",
       "    }\n",
       "</style>\n",
       "<table border=\"1\" class=\"dataframe\">\n",
       "  <thead>\n",
       "    <tr style=\"text-align: right;\">\n",
       "      <th></th>\n",
       "      <th>OCC_TITLE</th>\n",
       "      <th>OCC_GROUP</th>\n",
       "      <th>TOT_EMP</th>\n",
       "      <th>H_MEAN</th>\n",
       "      <th>A_MEAN</th>\n",
       "      <th>H_MEDIAN</th>\n",
       "      <th>A_MEDIAN</th>\n",
       "      <th>YEAR</th>\n",
       "    </tr>\n",
       "  </thead>\n",
       "  <tbody>\n",
       "    <tr>\n",
       "      <th>0</th>\n",
       "      <td>All Occupations</td>\n",
       "      <td>total</td>\n",
       "      <td>142549250</td>\n",
       "      <td>24.34</td>\n",
       "      <td>50620</td>\n",
       "      <td>18.12</td>\n",
       "      <td>37690</td>\n",
       "      <td>2017</td>\n",
       "    </tr>\n",
       "  </tbody>\n",
       "</table>\n",
       "</div>"
      ],
      "text/plain": [
       "         OCC_TITLE OCC_GROUP    TOT_EMP H_MEAN A_MEAN H_MEDIAN A_MEDIAN  YEAR\n",
       "0  All Occupations     total  142549250  24.34  50620    18.12    37690  2017"
      ]
     },
     "execution_count": 18,
     "metadata": {},
     "output_type": "execute_result"
    }
   ],
   "source": [
    "cols = list(national_df.columns)\n",
    "for col in cols: \n",
    "    national_df = national_df[national_df[col] != '#']\n",
    "    national_df = national_df[national_df[col] != '*']\n",
    "    national_df = national_df[national_df[col] != '**']\n",
    "national_df.head(1)"
   ]
  },
  {
   "attachments": {},
   "cell_type": "markdown",
   "metadata": {},
   "source": [
    "Convert types:"
   ]
  },
  {
   "cell_type": "code",
   "execution_count": 19,
   "metadata": {},
   "outputs": [
    {
     "name": "stdout",
     "output_type": "stream",
     "text": [
      "Index(['OCC_TITLE', 'OCC_GROUP', 'TOT_EMP', 'H_MEAN', 'A_MEAN', 'H_MEDIAN',\n",
      "       'A_MEDIAN', 'YEAR'],\n",
      "      dtype='object')\n",
      "OCC_TITLE    object\n",
      "OCC_GROUP    object\n",
      "TOT_EMP      object\n",
      "H_MEAN       object\n",
      "A_MEAN       object\n",
      "H_MEDIAN     object\n",
      "A_MEDIAN     object\n",
      "YEAR          int64\n",
      "dtype: object\n"
     ]
    }
   ],
   "source": [
    "print(national_df.columns)\n",
    "print(national_df.dtypes)"
   ]
  },
  {
   "cell_type": "code",
   "execution_count": 31,
   "metadata": {},
   "outputs": [
    {
     "name": "stdout",
     "output_type": "stream",
     "text": [
      "OCC_TITLE     object\n",
      "OCC_GROUP     object\n",
      "TOT_EMP        int32\n",
      "H_MEAN       float64\n",
      "A_MEAN       float64\n",
      "H_MEDIAN     float64\n",
      "A_MEDIAN     float64\n",
      "YEAR           int32\n",
      "dtype: object\n"
     ]
    }
   ],
   "source": [
    "national_df = national_df.astype({'TOT_EMP': int, 'H_MEAN': float, 'A_MEAN': float, 'H_MEDIAN': float, 'A_MEDIAN': float, 'YEAR': int})\n",
    "print(national_df.dtypes)"
   ]
  },
  {
   "attachments": {},
   "cell_type": "markdown",
   "metadata": {},
   "source": [
    "# State salary data"
   ]
  },
  {
   "attachments": {},
   "cell_type": "markdown",
   "metadata": {},
   "source": [
    "Read in state salary data from excel"
   ]
  },
  {
   "cell_type": "code",
   "execution_count": 21,
   "metadata": {},
   "outputs": [],
   "source": [
    "state2018_df = pd.read_excel(\"data/state_M2018_dl.xlsx\")\n",
    "state2019_df = pd.read_excel(\"data/state_M2019_dl.xlsx\")\n",
    "state2020_df = pd.read_excel(\"data/state_M2020_dl.xlsx\")\n",
    "state2021_df = pd.read_excel(\"data/state_M2021_dl.xlsx\")\n",
    "state2017_df = pd.read_excel(\"data/state_M2017_dl.xlsx\")\n",
    "state2017_df['Year'] = 2017\n",
    "state2018_df['Year'] = 2018\n",
    "state2019_df['Year'] = 2019\n",
    "state2020_df['Year'] = 2020\n",
    "state2021_df['Year'] = 2021"
   ]
  },
  {
   "cell_type": "code",
   "execution_count": 22,
   "metadata": {},
   "outputs": [],
   "source": [
    "upper_columns(state2017_df)\n",
    "upper_columns(state2018_df)\n",
    "upper_columns(state2019_df)\n",
    "upper_columns(state2020_df)\n",
    "upper_columns(state2021_df)"
   ]
  },
  {
   "attachments": {},
   "cell_type": "markdown",
   "metadata": {},
   "source": [
    "Rename columns that are unmatched"
   ]
  },
  {
   "cell_type": "code",
   "execution_count": 23,
   "metadata": {},
   "outputs": [],
   "source": [
    "state2019_df = state2019_df.rename(columns={'AREA_TITLE': 'STATE'})\n",
    "state2020_df = state2020_df.rename(columns={'AREA_TITLE': 'STATE'})\n",
    "state2021_df = state2021_df.rename(columns={'AREA_TITLE': 'STATE'})\n",
    "\n",
    "state2019_df = state2019_df.rename(columns={'O_GROUP': 'OCC_GROUP'})\n",
    "state2020_df = state2020_df.rename(columns={'O_GROUP': 'OCC_GROUP'})\n",
    "state2021_df = state2021_df.rename(columns={'O_GROUP': 'OCC_GROUP'})\n",
    "\n",
    "state2017_df = state2017_df.rename(columns={'LOC_Q': 'LOC_QUOTIENT'})\n",
    "state2018_df = state2018_df.rename(columns={'LOC_Q': 'LOC_QUOTIENT'})\n"
   ]
  },
  {
   "attachments": {},
   "cell_type": "markdown",
   "metadata": {},
   "source": [
    "Filter columns and set correct column order"
   ]
  },
  {
   "cell_type": "code",
   "execution_count": 24,
   "metadata": {},
   "outputs": [],
   "source": [
    "state2017_ordered = state2017_df[[\n",
    "    'AREA', 'STATE', 'OCC_CODE', 'OCC_TITLE', 'OCC_GROUP', 'TOT_EMP',\n",
    "    'EMP_PRSE', 'JOBS_1000', 'LOC_QUOTIENT', 'H_MEAN', 'A_MEAN', 'MEAN_PRSE',\n",
    "    'H_PCT10', 'H_PCT25', 'H_MEDIAN', 'H_PCT75', 'H_PCT90', 'A_PCT10',\n",
    "    'A_PCT25', 'A_MEDIAN', 'A_PCT75', 'A_PCT90', 'YEAR']]\n",
    "state2018_ordered = state2018_df[[\n",
    "    'AREA', 'STATE', 'OCC_CODE', 'OCC_TITLE', 'OCC_GROUP', 'TOT_EMP',\n",
    "    'EMP_PRSE', 'JOBS_1000', 'LOC_QUOTIENT', 'H_MEAN', 'A_MEAN', 'MEAN_PRSE',\n",
    "    'H_PCT10', 'H_PCT25', 'H_MEDIAN', 'H_PCT75', 'H_PCT90', 'A_PCT10',\n",
    "    'A_PCT25', 'A_MEDIAN', 'A_PCT75', 'A_PCT90', 'YEAR']]\n",
    "state2019_ordered = state2019_df[[\n",
    "    'AREA', 'STATE', 'OCC_CODE', 'OCC_TITLE', 'OCC_GROUP', 'TOT_EMP',\n",
    "    'EMP_PRSE', 'JOBS_1000', 'LOC_QUOTIENT', 'H_MEAN', 'A_MEAN', 'MEAN_PRSE',\n",
    "    'H_PCT10', 'H_PCT25', 'H_MEDIAN', 'H_PCT75', 'H_PCT90', 'A_PCT10',\n",
    "    'A_PCT25', 'A_MEDIAN', 'A_PCT75', 'A_PCT90', 'YEAR']]\n",
    "state2020_ordered = state2020_df[[\n",
    "    'AREA', 'STATE', 'OCC_CODE', 'OCC_TITLE', 'OCC_GROUP', 'TOT_EMP',\n",
    "    'EMP_PRSE', 'JOBS_1000', 'LOC_QUOTIENT', 'H_MEAN', 'A_MEAN', 'MEAN_PRSE',\n",
    "    'H_PCT10', 'H_PCT25', 'H_MEDIAN', 'H_PCT75', 'H_PCT90', 'A_PCT10',\n",
    "    'A_PCT25', 'A_MEDIAN', 'A_PCT75', 'A_PCT90', 'YEAR']]\n",
    "state2021_ordered = state2021_df[[\n",
    "    'AREA', 'STATE', 'OCC_CODE', 'OCC_TITLE', 'OCC_GROUP', 'TOT_EMP',\n",
    "    'EMP_PRSE', 'JOBS_1000', 'LOC_QUOTIENT', 'H_MEAN', 'A_MEAN', 'MEAN_PRSE',\n",
    "    'H_PCT10', 'H_PCT25', 'H_MEDIAN', 'H_PCT75', 'H_PCT90', 'A_PCT10',\n",
    "    'A_PCT25', 'A_MEDIAN', 'A_PCT75', 'A_PCT90', 'YEAR']]"
   ]
  },
  {
   "attachments": {},
   "cell_type": "markdown",
   "metadata": {},
   "source": [
    "Concat all State data into one df"
   ]
  },
  {
   "cell_type": "code",
   "execution_count": 25,
   "metadata": {},
   "outputs": [
    {
     "data": {
      "text/plain": [
       "(183936, 23)"
      ]
     },
     "execution_count": 25,
     "metadata": {},
     "output_type": "execute_result"
    }
   ],
   "source": [
    "state_df = pd.concat([state2017_ordered, state2018_ordered, state2019_ordered, state2020_ordered, state2021_ordered], axis=0)\n",
    "state_df.shape"
   ]
  },
  {
   "attachments": {},
   "cell_type": "markdown",
   "metadata": {},
   "source": [
    "Remove non-state territories"
   ]
  },
  {
   "cell_type": "code",
   "execution_count": 26,
   "metadata": {},
   "outputs": [
    {
     "data": {
      "text/plain": [
       "Index(['AREA', 'STATE', 'OCC_CODE', 'OCC_TITLE', 'OCC_GROUP', 'TOT_EMP',\n",
       "       'EMP_PRSE', 'JOBS_1000', 'LOC_QUOTIENT', 'H_MEAN', 'A_MEAN',\n",
       "       'MEAN_PRSE', 'H_PCT10', 'H_PCT25', 'H_MEDIAN', 'H_PCT75', 'H_PCT90',\n",
       "       'A_PCT10', 'A_PCT25', 'A_MEDIAN', 'A_PCT75', 'A_PCT90', 'YEAR'],\n",
       "      dtype='object')"
      ]
     },
     "execution_count": 26,
     "metadata": {},
     "output_type": "execute_result"
    }
   ],
   "source": [
    "state_df = state_df[state_df['STATE'] != 'Guam'] \n",
    "state_df = state_df[state_df['STATE'] != 'Puerto Rico'] \n",
    "state_df = state_df[state_df['STATE'] != 'Virgin Islands']\n",
    "state_df = state_df[state_df['STATE'] != 'District of Columbia']\n",
    "state_df.columns"
   ]
  },
  {
   "attachments": {},
   "cell_type": "markdown",
   "metadata": {},
   "source": [
    "Filter out unnecessary columns"
   ]
  },
  {
   "cell_type": "code",
   "execution_count": 27,
   "metadata": {},
   "outputs": [],
   "source": [
    "state_df = state_df[[\n",
    "    'STATE', 'OCC_TITLE', 'OCC_GROUP', 'TOT_EMP',\n",
    "    'JOBS_1000', 'LOC_QUOTIENT', 'H_MEAN', 'A_MEAN', \n",
    "    'H_MEDIAN', 'A_MEDIAN', 'YEAR']]"
   ]
  },
  {
   "attachments": {},
   "cell_type": "markdown",
   "metadata": {},
   "source": [
    "Remove missing data"
   ]
  },
  {
   "cell_type": "code",
   "execution_count": 28,
   "metadata": {},
   "outputs": [],
   "source": [
    "cols = list(state_df.columns)\n",
    "for col in cols:\n",
    "    state_df = state_df[state_df[col] != '#']\n",
    "    state_df = state_df[state_df[col] != '*']\n",
    "    state_df = state_df[state_df[col] != '**']"
   ]
  },
  {
   "attachments": {},
   "cell_type": "markdown",
   "metadata": {},
   "source": [
    "Convert types"
   ]
  },
  {
   "cell_type": "code",
   "execution_count": 29,
   "metadata": {},
   "outputs": [],
   "source": [
    "state_df = state_df.astype({'TOT_EMP': int, 'JOBS_1000': float, 'LOC_QUOTIENT': float, 'H_MEAN': float, 'A_MEAN': int, 'H_MEDIAN': float, 'A_MEDIAN': float, 'YEAR': int})\n"
   ]
  },
  {
   "cell_type": "code",
   "execution_count": 32,
   "metadata": {},
   "outputs": [
    {
     "name": "stdout",
     "output_type": "stream",
     "text": [
      "PR_ALL           0\n",
      "PR_YOUTH         0\n",
      "MED_HH_INCOME    0\n",
      "YEAR             0\n",
      "dtype: int64\n",
      "STATE            0\n",
      "PR_ALL           0\n",
      "PR_YOUTH         0\n",
      "MED_HH_INCOME    0\n",
      "YEAR             0\n",
      "dtype: int64\n",
      "OCC_TITLE    0\n",
      "OCC_GROUP    0\n",
      "TOT_EMP      0\n",
      "H_MEAN       0\n",
      "A_MEAN       0\n",
      "H_MEDIAN     0\n",
      "A_MEDIAN     0\n",
      "YEAR         0\n",
      "dtype: int64\n",
      "STATE           0\n",
      "OCC_TITLE       0\n",
      "OCC_GROUP       0\n",
      "TOT_EMP         0\n",
      "JOBS_1000       0\n",
      "LOC_QUOTIENT    0\n",
      "H_MEAN          0\n",
      "A_MEAN          0\n",
      "H_MEDIAN        0\n",
      "A_MEDIAN        0\n",
      "YEAR            0\n",
      "dtype: int64\n"
     ]
    }
   ],
   "source": [
    "print(poverty_nat.isna().sum())\n",
    "print(poverty_state.isna().sum())\n",
    "print(national_df.isna().sum())\n",
    "print(state_df.isna().sum())"
   ]
  },
  {
   "cell_type": "code",
   "execution_count": 30,
   "metadata": {},
   "outputs": [],
   "source": [
    "poverty_state.to_csv('output/state_poverty.csv', index=False)\n",
    "poverty_nat.to_csv('output/national_poverty.csv', index=False)\n",
    "national_df.to_csv('output/national_salary.csv', index=False)\n",
    "state_df.to_csv('output/state_salary.csv', index=False)"
   ]
  }
 ],
 "metadata": {
  "kernelspec": {
   "display_name": "base",
   "language": "python",
   "name": "python3"
  },
  "language_info": {
   "codemirror_mode": {
    "name": "ipython",
    "version": 3
   },
   "file_extension": ".py",
   "mimetype": "text/x-python",
   "name": "python",
   "nbconvert_exporter": "python",
   "pygments_lexer": "ipython3",
   "version": "3.9.13"
  },
  "orig_nbformat": 4
 },
 "nbformat": 4,
 "nbformat_minor": 2
}
