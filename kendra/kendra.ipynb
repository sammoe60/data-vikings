{
 "cells": [
  {
   "cell_type": "code",
   "execution_count": 1,
   "metadata": {},
   "outputs": [],
   "source": [
    "import requests\n",
    "import json\n",
    "import pandas as pd\n",
    "from bs4 import BeautifulSoup\n",
    "import matplotlib.animation as ani\n",
    "from matplotlib import pyplot\n",
    "import random\n",
    "from matplotlib import lines\n",
    "\n",
    "from matplotlib import animation\n",
    "import matplotlib.pyplot as plt\n",
    "from matplotlib.animation import FuncAnimation\n",
    "from itertools import count\n",
    "import seaborn\n"
   ]
  },
  {
   "attachments": {},
   "cell_type": "markdown",
   "metadata": {},
   "source": [
    "### Census.gov API Call"
   ]
  },
  {
   "cell_type": "code",
   "execution_count": 2,
   "metadata": {},
   "outputs": [],
   "source": [
    "response = None\n",
    "url1 = 'https://api.census.gov/data/timeseries/poverty/saipe?get=NAME,SAEPOVRTALL_PT,SAEPOVRT0_17_PT,SAEMHI_PT,YEAR&for=state:*'\n",
    "url2 ='https://api.census.gov/data/timeseries/poverty/saipe?get=SAEPOVRTALL_PT,SAEPOVRT0_17_PT,SAEMHI_PT,YEAR&for=us'\n",
    "\n",
    "url3 = 'https://api.census.gov/data/timeseries/poverty/saipe?get=NAME,SAEPOVRTALL_PT,SAEPOVRT0_17_PT,SAEMHI_PT,YEAR&for=county:*'\n",
    "\n",
    "poverty_response1 = requests.get(url1)\n",
    "poverty_response2 = requests.get(url2)\n",
    "poverty_response3 = requests.get(url3)"
   ]
  },
  {
   "attachments": {},
   "cell_type": "markdown",
   "metadata": {},
   "source": [
    "Convert our api response to json"
   ]
  },
  {
   "cell_type": "code",
   "execution_count": 3,
   "metadata": {},
   "outputs": [],
   "source": [
    "poverty_response_json1 = poverty_response1.json()\n",
    "poverty_response_json2 = poverty_response2.json()\n",
    "poverty_response_json3 = poverty_response3.json()"
   ]
  },
  {
   "attachments": {},
   "cell_type": "markdown",
   "metadata": {},
   "source": [
    "load Poverty Data in DF"
   ]
  },
  {
   "cell_type": "code",
   "execution_count": 4,
   "metadata": {},
   "outputs": [],
   "source": [
    "poverty_state = pd.DataFrame(poverty_response_json1[1:], columns=poverty_response_json1[0])\n",
    "poverty_nat = pd.DataFrame(poverty_response_json2[1:], columns=poverty_response_json2[0])\n",
    "poverty_county = pd.DataFrame(poverty_response_json3[1:], columns=poverty_response_json3[0])"
   ]
  },
  {
   "cell_type": "code",
   "execution_count": 5,
   "metadata": {},
   "outputs": [
    {
     "data": {
      "text/html": [
       "<div>\n",
       "<style scoped>\n",
       "    .dataframe tbody tr th:only-of-type {\n",
       "        vertical-align: middle;\n",
       "    }\n",
       "\n",
       "    .dataframe tbody tr th {\n",
       "        vertical-align: top;\n",
       "    }\n",
       "\n",
       "    .dataframe thead th {\n",
       "        text-align: right;\n",
       "    }\n",
       "</style>\n",
       "<table border=\"1\" class=\"dataframe\">\n",
       "  <thead>\n",
       "    <tr style=\"text-align: right;\">\n",
       "      <th></th>\n",
       "      <th>NAME</th>\n",
       "      <th>SAEPOVRTALL_PT</th>\n",
       "      <th>SAEPOVRT0_17_PT</th>\n",
       "      <th>SAEMHI_PT</th>\n",
       "      <th>YEAR</th>\n",
       "      <th>state</th>\n",
       "      <th>county</th>\n",
       "    </tr>\n",
       "  </thead>\n",
       "  <tbody>\n",
       "    <tr>\n",
       "      <th>0</th>\n",
       "      <td>Autauga County</td>\n",
       "      <td>14.3</td>\n",
       "      <td>20.2</td>\n",
       "      <td>26898</td>\n",
       "      <td>1989</td>\n",
       "      <td>01</td>\n",
       "      <td>001</td>\n",
       "    </tr>\n",
       "    <tr>\n",
       "      <th>1</th>\n",
       "      <td>Baldwin County</td>\n",
       "      <td>13.2</td>\n",
       "      <td>18.6</td>\n",
       "      <td>24043</td>\n",
       "      <td>1989</td>\n",
       "      <td>01</td>\n",
       "      <td>003</td>\n",
       "    </tr>\n",
       "    <tr>\n",
       "      <th>2</th>\n",
       "      <td>Barbour County</td>\n",
       "      <td>26.2</td>\n",
       "      <td>38.2</td>\n",
       "      <td>18673</td>\n",
       "      <td>1989</td>\n",
       "      <td>01</td>\n",
       "      <td>005</td>\n",
       "    </tr>\n",
       "    <tr>\n",
       "      <th>3</th>\n",
       "      <td>Bibb County</td>\n",
       "      <td>18.9</td>\n",
       "      <td>25.0</td>\n",
       "      <td>19604</td>\n",
       "      <td>1989</td>\n",
       "      <td>01</td>\n",
       "      <td>007</td>\n",
       "    </tr>\n",
       "    <tr>\n",
       "      <th>4</th>\n",
       "      <td>Blount County</td>\n",
       "      <td>13.4</td>\n",
       "      <td>19.4</td>\n",
       "      <td>24035</td>\n",
       "      <td>1989</td>\n",
       "      <td>01</td>\n",
       "      <td>009</td>\n",
       "    </tr>\n",
       "    <tr>\n",
       "      <th>...</th>\n",
       "      <td>...</td>\n",
       "      <td>...</td>\n",
       "      <td>...</td>\n",
       "      <td>...</td>\n",
       "      <td>...</td>\n",
       "      <td>...</td>\n",
       "      <td>...</td>\n",
       "    </tr>\n",
       "    <tr>\n",
       "      <th>91108</th>\n",
       "      <td>Sweetwater County</td>\n",
       "      <td>9.2</td>\n",
       "      <td>9.7</td>\n",
       "      <td>74677</td>\n",
       "      <td>2021</td>\n",
       "      <td>56</td>\n",
       "      <td>037</td>\n",
       "    </tr>\n",
       "    <tr>\n",
       "      <th>91109</th>\n",
       "      <td>Teton County</td>\n",
       "      <td>5.9</td>\n",
       "      <td>5.5</td>\n",
       "      <td>102709</td>\n",
       "      <td>2021</td>\n",
       "      <td>56</td>\n",
       "      <td>039</td>\n",
       "    </tr>\n",
       "    <tr>\n",
       "      <th>91110</th>\n",
       "      <td>Uinta County</td>\n",
       "      <td>9.4</td>\n",
       "      <td>11.2</td>\n",
       "      <td>70162</td>\n",
       "      <td>2021</td>\n",
       "      <td>56</td>\n",
       "      <td>041</td>\n",
       "    </tr>\n",
       "    <tr>\n",
       "      <th>91111</th>\n",
       "      <td>Washakie County</td>\n",
       "      <td>10.2</td>\n",
       "      <td>12.5</td>\n",
       "      <td>62176</td>\n",
       "      <td>2021</td>\n",
       "      <td>56</td>\n",
       "      <td>043</td>\n",
       "    </tr>\n",
       "    <tr>\n",
       "      <th>91112</th>\n",
       "      <td>Weston County</td>\n",
       "      <td>10.4</td>\n",
       "      <td>12.3</td>\n",
       "      <td>62509</td>\n",
       "      <td>2021</td>\n",
       "      <td>56</td>\n",
       "      <td>045</td>\n",
       "    </tr>\n",
       "  </tbody>\n",
       "</table>\n",
       "<p>91113 rows × 7 columns</p>\n",
       "</div>"
      ],
      "text/plain": [
       "                    NAME SAEPOVRTALL_PT SAEPOVRT0_17_PT SAEMHI_PT  YEAR state  \\\n",
       "0         Autauga County           14.3            20.2     26898  1989    01   \n",
       "1         Baldwin County           13.2            18.6     24043  1989    01   \n",
       "2         Barbour County           26.2            38.2     18673  1989    01   \n",
       "3            Bibb County           18.9            25.0     19604  1989    01   \n",
       "4          Blount County           13.4            19.4     24035  1989    01   \n",
       "...                  ...            ...             ...       ...   ...   ...   \n",
       "91108  Sweetwater County            9.2             9.7     74677  2021    56   \n",
       "91109       Teton County            5.9             5.5    102709  2021    56   \n",
       "91110       Uinta County            9.4            11.2     70162  2021    56   \n",
       "91111    Washakie County           10.2            12.5     62176  2021    56   \n",
       "91112      Weston County           10.4            12.3     62509  2021    56   \n",
       "\n",
       "      county  \n",
       "0        001  \n",
       "1        003  \n",
       "2        005  \n",
       "3        007  \n",
       "4        009  \n",
       "...      ...  \n",
       "91108    037  \n",
       "91109    039  \n",
       "91110    041  \n",
       "91111    043  \n",
       "91112    045  \n",
       "\n",
       "[91113 rows x 7 columns]"
      ]
     },
     "execution_count": 5,
     "metadata": {},
     "output_type": "execute_result"
    }
   ],
   "source": [
    "poverty_county.head(5).shape\n",
    "poverty_county"
   ]
  },
  {
   "cell_type": "code",
   "execution_count": 6,
   "metadata": {},
   "outputs": [
    {
     "data": {
      "text/html": [
       "<div>\n",
       "<style scoped>\n",
       "    .dataframe tbody tr th:only-of-type {\n",
       "        vertical-align: middle;\n",
       "    }\n",
       "\n",
       "    .dataframe tbody tr th {\n",
       "        vertical-align: top;\n",
       "    }\n",
       "\n",
       "    .dataframe thead th {\n",
       "        text-align: right;\n",
       "    }\n",
       "</style>\n",
       "<table border=\"1\" class=\"dataframe\">\n",
       "  <thead>\n",
       "    <tr style=\"text-align: right;\">\n",
       "      <th></th>\n",
       "      <th>NAME</th>\n",
       "      <th>SAEPOVRTALL_PT</th>\n",
       "      <th>SAEPOVRT0_17_PT</th>\n",
       "      <th>SAEMHI_PT</th>\n",
       "      <th>YEAR</th>\n",
       "      <th>state</th>\n",
       "    </tr>\n",
       "  </thead>\n",
       "  <tbody>\n",
       "    <tr>\n",
       "      <th>0</th>\n",
       "      <td>Alabama</td>\n",
       "      <td>17.7</td>\n",
       "      <td>24.1</td>\n",
       "      <td>22202</td>\n",
       "      <td>1989</td>\n",
       "      <td>01</td>\n",
       "    </tr>\n",
       "    <tr>\n",
       "      <th>1</th>\n",
       "      <td>Alaska</td>\n",
       "      <td>10.6</td>\n",
       "      <td>15.4</td>\n",
       "      <td>33885</td>\n",
       "      <td>1989</td>\n",
       "      <td>02</td>\n",
       "    </tr>\n",
       "    <tr>\n",
       "      <th>2</th>\n",
       "      <td>Arizona</td>\n",
       "      <td>14.7</td>\n",
       "      <td>23.3</td>\n",
       "      <td>28924</td>\n",
       "      <td>1989</td>\n",
       "      <td>04</td>\n",
       "    </tr>\n",
       "    <tr>\n",
       "      <th>3</th>\n",
       "      <td>Arkansas</td>\n",
       "      <td>17.9</td>\n",
       "      <td>24.4</td>\n",
       "      <td>20729</td>\n",
       "      <td>1989</td>\n",
       "      <td>05</td>\n",
       "    </tr>\n",
       "    <tr>\n",
       "      <th>4</th>\n",
       "      <td>California</td>\n",
       "      <td>12.7</td>\n",
       "      <td>21.3</td>\n",
       "      <td>33474</td>\n",
       "      <td>1989</td>\n",
       "      <td>06</td>\n",
       "    </tr>\n",
       "  </tbody>\n",
       "</table>\n",
       "</div>"
      ],
      "text/plain": [
       "         NAME SAEPOVRTALL_PT SAEPOVRT0_17_PT SAEMHI_PT  YEAR state\n",
       "0     Alabama           17.7            24.1     22202  1989    01\n",
       "1      Alaska           10.6            15.4     33885  1989    02\n",
       "2     Arizona           14.7            23.3     28924  1989    04\n",
       "3    Arkansas           17.9            24.4     20729  1989    05\n",
       "4  California           12.7            21.3     33474  1989    06"
      ]
     },
     "execution_count": 6,
     "metadata": {},
     "output_type": "execute_result"
    }
   ],
   "source": [
    "poverty_state.head(5)"
   ]
  },
  {
   "cell_type": "code",
   "execution_count": 7,
   "metadata": {},
   "outputs": [],
   "source": [
    "state_name_df = poverty_state[['NAME','state']]\n",
    "\n"
   ]
  },
  {
   "cell_type": "code",
   "execution_count": 8,
   "metadata": {},
   "outputs": [
    {
     "name": "stderr",
     "output_type": "stream",
     "text": [
      "C:\\Users\\kendr\\AppData\\Local\\Temp\\ipykernel_36064\\1187030159.py:1: SettingWithCopyWarning: \n",
      "A value is trying to be set on a copy of a slice from a DataFrame\n",
      "\n",
      "See the caveats in the documentation: https://pandas.pydata.org/pandas-docs/stable/user_guide/indexing.html#returning-a-view-versus-a-copy\n",
      "  state_name_df.rename(columns={'NAME': \"STATE_NAME\"}, inplace=True)\n"
     ]
    }
   ],
   "source": [
    "state_name_df.rename(columns={'NAME': \"STATE_NAME\"}, inplace=True)"
   ]
  },
  {
   "cell_type": "code",
   "execution_count": 9,
   "metadata": {},
   "outputs": [
    {
     "data": {
      "text/html": [
       "<div>\n",
       "<style scoped>\n",
       "    .dataframe tbody tr th:only-of-type {\n",
       "        vertical-align: middle;\n",
       "    }\n",
       "\n",
       "    .dataframe tbody tr th {\n",
       "        vertical-align: top;\n",
       "    }\n",
       "\n",
       "    .dataframe thead th {\n",
       "        text-align: right;\n",
       "    }\n",
       "</style>\n",
       "<table border=\"1\" class=\"dataframe\">\n",
       "  <thead>\n",
       "    <tr style=\"text-align: right;\">\n",
       "      <th></th>\n",
       "      <th>STATE_NAME</th>\n",
       "      <th>state</th>\n",
       "    </tr>\n",
       "  </thead>\n",
       "  <tbody>\n",
       "    <tr>\n",
       "      <th>0</th>\n",
       "      <td>Alabama</td>\n",
       "      <td>01</td>\n",
       "    </tr>\n",
       "    <tr>\n",
       "      <th>1</th>\n",
       "      <td>Alaska</td>\n",
       "      <td>02</td>\n",
       "    </tr>\n",
       "    <tr>\n",
       "      <th>2</th>\n",
       "      <td>Arizona</td>\n",
       "      <td>04</td>\n",
       "    </tr>\n",
       "    <tr>\n",
       "      <th>3</th>\n",
       "      <td>Arkansas</td>\n",
       "      <td>05</td>\n",
       "    </tr>\n",
       "    <tr>\n",
       "      <th>4</th>\n",
       "      <td>California</td>\n",
       "      <td>06</td>\n",
       "    </tr>\n",
       "  </tbody>\n",
       "</table>\n",
       "</div>"
      ],
      "text/plain": [
       "   STATE_NAME state\n",
       "0     Alabama    01\n",
       "1      Alaska    02\n",
       "2     Arizona    04\n",
       "3    Arkansas    05\n",
       "4  California    06"
      ]
     },
     "execution_count": 9,
     "metadata": {},
     "output_type": "execute_result"
    }
   ],
   "source": [
    "state_name_df.head(5)"
   ]
  },
  {
   "cell_type": "code",
   "execution_count": 10,
   "metadata": {},
   "outputs": [],
   "source": [
    "poverty_county_state = state_name_df.merge(poverty_county, on='state')"
   ]
  },
  {
   "cell_type": "code",
   "execution_count": 11,
   "metadata": {},
   "outputs": [
    {
     "data": {
      "text/html": [
       "<div>\n",
       "<style scoped>\n",
       "    .dataframe tbody tr th:only-of-type {\n",
       "        vertical-align: middle;\n",
       "    }\n",
       "\n",
       "    .dataframe tbody tr th {\n",
       "        vertical-align: top;\n",
       "    }\n",
       "\n",
       "    .dataframe thead th {\n",
       "        text-align: right;\n",
       "    }\n",
       "</style>\n",
       "<table border=\"1\" class=\"dataframe\">\n",
       "  <thead>\n",
       "    <tr style=\"text-align: right;\">\n",
       "      <th></th>\n",
       "      <th>STATE_NAME</th>\n",
       "      <th>state</th>\n",
       "      <th>NAME</th>\n",
       "      <th>SAEPOVRTALL_PT</th>\n",
       "      <th>SAEPOVRT0_17_PT</th>\n",
       "      <th>SAEMHI_PT</th>\n",
       "      <th>YEAR</th>\n",
       "      <th>county</th>\n",
       "    </tr>\n",
       "  </thead>\n",
       "  <tbody>\n",
       "    <tr>\n",
       "      <th>0</th>\n",
       "      <td>Alabama</td>\n",
       "      <td>01</td>\n",
       "      <td>Autauga County</td>\n",
       "      <td>14.3</td>\n",
       "      <td>20.2</td>\n",
       "      <td>26898</td>\n",
       "      <td>1989</td>\n",
       "      <td>001</td>\n",
       "    </tr>\n",
       "    <tr>\n",
       "      <th>1</th>\n",
       "      <td>Alabama</td>\n",
       "      <td>01</td>\n",
       "      <td>Baldwin County</td>\n",
       "      <td>13.2</td>\n",
       "      <td>18.6</td>\n",
       "      <td>24043</td>\n",
       "      <td>1989</td>\n",
       "      <td>003</td>\n",
       "    </tr>\n",
       "    <tr>\n",
       "      <th>2</th>\n",
       "      <td>Alabama</td>\n",
       "      <td>01</td>\n",
       "      <td>Barbour County</td>\n",
       "      <td>26.2</td>\n",
       "      <td>38.2</td>\n",
       "      <td>18673</td>\n",
       "      <td>1989</td>\n",
       "      <td>005</td>\n",
       "    </tr>\n",
       "    <tr>\n",
       "      <th>3</th>\n",
       "      <td>Alabama</td>\n",
       "      <td>01</td>\n",
       "      <td>Bibb County</td>\n",
       "      <td>18.9</td>\n",
       "      <td>25.0</td>\n",
       "      <td>19604</td>\n",
       "      <td>1989</td>\n",
       "      <td>007</td>\n",
       "    </tr>\n",
       "    <tr>\n",
       "      <th>4</th>\n",
       "      <td>Alabama</td>\n",
       "      <td>01</td>\n",
       "      <td>Blount County</td>\n",
       "      <td>13.4</td>\n",
       "      <td>19.4</td>\n",
       "      <td>24035</td>\n",
       "      <td>1989</td>\n",
       "      <td>009</td>\n",
       "    </tr>\n",
       "    <tr>\n",
       "      <th>...</th>\n",
       "      <td>...</td>\n",
       "      <td>...</td>\n",
       "      <td>...</td>\n",
       "      <td>...</td>\n",
       "      <td>...</td>\n",
       "      <td>...</td>\n",
       "      <td>...</td>\n",
       "      <td>...</td>\n",
       "    </tr>\n",
       "    <tr>\n",
       "      <th>2623596</th>\n",
       "      <td>Wyoming</td>\n",
       "      <td>56</td>\n",
       "      <td>Sweetwater County</td>\n",
       "      <td>9.2</td>\n",
       "      <td>9.7</td>\n",
       "      <td>74677</td>\n",
       "      <td>2021</td>\n",
       "      <td>037</td>\n",
       "    </tr>\n",
       "    <tr>\n",
       "      <th>2623597</th>\n",
       "      <td>Wyoming</td>\n",
       "      <td>56</td>\n",
       "      <td>Teton County</td>\n",
       "      <td>5.9</td>\n",
       "      <td>5.5</td>\n",
       "      <td>102709</td>\n",
       "      <td>2021</td>\n",
       "      <td>039</td>\n",
       "    </tr>\n",
       "    <tr>\n",
       "      <th>2623598</th>\n",
       "      <td>Wyoming</td>\n",
       "      <td>56</td>\n",
       "      <td>Uinta County</td>\n",
       "      <td>9.4</td>\n",
       "      <td>11.2</td>\n",
       "      <td>70162</td>\n",
       "      <td>2021</td>\n",
       "      <td>041</td>\n",
       "    </tr>\n",
       "    <tr>\n",
       "      <th>2623599</th>\n",
       "      <td>Wyoming</td>\n",
       "      <td>56</td>\n",
       "      <td>Washakie County</td>\n",
       "      <td>10.2</td>\n",
       "      <td>12.5</td>\n",
       "      <td>62176</td>\n",
       "      <td>2021</td>\n",
       "      <td>043</td>\n",
       "    </tr>\n",
       "    <tr>\n",
       "      <th>2623600</th>\n",
       "      <td>Wyoming</td>\n",
       "      <td>56</td>\n",
       "      <td>Weston County</td>\n",
       "      <td>10.4</td>\n",
       "      <td>12.3</td>\n",
       "      <td>62509</td>\n",
       "      <td>2021</td>\n",
       "      <td>045</td>\n",
       "    </tr>\n",
       "  </tbody>\n",
       "</table>\n",
       "<p>91113 rows × 8 columns</p>\n",
       "</div>"
      ],
      "text/plain": [
       "        STATE_NAME state               NAME SAEPOVRTALL_PT SAEPOVRT0_17_PT  \\\n",
       "0          Alabama    01     Autauga County           14.3            20.2   \n",
       "1          Alabama    01     Baldwin County           13.2            18.6   \n",
       "2          Alabama    01     Barbour County           26.2            38.2   \n",
       "3          Alabama    01        Bibb County           18.9            25.0   \n",
       "4          Alabama    01      Blount County           13.4            19.4   \n",
       "...            ...   ...                ...            ...             ...   \n",
       "2623596    Wyoming    56  Sweetwater County            9.2             9.7   \n",
       "2623597    Wyoming    56       Teton County            5.9             5.5   \n",
       "2623598    Wyoming    56       Uinta County            9.4            11.2   \n",
       "2623599    Wyoming    56    Washakie County           10.2            12.5   \n",
       "2623600    Wyoming    56      Weston County           10.4            12.3   \n",
       "\n",
       "        SAEMHI_PT  YEAR county  \n",
       "0           26898  1989    001  \n",
       "1           24043  1989    003  \n",
       "2           18673  1989    005  \n",
       "3           19604  1989    007  \n",
       "4           24035  1989    009  \n",
       "...           ...   ...    ...  \n",
       "2623596     74677  2021    037  \n",
       "2623597    102709  2021    039  \n",
       "2623598     70162  2021    041  \n",
       "2623599     62176  2021    043  \n",
       "2623600     62509  2021    045  \n",
       "\n",
       "[91113 rows x 8 columns]"
      ]
     },
     "execution_count": 11,
     "metadata": {},
     "output_type": "execute_result"
    }
   ],
   "source": [
    "poverty_county_state.shape\n",
    "poverty_county_state.drop_duplicates()"
   ]
  },
  {
   "cell_type": "code",
   "execution_count": 12,
   "metadata": {},
   "outputs": [],
   "source": [
    "poverty_state = poverty_state.drop(columns='state')\n",
    "poverty_nat = poverty_nat.drop(columns='us')\n",
    "poverty_county_state = poverty_county_state.drop(columns='state')\n",
    "\n",
    "poverty_county_state = poverty_county_state.drop(columns='county')\n",
    "\n",
    "poverty_state = poverty_state.rename(columns={\"NAME\": \"STATE\", \"SAEPOVRTALL_PT\": \"PR_ALL\", \"SAEPOVRT0_17_PT\": \"PR_YOUTH\", 'SAEMHI_PT': 'MED_HH_INCOME' })\n",
    "poverty_nat = poverty_nat.rename(columns={\"NAME\": \"STATE\", \"SAEPOVRTALL_PT\": \"PR_ALL\", \"SAEPOVRT0_17_PT\": \"PR_YOUTH\", 'SAEMHI_PT': 'MED_HH_INCOME' })\n",
    "\n",
    "poverty_county_state = poverty_county_state.rename(columns={\"NAME\": \"COUNTY\", \"SAEPOVRTALL_PT\": \"PR_ALL\", \"SAEPOVRT0_17_PT\": \"PR_YOUTH\", 'SAEMHI_PT': 'MED_HH_INCOME' })"
   ]
  },
  {
   "cell_type": "code",
   "execution_count": 13,
   "metadata": {},
   "outputs": [],
   "source": [
    "poverty_state = poverty_state.astype({'PR_ALL': float, 'PR_YOUTH': float, 'MED_HH_INCOME': float, 'YEAR': int})\n",
    "poverty_nat = poverty_nat.astype({'PR_ALL': float, 'PR_YOUTH': float, 'MED_HH_INCOME': float, 'YEAR': int})\n",
    "poverty_county_state = poverty_county_state.astype({'PR_ALL': float, 'PR_YOUTH': float, 'MED_HH_INCOME': float, 'YEAR': int})"
   ]
  },
  {
   "cell_type": "code",
   "execution_count": 14,
   "metadata": {},
   "outputs": [
    {
     "name": "stdout",
     "output_type": "stream",
     "text": [
      "STATE             object\n",
      "PR_ALL           float64\n",
      "PR_YOUTH         float64\n",
      "MED_HH_INCOME    float64\n",
      "YEAR               int32\n",
      "dtype: object\n",
      "PR_ALL           float64\n",
      "PR_YOUTH         float64\n",
      "MED_HH_INCOME    float64\n",
      "YEAR               int32\n",
      "dtype: object\n",
      "STATE_NAME        object\n",
      "COUNTY            object\n",
      "PR_ALL           float64\n",
      "PR_YOUTH         float64\n",
      "MED_HH_INCOME    float64\n",
      "YEAR               int32\n",
      "dtype: object\n"
     ]
    }
   ],
   "source": [
    "print(poverty_state.dtypes)\n",
    "print(poverty_nat.dtypes)\n",
    "print(poverty_county_state.dtypes)"
   ]
  },
  {
   "cell_type": "code",
   "execution_count": 15,
   "metadata": {},
   "outputs": [],
   "source": [
    "poverty_nat = poverty_nat[poverty_nat['YEAR'] >= 2017]\n",
    "poverty_state = poverty_state[poverty_state['YEAR'] >= 2017]\n",
    "\n",
    "county_df = poverty_county_state[poverty_county_state['YEAR'] >= 2017]"
   ]
  },
  {
   "cell_type": "code",
   "execution_count": 16,
   "metadata": {},
   "outputs": [],
   "source": [
    "poverty_state = poverty_state[poverty_state['STATE'] != 'Guam'] \n",
    "poverty_state = poverty_state[poverty_state['STATE'] != 'Puerto Rico'] \n",
    "poverty_state = poverty_state[poverty_state['STATE'] != 'Virgin Islands']\n",
    "poverty_state = poverty_state[poverty_state['STATE'] != 'District of Columbia']"
   ]
  },
  {
   "attachments": {},
   "cell_type": "markdown",
   "metadata": {},
   "source": [
    "## Graphs for County Poverty"
   ]
  },
  {
   "cell_type": "code",
   "execution_count": 17,
   "metadata": {},
   "outputs": [],
   "source": [
    "minnesota = county_df[county_df['STATE_NAME'] == 'Minnesota']\n",
    "hennepin = minnesota[minnesota['COUNTY'] == 'Hennepin County']"
   ]
  },
  {
   "cell_type": "code",
   "execution_count": 18,
   "metadata": {},
   "outputs": [],
   "source": [
    "hennepin = hennepin.drop_duplicates()"
   ]
  },
  {
   "cell_type": "code",
   "execution_count": 19,
   "metadata": {},
   "outputs": [
    {
     "data": {
      "text/plain": [
       "array([[<AxesSubplot:title={'center':'PR_ALL'}>,\n",
       "        <AxesSubplot:title={'center':'PR_YOUTH'}>],\n",
       "       [<AxesSubplot:title={'center':'MED_HH_INCOME'}>,\n",
       "        <AxesSubplot:title={'center':'YEAR'}>]], dtype=object)"
      ]
     },
     "execution_count": 19,
     "metadata": {},
     "output_type": "execute_result"
    },
    {
     "data": {
      "image/png": "[encoded data removed]",
      "text/plain": [
       "<Figure size 640x480 with 4 Axes>"
      ]
     },
     "metadata": {},
     "output_type": "display_data"
    }
   ],
   "source": [
    "minnesota.hist(bins=10)"
   ]
  },
  {
   "cell_type": "code",
   "execution_count": 20,
   "metadata": {},
   "outputs": [
    {
     "data": {
      "text/plain": [
       "<AxesSubplot:xlabel='PR_ALL', ylabel='MED_HH_INCOME'>"
      ]
     },
     "execution_count": 20,
     "metadata": {},
     "output_type": "execute_result"
    },
    {
     "data": {
      "image/png": "[encoded data removed]",
      "text/plain": [
       "<Figure size 640x480 with 2 Axes>"
      ]
     },
     "metadata": {},
     "output_type": "display_data"
    }
   ],
   "source": [
    "ax1 = county_df.plot.scatter(y='MED_HH_INCOME', x='PR_ALL', c='YEAR', colormap='viridis', s=county_df['PR_ALL'])\n",
    "ax1"
   ]
  },
  {
   "cell_type": "code",
   "execution_count": 21,
   "metadata": {},
   "outputs": [
    {
     "data": {
      "text/plain": [
       "<AxesSubplot:xlabel='PR_ALL', ylabel='MED_HH_INCOME'>"
      ]
     },
     "execution_count": 21,
     "metadata": {},
     "output_type": "execute_result"
    },
    {
     "data": {
      "image/png": "[encoded data removed]",
      "text/plain": [
       "<Figure size 640x480 with 1 Axes>"
      ]
     },
     "metadata": {},
     "output_type": "display_data"
    }
   ],
   "source": [
    "seaborn.scatterplot(data=minnesota, x='PR_ALL', y='MED_HH_INCOME', hue='YEAR')"
   ]
  },
  {
   "cell_type": "code",
   "execution_count": 22,
   "metadata": {},
   "outputs": [
    {
     "data": {
      "text/plain": [
       "<AxesSubplot:xlabel='YEAR', ylabel='MED_HH_INCOME'>"
      ]
     },
     "execution_count": 22,
     "metadata": {},
     "output_type": "execute_result"
    },
    {
     "data": {
      "image/png": "[encoded data removed]",
      "text/plain": [
       "<Figure size 640x480 with 1 Axes>"
      ]
     },
     "metadata": {},
     "output_type": "display_data"
    }
   ],
   "source": [
    "seaborn.barplot(x='YEAR', y='MED_HH_INCOME', data = hennepin)\n"
   ]
  },
  {
   "cell_type": "code",
   "execution_count": 23,
   "metadata": {},
   "outputs": [
    {
     "data": {
      "text/plain": [
       "<AxesSubplot:xlabel='YEAR', ylabel='PR_ALL'>"
      ]
     },
     "execution_count": 23,
     "metadata": {},
     "output_type": "execute_result"
    },
    {
     "data": {
      "image/png": "[encoded data removed]",
      "text/plain": [
       "<Figure size 640x480 with 1 Axes>"
      ]
     },
     "metadata": {},
     "output_type": "display_data"
    }
   ],
   "source": [
    "seaborn.barplot(x='YEAR', y='PR_ALL', data = hennepin)"
   ]
  },
  {
   "attachments": {},
   "cell_type": "markdown",
   "metadata": {},
   "source": [
    "# National salary data"
   ]
  },
  {
   "cell_type": "code",
   "execution_count": 24,
   "metadata": {},
   "outputs": [],
   "source": [
    "\n",
    "national2017_df = pd.read_excel(\"../data/national_M2017_dl.xlsx\")\n",
    "national2018_df = pd.read_excel(\"../data/national_M2018_dl.xlsx\")\n",
    "national2019_df = pd.read_excel(\"../data/national_M2019_dl.xlsx\")\n",
    "national2020_df = pd.read_excel(\"../data/national_M2020_dl.xlsx\")\n",
    "national2021_df = pd.read_excel(\"../data/national_M2021_dl.xlsx\")\n",
    "national2017_df['Year'] = 2017\n",
    "national2018_df['Year'] = 2018\n",
    "national2019_df['Year'] = 2019\n",
    "national2020_df['Year'] = 2020\n",
    "national2021_df['Year'] = 2021"
   ]
  },
  {
   "attachments": {},
   "cell_type": "markdown",
   "metadata": {},
   "source": [
    "Add Year columns to data"
   ]
  },
  {
   "attachments": {},
   "cell_type": "markdown",
   "metadata": {},
   "source": [
    "Reusable function to change column names to upper"
   ]
  },
  {
   "cell_type": "code",
   "execution_count": 25,
   "metadata": {},
   "outputs": [],
   "source": [
    "def upper_columns(data):\n",
    "    columns = data\n",
    "    myList = []\n",
    "    for name in columns:\n",
    "        myList.append(name.upper())\n",
    "    data.columns = myList"
   ]
  },
  {
   "cell_type": "code",
   "execution_count": 26,
   "metadata": {},
   "outputs": [],
   "source": [
    "upper_columns(national2017_df)\n",
    "upper_columns(national2018_df)\n",
    "upper_columns(national2019_df)\n",
    "upper_columns(national2020_df)\n",
    "upper_columns(national2021_df)"
   ]
  },
  {
   "attachments": {},
   "cell_type": "markdown",
   "metadata": {},
   "source": [
    "Rename columns that dont match"
   ]
  },
  {
   "cell_type": "code",
   "execution_count": 27,
   "metadata": {},
   "outputs": [],
   "source": [
    "national2019_df = national2019_df.rename(columns={'O_GROUP': 'OCC_GROUP'})\n",
    "national2020_df = national2020_df.rename(columns={'O_GROUP': 'OCC_GROUP'})\n",
    "national2021_df = national2021_df.rename(columns={'O_GROUP': 'OCC_GROUP'})"
   ]
  },
  {
   "attachments": {},
   "cell_type": "markdown",
   "metadata": {},
   "source": [
    "Filter columns and set correct column order"
   ]
  },
  {
   "cell_type": "code",
   "execution_count": 28,
   "metadata": {},
   "outputs": [],
   "source": [
    "national2017_ordered = national2017_df[[\n",
    "    'OCC_CODE', 'OCC_TITLE', 'OCC_GROUP', 'TOT_EMP', 'EMP_PRSE', 'H_MEAN',\n",
    "    'A_MEAN', 'MEAN_PRSE', 'H_PCT10', 'H_PCT25', 'H_MEDIAN', 'H_PCT75',\n",
    "    'H_PCT90', 'A_PCT10', 'A_PCT25', 'A_MEDIAN', 'A_PCT75', 'A_PCT90',\n",
    "    'YEAR']]\n",
    "national2018_ordered = national2018_df[[\n",
    "    'OCC_CODE', 'OCC_TITLE', 'OCC_GROUP', 'TOT_EMP', 'EMP_PRSE', 'H_MEAN',\n",
    "    'A_MEAN', 'MEAN_PRSE', 'H_PCT10', 'H_PCT25', 'H_MEDIAN', 'H_PCT75',\n",
    "    'H_PCT90', 'A_PCT10', 'A_PCT25', 'A_MEDIAN', 'A_PCT75', 'A_PCT90',\n",
    "    'YEAR']]\n",
    "national2019_ordered = national2019_df[[\n",
    "    'OCC_CODE', 'OCC_TITLE', 'OCC_GROUP', 'TOT_EMP', 'EMP_PRSE', 'H_MEAN',\n",
    "    'A_MEAN', 'MEAN_PRSE', 'H_PCT10', 'H_PCT25', 'H_MEDIAN', 'H_PCT75',\n",
    "    'H_PCT90', 'A_PCT10', 'A_PCT25', 'A_MEDIAN', 'A_PCT75', 'A_PCT90',\n",
    "    'YEAR']]\n",
    "national2020_ordered = national2020_df[[\n",
    "    'OCC_CODE', 'OCC_TITLE', 'OCC_GROUP', 'TOT_EMP', 'EMP_PRSE', 'H_MEAN',\n",
    "    'A_MEAN', 'MEAN_PRSE', 'H_PCT10', 'H_PCT25', 'H_MEDIAN', 'H_PCT75',\n",
    "    'H_PCT90', 'A_PCT10', 'A_PCT25', 'A_MEDIAN', 'A_PCT75', 'A_PCT90',\n",
    "    'YEAR']]\n",
    "national2021_ordered = national2021_df[[\n",
    "    'OCC_CODE', 'OCC_TITLE', 'OCC_GROUP', 'TOT_EMP', 'EMP_PRSE', 'H_MEAN',\n",
    "    'A_MEAN', 'MEAN_PRSE', 'H_PCT10', 'H_PCT25', 'H_MEDIAN', 'H_PCT75',\n",
    "    'H_PCT90', 'A_PCT10', 'A_PCT25', 'A_MEDIAN', 'A_PCT75', 'A_PCT90',\n",
    "    'YEAR']]"
   ]
  },
  {
   "attachments": {},
   "cell_type": "markdown",
   "metadata": {},
   "source": [
    "Concat all National data into one df"
   ]
  },
  {
   "cell_type": "code",
   "execution_count": 29,
   "metadata": {},
   "outputs": [
    {
     "data": {
      "text/html": [
       "<div>\n",
       "<style scoped>\n",
       "    .dataframe tbody tr th:only-of-type {\n",
       "        vertical-align: middle;\n",
       "    }\n",
       "\n",
       "    .dataframe tbody tr th {\n",
       "        vertical-align: top;\n",
       "    }\n",
       "\n",
       "    .dataframe thead th {\n",
       "        text-align: right;\n",
       "    }\n",
       "</style>\n",
       "<table border=\"1\" class=\"dataframe\">\n",
       "  <thead>\n",
       "    <tr style=\"text-align: right;\">\n",
       "      <th></th>\n",
       "      <th>OCC_CODE</th>\n",
       "      <th>OCC_TITLE</th>\n",
       "      <th>OCC_GROUP</th>\n",
       "      <th>TOT_EMP</th>\n",
       "      <th>EMP_PRSE</th>\n",
       "      <th>H_MEAN</th>\n",
       "      <th>A_MEAN</th>\n",
       "      <th>MEAN_PRSE</th>\n",
       "      <th>H_PCT10</th>\n",
       "      <th>H_PCT25</th>\n",
       "      <th>H_MEDIAN</th>\n",
       "      <th>H_PCT75</th>\n",
       "      <th>H_PCT90</th>\n",
       "      <th>A_PCT10</th>\n",
       "      <th>A_PCT25</th>\n",
       "      <th>A_MEDIAN</th>\n",
       "      <th>A_PCT75</th>\n",
       "      <th>A_PCT90</th>\n",
       "      <th>YEAR</th>\n",
       "    </tr>\n",
       "  </thead>\n",
       "  <tbody>\n",
       "    <tr>\n",
       "      <th>0</th>\n",
       "      <td>00-0000</td>\n",
       "      <td>All Occupations</td>\n",
       "      <td>total</td>\n",
       "      <td>142549250</td>\n",
       "      <td>0.1</td>\n",
       "      <td>24.34</td>\n",
       "      <td>50620</td>\n",
       "      <td>0.1</td>\n",
       "      <td>9.6</td>\n",
       "      <td>11.91</td>\n",
       "      <td>18.12</td>\n",
       "      <td>29.38</td>\n",
       "      <td>46.23</td>\n",
       "      <td>19970</td>\n",
       "      <td>24770</td>\n",
       "      <td>37690</td>\n",
       "      <td>61110</td>\n",
       "      <td>96150</td>\n",
       "      <td>2017</td>\n",
       "    </tr>\n",
       "    <tr>\n",
       "      <th>1</th>\n",
       "      <td>11-0000</td>\n",
       "      <td>Management Occupations</td>\n",
       "      <td>major</td>\n",
       "      <td>7280330</td>\n",
       "      <td>0.2</td>\n",
       "      <td>57.65</td>\n",
       "      <td>119910</td>\n",
       "      <td>0.1</td>\n",
       "      <td>23.19</td>\n",
       "      <td>33.6</td>\n",
       "      <td>49.32</td>\n",
       "      <td>71.83</td>\n",
       "      <td>#</td>\n",
       "      <td>48220</td>\n",
       "      <td>69880</td>\n",
       "      <td>102590</td>\n",
       "      <td>149410</td>\n",
       "      <td>#</td>\n",
       "      <td>2017</td>\n",
       "    </tr>\n",
       "    <tr>\n",
       "      <th>2</th>\n",
       "      <td>11-1000</td>\n",
       "      <td>Top Executives</td>\n",
       "      <td>minor</td>\n",
       "      <td>2473740</td>\n",
       "      <td>0.3</td>\n",
       "      <td>61.55</td>\n",
       "      <td>128020</td>\n",
       "      <td>0.2</td>\n",
       "      <td>20.74</td>\n",
       "      <td>31.74</td>\n",
       "      <td>49.58</td>\n",
       "      <td>78.72</td>\n",
       "      <td>#</td>\n",
       "      <td>43140</td>\n",
       "      <td>66030</td>\n",
       "      <td>103120</td>\n",
       "      <td>163740</td>\n",
       "      <td>#</td>\n",
       "      <td>2017</td>\n",
       "    </tr>\n",
       "    <tr>\n",
       "      <th>3</th>\n",
       "      <td>11-1010</td>\n",
       "      <td>Chief Executives</td>\n",
       "      <td>broad</td>\n",
       "      <td>210160</td>\n",
       "      <td>0.7</td>\n",
       "      <td>94.25</td>\n",
       "      <td>196050</td>\n",
       "      <td>0.4</td>\n",
       "      <td>32.74</td>\n",
       "      <td>54.55</td>\n",
       "      <td>88.11</td>\n",
       "      <td>#</td>\n",
       "      <td>#</td>\n",
       "      <td>68110</td>\n",
       "      <td>113470</td>\n",
       "      <td>183270</td>\n",
       "      <td>#</td>\n",
       "      <td>#</td>\n",
       "      <td>2017</td>\n",
       "    </tr>\n",
       "    <tr>\n",
       "      <th>4</th>\n",
       "      <td>11-1011</td>\n",
       "      <td>Chief Executives</td>\n",
       "      <td>detailed</td>\n",
       "      <td>210160</td>\n",
       "      <td>0.7</td>\n",
       "      <td>94.25</td>\n",
       "      <td>196050</td>\n",
       "      <td>0.4</td>\n",
       "      <td>32.74</td>\n",
       "      <td>54.55</td>\n",
       "      <td>88.11</td>\n",
       "      <td>#</td>\n",
       "      <td>#</td>\n",
       "      <td>68110</td>\n",
       "      <td>113470</td>\n",
       "      <td>183270</td>\n",
       "      <td>#</td>\n",
       "      <td>#</td>\n",
       "      <td>2017</td>\n",
       "    </tr>\n",
       "    <tr>\n",
       "      <th>...</th>\n",
       "      <td>...</td>\n",
       "      <td>...</td>\n",
       "      <td>...</td>\n",
       "      <td>...</td>\n",
       "      <td>...</td>\n",
       "      <td>...</td>\n",
       "      <td>...</td>\n",
       "      <td>...</td>\n",
       "      <td>...</td>\n",
       "      <td>...</td>\n",
       "      <td>...</td>\n",
       "      <td>...</td>\n",
       "      <td>...</td>\n",
       "      <td>...</td>\n",
       "      <td>...</td>\n",
       "      <td>...</td>\n",
       "      <td>...</td>\n",
       "      <td>...</td>\n",
       "      <td>...</td>\n",
       "    </tr>\n",
       "    <tr>\n",
       "      <th>1398</th>\n",
       "      <td>53-7081</td>\n",
       "      <td>Refuse and Recyclable Material Collectors</td>\n",
       "      <td>detailed</td>\n",
       "      <td>126050</td>\n",
       "      <td>1.5</td>\n",
       "      <td>20.57</td>\n",
       "      <td>42780</td>\n",
       "      <td>0.7</td>\n",
       "      <td>11.99</td>\n",
       "      <td>14.56</td>\n",
       "      <td>18.51</td>\n",
       "      <td>23.5</td>\n",
       "      <td>29.96</td>\n",
       "      <td>24950</td>\n",
       "      <td>30270</td>\n",
       "      <td>38500</td>\n",
       "      <td>48870</td>\n",
       "      <td>62310</td>\n",
       "      <td>2021</td>\n",
       "    </tr>\n",
       "    <tr>\n",
       "      <th>1399</th>\n",
       "      <td>53-7120</td>\n",
       "      <td>Tank Car, Truck, and Ship Loaders</td>\n",
       "      <td>broad</td>\n",
       "      <td>12090</td>\n",
       "      <td>6.8</td>\n",
       "      <td>26.6</td>\n",
       "      <td>55330</td>\n",
       "      <td>2.6</td>\n",
       "      <td>15.91</td>\n",
       "      <td>18.54</td>\n",
       "      <td>23.75</td>\n",
       "      <td>37.31</td>\n",
       "      <td>38.39</td>\n",
       "      <td>33090</td>\n",
       "      <td>38570</td>\n",
       "      <td>49390</td>\n",
       "      <td>77610</td>\n",
       "      <td>79860</td>\n",
       "      <td>2021</td>\n",
       "    </tr>\n",
       "    <tr>\n",
       "      <th>1400</th>\n",
       "      <td>53-7121</td>\n",
       "      <td>Tank Car, Truck, and Ship Loaders</td>\n",
       "      <td>detailed</td>\n",
       "      <td>12090</td>\n",
       "      <td>6.8</td>\n",
       "      <td>26.6</td>\n",
       "      <td>55330</td>\n",
       "      <td>2.6</td>\n",
       "      <td>15.91</td>\n",
       "      <td>18.54</td>\n",
       "      <td>23.75</td>\n",
       "      <td>37.31</td>\n",
       "      <td>38.39</td>\n",
       "      <td>33090</td>\n",
       "      <td>38570</td>\n",
       "      <td>49390</td>\n",
       "      <td>77610</td>\n",
       "      <td>79860</td>\n",
       "      <td>2021</td>\n",
       "    </tr>\n",
       "    <tr>\n",
       "      <th>1401</th>\n",
       "      <td>53-7190</td>\n",
       "      <td>Miscellaneous Material Moving Workers</td>\n",
       "      <td>broad</td>\n",
       "      <td>22470</td>\n",
       "      <td>4.7</td>\n",
       "      <td>19.32</td>\n",
       "      <td>40190</td>\n",
       "      <td>1.8</td>\n",
       "      <td>13.68</td>\n",
       "      <td>14.4</td>\n",
       "      <td>17.38</td>\n",
       "      <td>22.78</td>\n",
       "      <td>29.24</td>\n",
       "      <td>28450</td>\n",
       "      <td>29960</td>\n",
       "      <td>36150</td>\n",
       "      <td>47380</td>\n",
       "      <td>60830</td>\n",
       "      <td>2021</td>\n",
       "    </tr>\n",
       "    <tr>\n",
       "      <th>1402</th>\n",
       "      <td>53-7199</td>\n",
       "      <td>Material Moving Workers, All Other</td>\n",
       "      <td>detailed</td>\n",
       "      <td>22470</td>\n",
       "      <td>4.7</td>\n",
       "      <td>19.32</td>\n",
       "      <td>40190</td>\n",
       "      <td>1.8</td>\n",
       "      <td>13.68</td>\n",
       "      <td>14.4</td>\n",
       "      <td>17.38</td>\n",
       "      <td>22.78</td>\n",
       "      <td>29.24</td>\n",
       "      <td>28450</td>\n",
       "      <td>29960</td>\n",
       "      <td>36150</td>\n",
       "      <td>47380</td>\n",
       "      <td>60830</td>\n",
       "      <td>2021</td>\n",
       "    </tr>\n",
       "  </tbody>\n",
       "</table>\n",
       "<p>6822 rows × 19 columns</p>\n",
       "</div>"
      ],
      "text/plain": [
       "     OCC_CODE                                  OCC_TITLE OCC_GROUP    TOT_EMP  \\\n",
       "0     00-0000                            All Occupations     total  142549250   \n",
       "1     11-0000                     Management Occupations     major    7280330   \n",
       "2     11-1000                             Top Executives     minor    2473740   \n",
       "3     11-1010                           Chief Executives     broad     210160   \n",
       "4     11-1011                           Chief Executives  detailed     210160   \n",
       "...       ...                                        ...       ...        ...   \n",
       "1398  53-7081  Refuse and Recyclable Material Collectors  detailed     126050   \n",
       "1399  53-7120          Tank Car, Truck, and Ship Loaders     broad      12090   \n",
       "1400  53-7121          Tank Car, Truck, and Ship Loaders  detailed      12090   \n",
       "1401  53-7190      Miscellaneous Material Moving Workers     broad      22470   \n",
       "1402  53-7199         Material Moving Workers, All Other  detailed      22470   \n",
       "\n",
       "     EMP_PRSE H_MEAN  A_MEAN MEAN_PRSE H_PCT10 H_PCT25 H_MEDIAN H_PCT75  \\\n",
       "0         0.1  24.34   50620       0.1     9.6   11.91    18.12   29.38   \n",
       "1         0.2  57.65  119910       0.1   23.19    33.6    49.32   71.83   \n",
       "2         0.3  61.55  128020       0.2   20.74   31.74    49.58   78.72   \n",
       "3         0.7  94.25  196050       0.4   32.74   54.55    88.11       #   \n",
       "4         0.7  94.25  196050       0.4   32.74   54.55    88.11       #   \n",
       "...       ...    ...     ...       ...     ...     ...      ...     ...   \n",
       "1398      1.5  20.57   42780       0.7   11.99   14.56    18.51    23.5   \n",
       "1399      6.8   26.6   55330       2.6   15.91   18.54    23.75   37.31   \n",
       "1400      6.8   26.6   55330       2.6   15.91   18.54    23.75   37.31   \n",
       "1401      4.7  19.32   40190       1.8   13.68    14.4    17.38   22.78   \n",
       "1402      4.7  19.32   40190       1.8   13.68    14.4    17.38   22.78   \n",
       "\n",
       "     H_PCT90 A_PCT10 A_PCT25 A_MEDIAN A_PCT75 A_PCT90  YEAR  \n",
       "0      46.23   19970   24770    37690   61110   96150  2017  \n",
       "1          #   48220   69880   102590  149410       #  2017  \n",
       "2          #   43140   66030   103120  163740       #  2017  \n",
       "3          #   68110  113470   183270       #       #  2017  \n",
       "4          #   68110  113470   183270       #       #  2017  \n",
       "...      ...     ...     ...      ...     ...     ...   ...  \n",
       "1398   29.96   24950   30270    38500   48870   62310  2021  \n",
       "1399   38.39   33090   38570    49390   77610   79860  2021  \n",
       "1400   38.39   33090   38570    49390   77610   79860  2021  \n",
       "1401   29.24   28450   29960    36150   47380   60830  2021  \n",
       "1402   29.24   28450   29960    36150   47380   60830  2021  \n",
       "\n",
       "[6822 rows x 19 columns]"
      ]
     },
     "execution_count": 29,
     "metadata": {},
     "output_type": "execute_result"
    }
   ],
   "source": [
    "national_df = pd.concat([national2017_ordered, national2018_ordered, national2019_ordered, national2020_ordered, national2021_ordered], axis=0)\n",
    "national_df.shape\n",
    "national_df"
   ]
  },
  {
   "cell_type": "code",
   "execution_count": 30,
   "metadata": {},
   "outputs": [
    {
     "data": {
      "text/html": [
       "<div>\n",
       "<style scoped>\n",
       "    .dataframe tbody tr th:only-of-type {\n",
       "        vertical-align: middle;\n",
       "    }\n",
       "\n",
       "    .dataframe tbody tr th {\n",
       "        vertical-align: top;\n",
       "    }\n",
       "\n",
       "    .dataframe thead th {\n",
       "        text-align: right;\n",
       "    }\n",
       "</style>\n",
       "<table border=\"1\" class=\"dataframe\">\n",
       "  <thead>\n",
       "    <tr style=\"text-align: right;\">\n",
       "      <th></th>\n",
       "      <th>OCC_TITLE</th>\n",
       "      <th>OCC_GROUP</th>\n",
       "      <th>TOT_EMP</th>\n",
       "      <th>H_MEAN</th>\n",
       "      <th>A_MEAN</th>\n",
       "      <th>H_MEDIAN</th>\n",
       "      <th>A_MEDIAN</th>\n",
       "      <th>YEAR</th>\n",
       "    </tr>\n",
       "  </thead>\n",
       "  <tbody>\n",
       "    <tr>\n",
       "      <th>0</th>\n",
       "      <td>All Occupations</td>\n",
       "      <td>total</td>\n",
       "      <td>142549250</td>\n",
       "      <td>24.34</td>\n",
       "      <td>50620</td>\n",
       "      <td>18.12</td>\n",
       "      <td>37690</td>\n",
       "      <td>2017</td>\n",
       "    </tr>\n",
       "    <tr>\n",
       "      <th>1</th>\n",
       "      <td>Management Occupations</td>\n",
       "      <td>major</td>\n",
       "      <td>7280330</td>\n",
       "      <td>57.65</td>\n",
       "      <td>119910</td>\n",
       "      <td>49.32</td>\n",
       "      <td>102590</td>\n",
       "      <td>2017</td>\n",
       "    </tr>\n",
       "    <tr>\n",
       "      <th>2</th>\n",
       "      <td>Top Executives</td>\n",
       "      <td>minor</td>\n",
       "      <td>2473740</td>\n",
       "      <td>61.55</td>\n",
       "      <td>128020</td>\n",
       "      <td>49.58</td>\n",
       "      <td>103120</td>\n",
       "      <td>2017</td>\n",
       "    </tr>\n",
       "    <tr>\n",
       "      <th>3</th>\n",
       "      <td>Chief Executives</td>\n",
       "      <td>broad</td>\n",
       "      <td>210160</td>\n",
       "      <td>94.25</td>\n",
       "      <td>196050</td>\n",
       "      <td>88.11</td>\n",
       "      <td>183270</td>\n",
       "      <td>2017</td>\n",
       "    </tr>\n",
       "    <tr>\n",
       "      <th>4</th>\n",
       "      <td>Chief Executives</td>\n",
       "      <td>detailed</td>\n",
       "      <td>210160</td>\n",
       "      <td>94.25</td>\n",
       "      <td>196050</td>\n",
       "      <td>88.11</td>\n",
       "      <td>183270</td>\n",
       "      <td>2017</td>\n",
       "    </tr>\n",
       "    <tr>\n",
       "      <th>...</th>\n",
       "      <td>...</td>\n",
       "      <td>...</td>\n",
       "      <td>...</td>\n",
       "      <td>...</td>\n",
       "      <td>...</td>\n",
       "      <td>...</td>\n",
       "      <td>...</td>\n",
       "      <td>...</td>\n",
       "    </tr>\n",
       "    <tr>\n",
       "      <th>1398</th>\n",
       "      <td>Refuse and Recyclable Material Collectors</td>\n",
       "      <td>detailed</td>\n",
       "      <td>126050</td>\n",
       "      <td>20.57</td>\n",
       "      <td>42780</td>\n",
       "      <td>18.51</td>\n",
       "      <td>38500</td>\n",
       "      <td>2021</td>\n",
       "    </tr>\n",
       "    <tr>\n",
       "      <th>1399</th>\n",
       "      <td>Tank Car, Truck, and Ship Loaders</td>\n",
       "      <td>broad</td>\n",
       "      <td>12090</td>\n",
       "      <td>26.6</td>\n",
       "      <td>55330</td>\n",
       "      <td>23.75</td>\n",
       "      <td>49390</td>\n",
       "      <td>2021</td>\n",
       "    </tr>\n",
       "    <tr>\n",
       "      <th>1400</th>\n",
       "      <td>Tank Car, Truck, and Ship Loaders</td>\n",
       "      <td>detailed</td>\n",
       "      <td>12090</td>\n",
       "      <td>26.6</td>\n",
       "      <td>55330</td>\n",
       "      <td>23.75</td>\n",
       "      <td>49390</td>\n",
       "      <td>2021</td>\n",
       "    </tr>\n",
       "    <tr>\n",
       "      <th>1401</th>\n",
       "      <td>Miscellaneous Material Moving Workers</td>\n",
       "      <td>broad</td>\n",
       "      <td>22470</td>\n",
       "      <td>19.32</td>\n",
       "      <td>40190</td>\n",
       "      <td>17.38</td>\n",
       "      <td>36150</td>\n",
       "      <td>2021</td>\n",
       "    </tr>\n",
       "    <tr>\n",
       "      <th>1402</th>\n",
       "      <td>Material Moving Workers, All Other</td>\n",
       "      <td>detailed</td>\n",
       "      <td>22470</td>\n",
       "      <td>19.32</td>\n",
       "      <td>40190</td>\n",
       "      <td>17.38</td>\n",
       "      <td>36150</td>\n",
       "      <td>2021</td>\n",
       "    </tr>\n",
       "  </tbody>\n",
       "</table>\n",
       "<p>6822 rows × 8 columns</p>\n",
       "</div>"
      ],
      "text/plain": [
       "                                      OCC_TITLE OCC_GROUP    TOT_EMP H_MEAN  \\\n",
       "0                               All Occupations     total  142549250  24.34   \n",
       "1                        Management Occupations     major    7280330  57.65   \n",
       "2                                Top Executives     minor    2473740  61.55   \n",
       "3                              Chief Executives     broad     210160  94.25   \n",
       "4                              Chief Executives  detailed     210160  94.25   \n",
       "...                                         ...       ...        ...    ...   \n",
       "1398  Refuse and Recyclable Material Collectors  detailed     126050  20.57   \n",
       "1399          Tank Car, Truck, and Ship Loaders     broad      12090   26.6   \n",
       "1400          Tank Car, Truck, and Ship Loaders  detailed      12090   26.6   \n",
       "1401      Miscellaneous Material Moving Workers     broad      22470  19.32   \n",
       "1402         Material Moving Workers, All Other  detailed      22470  19.32   \n",
       "\n",
       "      A_MEAN H_MEDIAN A_MEDIAN  YEAR  \n",
       "0      50620    18.12    37690  2017  \n",
       "1     119910    49.32   102590  2017  \n",
       "2     128020    49.58   103120  2017  \n",
       "3     196050    88.11   183270  2017  \n",
       "4     196050    88.11   183270  2017  \n",
       "...      ...      ...      ...   ...  \n",
       "1398   42780    18.51    38500  2021  \n",
       "1399   55330    23.75    49390  2021  \n",
       "1400   55330    23.75    49390  2021  \n",
       "1401   40190    17.38    36150  2021  \n",
       "1402   40190    17.38    36150  2021  \n",
       "\n",
       "[6822 rows x 8 columns]"
      ]
     },
     "execution_count": 30,
     "metadata": {},
     "output_type": "execute_result"
    }
   ],
   "source": [
    "national_df = national_df[[\n",
    "    'OCC_TITLE', 'OCC_GROUP', 'TOT_EMP', 'H_MEAN',\n",
    "    'A_MEAN', 'H_MEDIAN', 'A_MEDIAN', 'YEAR']]\n",
    "national_df"
   ]
  },
  {
   "attachments": {},
   "cell_type": "markdown",
   "metadata": {},
   "source": [
    "# State salary data"
   ]
  },
  {
   "attachments": {},
   "cell_type": "markdown",
   "metadata": {},
   "source": [
    "Read in state salary data from excel"
   ]
  },
  {
   "cell_type": "code",
   "execution_count": 31,
   "metadata": {},
   "outputs": [],
   "source": [
    "state1997_df = pd.read_excel(\"../data/state_M1997_dl.xls\")\n",
    "state1998_df = pd.read_excel(\"../data/state_M1998_dl.xls\")\n",
    "state1999_df = pd.read_excel(\"../data/state_M1999_dl.xls\")\n",
    "state2000_df = pd.read_excel(\"../data/state_M2000_dl.xls\")\n",
    "state2001_df = pd.read_excel(\"../data/state_M2001_dl.xls\")\n",
    "state2002_df = pd.read_excel(\"../data/state_M2002_dl.xls\")\n",
    "state2003_df = pd.read_excel(\"../data/state_M2003_dl.xls\")\n",
    "state2004_df = pd.read_excel(\"../data/state_M2004_dl.xls\")\n",
    "state2005_df = pd.read_excel(\"../data/state_M2005_dl.xls\")\n",
    "state2006_df = pd.read_excel(\"../data/state_M2006_dl.xls\")\n",
    "state2007_df = pd.read_excel(\"../data/state_M2007_dl.xls\")\n",
    "state2008_df = pd.read_excel(\"../data/state_M2008_dl.xls\")\n",
    "state2009_df = pd.read_excel(\"../data/state_M2009_dl.xls\")\n",
    "state2010_df = pd.read_excel(\"../data/state_M2010_dl.xls\")\n",
    "state2011_df = pd.read_excel(\"../data/state_M2011_dl.xls\")\n",
    "state2012_df = pd.read_excel(\"../data/state_M2012_dl.xls\")\n",
    "state2013_df = pd.read_excel(\"../data/state_M2013_dl.xls\")\n",
    "state2014_df = pd.read_excel(\"../data/state_M2014_dl.xlsx\")\n",
    "state2015_df = pd.read_excel(\"../data/state_M2015_dl.xlsx\")\n",
    "state2016_df = pd.read_excel(\"../data/state_M2016_dl.xlsx\")\n",
    "state2017_df = pd.read_excel(\"../data/state_M2017_dl.xlsx\")\n",
    "state2018_df = pd.read_excel(\"../data/state_M2018_dl.xlsx\")\n",
    "state2019_df = pd.read_excel(\"../data/state_M2019_dl.xlsx\")\n",
    "state2020_df = pd.read_excel(\"../data/state_M2020_dl.xlsx\")\n",
    "state2021_df = pd.read_excel(\"../data/state_M2021_dl.xlsx\")\n",
    "state2022_df = pd.read_excel(\"../data/state_M2022_dl.xlsx\")\n",
    "\n"
   ]
  },
  {
   "cell_type": "code",
   "execution_count": 32,
   "metadata": {},
   "outputs": [],
   "source": [
    "state2017_df['Year'] = 2017\n",
    "state2018_df['Year'] = 2018\n",
    "state2019_df['Year'] = 2019\n",
    "state2020_df['Year'] = 2020\n",
    "state2021_df['Year'] = 2021"
   ]
  },
  {
   "cell_type": "code",
   "execution_count": 33,
   "metadata": {},
   "outputs": [],
   "source": [
    "upper_columns(state2017_df)\n",
    "upper_columns(state2018_df)\n",
    "upper_columns(state2019_df)\n",
    "upper_columns(state2020_df)\n",
    "upper_columns(state2021_df)"
   ]
  },
  {
   "attachments": {},
   "cell_type": "markdown",
   "metadata": {},
   "source": [
    "Rename columns that are unmatched"
   ]
  },
  {
   "cell_type": "code",
   "execution_count": 34,
   "metadata": {},
   "outputs": [],
   "source": [
    "state2019_df = state2019_df.rename(columns={'AREA_TITLE': 'STATE'})\n",
    "state2020_df = state2020_df.rename(columns={'AREA_TITLE': 'STATE'})\n",
    "state2021_df = state2021_df.rename(columns={'AREA_TITLE': 'STATE'})\n",
    "\n",
    "state2019_df = state2019_df.rename(columns={'O_GROUP': 'OCC_GROUP'})\n",
    "state2020_df = state2020_df.rename(columns={'O_GROUP': 'OCC_GROUP'})\n",
    "state2021_df = state2021_df.rename(columns={'O_GROUP': 'OCC_GROUP'})\n",
    "\n",
    "state2017_df = state2017_df.rename(columns={'LOC_Q': 'LOC_QUOTIENT'})\n",
    "state2018_df = state2018_df.rename(columns={'LOC_Q': 'LOC_QUOTIENT'})\n"
   ]
  },
  {
   "attachments": {},
   "cell_type": "markdown",
   "metadata": {},
   "source": [
    "Filter columns and set correct column order"
   ]
  },
  {
   "cell_type": "code",
   "execution_count": 35,
   "metadata": {},
   "outputs": [],
   "source": [
    "state2017_ordered = state2017_df[[\n",
    "    'AREA', 'STATE', 'OCC_CODE', 'OCC_TITLE', 'OCC_GROUP', 'TOT_EMP',\n",
    "    'EMP_PRSE', 'JOBS_1000', 'LOC_QUOTIENT', 'H_MEAN', 'A_MEAN', 'MEAN_PRSE',\n",
    "    'H_PCT10', 'H_PCT25', 'H_MEDIAN', 'H_PCT75', 'H_PCT90', 'A_PCT10',\n",
    "    'A_PCT25', 'A_MEDIAN', 'A_PCT75', 'A_PCT90', 'YEAR']]\n",
    "state2018_ordered = state2018_df[[\n",
    "    'AREA', 'STATE', 'OCC_CODE', 'OCC_TITLE', 'OCC_GROUP', 'TOT_EMP',\n",
    "    'EMP_PRSE', 'JOBS_1000', 'LOC_QUOTIENT', 'H_MEAN', 'A_MEAN', 'MEAN_PRSE',\n",
    "    'H_PCT10', 'H_PCT25', 'H_MEDIAN', 'H_PCT75', 'H_PCT90', 'A_PCT10',\n",
    "    'A_PCT25', 'A_MEDIAN', 'A_PCT75', 'A_PCT90', 'YEAR']]\n",
    "state2019_ordered = state2019_df[[\n",
    "    'AREA', 'STATE', 'OCC_CODE', 'OCC_TITLE', 'OCC_GROUP', 'TOT_EMP',\n",
    "    'EMP_PRSE', 'JOBS_1000', 'LOC_QUOTIENT', 'H_MEAN', 'A_MEAN', 'MEAN_PRSE',\n",
    "    'H_PCT10', 'H_PCT25', 'H_MEDIAN', 'H_PCT75', 'H_PCT90', 'A_PCT10',\n",
    "    'A_PCT25', 'A_MEDIAN', 'A_PCT75', 'A_PCT90', 'YEAR']]\n",
    "state2020_ordered = state2020_df[[\n",
    "    'AREA', 'STATE', 'OCC_CODE', 'OCC_TITLE', 'OCC_GROUP', 'TOT_EMP',\n",
    "    'EMP_PRSE', 'JOBS_1000', 'LOC_QUOTIENT', 'H_MEAN', 'A_MEAN', 'MEAN_PRSE',\n",
    "    'H_PCT10', 'H_PCT25', 'H_MEDIAN', 'H_PCT75', 'H_PCT90', 'A_PCT10',\n",
    "    'A_PCT25', 'A_MEDIAN', 'A_PCT75', 'A_PCT90', 'YEAR']]\n",
    "state2021_ordered = state2021_df[[\n",
    "    'AREA', 'STATE', 'OCC_CODE', 'OCC_TITLE', 'OCC_GROUP', 'TOT_EMP',\n",
    "    'EMP_PRSE', 'JOBS_1000', 'LOC_QUOTIENT', 'H_MEAN', 'A_MEAN', 'MEAN_PRSE',\n",
    "    'H_PCT10', 'H_PCT25', 'H_MEDIAN', 'H_PCT75', 'H_PCT90', 'A_PCT10',\n",
    "    'A_PCT25', 'A_MEDIAN', 'A_PCT75', 'A_PCT90', 'YEAR']]"
   ]
  },
  {
   "attachments": {},
   "cell_type": "markdown",
   "metadata": {},
   "source": [
    "Concat all State data into one df"
   ]
  },
  {
   "cell_type": "code",
   "execution_count": 36,
   "metadata": {},
   "outputs": [
    {
     "data": {
      "text/plain": [
       "(183936, 23)"
      ]
     },
     "execution_count": 36,
     "metadata": {},
     "output_type": "execute_result"
    }
   ],
   "source": [
    "state_df = pd.concat([state2017_ordered, state2018_ordered, state2019_ordered, state2020_ordered, state2021_ordered], axis=0)\n",
    "state_df.shape"
   ]
  },
  {
   "attachments": {},
   "cell_type": "markdown",
   "metadata": {},
   "source": [
    "Remove non-state territories"
   ]
  },
  {
   "cell_type": "code",
   "execution_count": 37,
   "metadata": {},
   "outputs": [
    {
     "data": {
      "text/plain": [
       "Index(['AREA', 'STATE', 'OCC_CODE', 'OCC_TITLE', 'OCC_GROUP', 'TOT_EMP',\n",
       "       'EMP_PRSE', 'JOBS_1000', 'LOC_QUOTIENT', 'H_MEAN', 'A_MEAN',\n",
       "       'MEAN_PRSE', 'H_PCT10', 'H_PCT25', 'H_MEDIAN', 'H_PCT75', 'H_PCT90',\n",
       "       'A_PCT10', 'A_PCT25', 'A_MEDIAN', 'A_PCT75', 'A_PCT90', 'YEAR'],\n",
       "      dtype='object')"
      ]
     },
     "execution_count": 37,
     "metadata": {},
     "output_type": "execute_result"
    }
   ],
   "source": [
    "state_df = state_df[state_df['STATE'] != 'Guam'] \n",
    "state_df = state_df[state_df['STATE'] != 'Puerto Rico'] \n",
    "state_df = state_df[state_df['STATE'] != 'Virgin Islands']\n",
    "state_df = state_df[state_df['STATE'] != 'District of Columbia']\n",
    "state_df.columns"
   ]
  },
  {
   "attachments": {},
   "cell_type": "markdown",
   "metadata": {},
   "source": [
    "Filter out unnecessary columns"
   ]
  },
  {
   "cell_type": "code",
   "execution_count": 38,
   "metadata": {},
   "outputs": [],
   "source": [
    "state_df = state_df[[\n",
    "    'STATE', 'OCC_TITLE', 'OCC_GROUP', 'TOT_EMP',\n",
    "    'JOBS_1000', 'LOC_QUOTIENT', 'H_MEAN', 'A_MEAN', \n",
    "    'H_MEDIAN', 'A_MEDIAN', 'YEAR']]"
   ]
  },
  {
   "attachments": {},
   "cell_type": "markdown",
   "metadata": {},
   "source": [
    "Remove missing data"
   ]
  },
  {
   "cell_type": "code",
   "execution_count": 39,
   "metadata": {},
   "outputs": [],
   "source": [
    "state_df = state_df[state_df['LOC_QUOTIENT'] != '#']\n",
    "state_df = state_df[state_df['LOC_QUOTIENT'] != '*']\n",
    "state_df = state_df[state_df['LOC_QUOTIENT'] != '**']\n",
    "state_df = state_df[state_df['JOBS_1000'] != '#']\n",
    "state_df = state_df[state_df['JOBS_1000'] != '*']\n",
    "state_df = state_df[state_df['JOBS_1000'] != '**']\n",
    "state_df = state_df[state_df['TOT_EMP'] != '#']\n",
    "state_df = state_df[state_df['TOT_EMP'] != '*']\n",
    "state_df = state_df[state_df['TOT_EMP'] != '**']\n",
    "state_df = state_df[state_df['H_MEAN'] != '#']\n",
    "state_df = state_df[state_df['H_MEAN'] != '*']\n",
    "state_df = state_df[state_df['A_MEAN'] != '#']\n",
    "state_df = state_df[state_df['A_MEAN'] != '*']\n",
    "state_df = state_df[state_df['H_MEDIAN'] != '#']\n",
    "state_df = state_df[state_df['H_MEDIAN'] != '*']\n",
    "state_df = state_df[state_df['A_MEDIAN'] != '#']\n",
    "state_df = state_df[state_df['A_MEDIAN'] != '*']"
   ]
  },
  {
   "attachments": {},
   "cell_type": "markdown",
   "metadata": {},
   "source": [
    "Convert types"
   ]
  },
  {
   "cell_type": "code",
   "execution_count": 40,
   "metadata": {},
   "outputs": [],
   "source": [
    "state_df = state_df.astype({'TOT_EMP': int, 'JOBS_1000': float, 'LOC_QUOTIENT': float, 'H_MEAN': float, 'A_MEAN': int, 'H_MEDIAN': float, 'A_MEDIAN': float, 'YEAR': int})\n"
   ]
  },
  {
   "cell_type": "code",
   "execution_count": 41,
   "metadata": {},
   "outputs": [
    {
     "ename": "OSError",
     "evalue": "Cannot save file into a non-existent directory: 'output'",
     "output_type": "error",
     "traceback": [
      "\u001b[1;31m---------------------------------------------------------------------------\u001b[0m",
      "\u001b[1;31mOSError\u001b[0m                                   Traceback (most recent call last)",
      "\u001b[1;32m~\\AppData\\Local\\Temp\\ipykernel_36064\\3628508191.py\u001b[0m in \u001b[0;36m<module>\u001b[1;34m\u001b[0m\n\u001b[1;32m----> 1\u001b[1;33m \u001b[0mpoverty_state\u001b[0m\u001b[1;33m.\u001b[0m\u001b[0mto_csv\u001b[0m\u001b[1;33m(\u001b[0m\u001b[1;34m'output/state_poverty.csv'\u001b[0m\u001b[1;33m,\u001b[0m \u001b[0mindex\u001b[0m\u001b[1;33m=\u001b[0m\u001b[1;32mFalse\u001b[0m\u001b[1;33m)\u001b[0m\u001b[1;33m\u001b[0m\u001b[1;33m\u001b[0m\u001b[0m\n\u001b[0m\u001b[0;32m      2\u001b[0m \u001b[0mpoverty_nat\u001b[0m\u001b[1;33m.\u001b[0m\u001b[0mto_csv\u001b[0m\u001b[1;33m(\u001b[0m\u001b[1;34m'output/national_poverty.csv'\u001b[0m\u001b[1;33m,\u001b[0m \u001b[0mindex\u001b[0m\u001b[1;33m=\u001b[0m\u001b[1;32mFalse\u001b[0m\u001b[1;33m)\u001b[0m\u001b[1;33m\u001b[0m\u001b[1;33m\u001b[0m\u001b[0m\n\u001b[0;32m      3\u001b[0m \u001b[0mnational_df\u001b[0m\u001b[1;33m.\u001b[0m\u001b[0mto_csv\u001b[0m\u001b[1;33m(\u001b[0m\u001b[1;34m'output/national_salary.csv'\u001b[0m\u001b[1;33m,\u001b[0m \u001b[0mindex\u001b[0m\u001b[1;33m=\u001b[0m\u001b[1;32mFalse\u001b[0m\u001b[1;33m)\u001b[0m\u001b[1;33m\u001b[0m\u001b[1;33m\u001b[0m\u001b[0m\n\u001b[0;32m      4\u001b[0m \u001b[0mstate_df\u001b[0m\u001b[1;33m.\u001b[0m\u001b[0mto_csv\u001b[0m\u001b[1;33m(\u001b[0m\u001b[1;34m'output/state_salary.csv'\u001b[0m\u001b[1;33m,\u001b[0m \u001b[0mindex\u001b[0m\u001b[1;33m=\u001b[0m\u001b[1;32mFalse\u001b[0m\u001b[1;33m)\u001b[0m\u001b[1;33m\u001b[0m\u001b[1;33m\u001b[0m\u001b[0m\n",
      "\u001b[1;32mc:\\Users\\kendr\\anaconda3\\lib\\site-packages\\pandas\\core\\generic.py\u001b[0m in \u001b[0;36mto_csv\u001b[1;34m(self, path_or_buf, sep, na_rep, float_format, columns, header, index, index_label, mode, encoding, compression, quoting, quotechar, line_terminator, chunksize, date_format, doublequote, escapechar, decimal, errors, storage_options)\u001b[0m\n\u001b[0;32m   3549\u001b[0m         )\n\u001b[0;32m   3550\u001b[0m \u001b[1;33m\u001b[0m\u001b[0m\n\u001b[1;32m-> 3551\u001b[1;33m         return DataFrameRenderer(formatter).to_csv(\n\u001b[0m\u001b[0;32m   3552\u001b[0m             \u001b[0mpath_or_buf\u001b[0m\u001b[1;33m,\u001b[0m\u001b[1;33m\u001b[0m\u001b[1;33m\u001b[0m\u001b[0m\n\u001b[0;32m   3553\u001b[0m             \u001b[0mline_terminator\u001b[0m\u001b[1;33m=\u001b[0m\u001b[0mline_terminator\u001b[0m\u001b[1;33m,\u001b[0m\u001b[1;33m\u001b[0m\u001b[1;33m\u001b[0m\u001b[0m\n",
      "\u001b[1;32mc:\\Users\\kendr\\anaconda3\\lib\\site-packages\\pandas\\io\\formats\\format.py\u001b[0m in \u001b[0;36mto_csv\u001b[1;34m(self, path_or_buf, encoding, sep, columns, index_label, mode, compression, quoting, quotechar, line_terminator, chunksize, date_format, doublequote, escapechar, errors, storage_options)\u001b[0m\n\u001b[0;32m   1178\u001b[0m             \u001b[0mformatter\u001b[0m\u001b[1;33m=\u001b[0m\u001b[0mself\u001b[0m\u001b[1;33m.\u001b[0m\u001b[0mfmt\u001b[0m\u001b[1;33m,\u001b[0m\u001b[1;33m\u001b[0m\u001b[1;33m\u001b[0m\u001b[0m\n\u001b[0;32m   1179\u001b[0m         )\n\u001b[1;32m-> 1180\u001b[1;33m         \u001b[0mcsv_formatter\u001b[0m\u001b[1;33m.\u001b[0m\u001b[0msave\u001b[0m\u001b[1;33m(\u001b[0m\u001b[1;33m)\u001b[0m\u001b[1;33m\u001b[0m\u001b[1;33m\u001b[0m\u001b[0m\n\u001b[0m\u001b[0;32m   1181\u001b[0m \u001b[1;33m\u001b[0m\u001b[0m\n\u001b[0;32m   1182\u001b[0m         \u001b[1;32mif\u001b[0m \u001b[0mcreated_buffer\u001b[0m\u001b[1;33m:\u001b[0m\u001b[1;33m\u001b[0m\u001b[1;33m\u001b[0m\u001b[0m\n",
      "\u001b[1;32mc:\\Users\\kendr\\anaconda3\\lib\\site-packages\\pandas\\io\\formats\\csvs.py\u001b[0m in \u001b[0;36msave\u001b[1;34m(self)\u001b[0m\n\u001b[0;32m    239\u001b[0m         \"\"\"\n\u001b[0;32m    240\u001b[0m         \u001b[1;31m# apply compression and byte/text conversion\u001b[0m\u001b[1;33m\u001b[0m\u001b[1;33m\u001b[0m\u001b[0m\n\u001b[1;32m--> 241\u001b[1;33m         with get_handle(\n\u001b[0m\u001b[0;32m    242\u001b[0m             \u001b[0mself\u001b[0m\u001b[1;33m.\u001b[0m\u001b[0mfilepath_or_buffer\u001b[0m\u001b[1;33m,\u001b[0m\u001b[1;33m\u001b[0m\u001b[1;33m\u001b[0m\u001b[0m\n\u001b[0;32m    243\u001b[0m             \u001b[0mself\u001b[0m\u001b[1;33m.\u001b[0m\u001b[0mmode\u001b[0m\u001b[1;33m,\u001b[0m\u001b[1;33m\u001b[0m\u001b[1;33m\u001b[0m\u001b[0m\n",
      "\u001b[1;32mc:\\Users\\kendr\\anaconda3\\lib\\site-packages\\pandas\\io\\common.py\u001b[0m in \u001b[0;36mget_handle\u001b[1;34m(path_or_buf, mode, encoding, compression, memory_map, is_text, errors, storage_options)\u001b[0m\n\u001b[0;32m    692\u001b[0m     \u001b[1;31m# Only for write methods\u001b[0m\u001b[1;33m\u001b[0m\u001b[1;33m\u001b[0m\u001b[0m\n\u001b[0;32m    693\u001b[0m     \u001b[1;32mif\u001b[0m \u001b[1;34m\"r\"\u001b[0m \u001b[1;32mnot\u001b[0m \u001b[1;32min\u001b[0m \u001b[0mmode\u001b[0m \u001b[1;32mand\u001b[0m \u001b[0mis_path\u001b[0m\u001b[1;33m:\u001b[0m\u001b[1;33m\u001b[0m\u001b[1;33m\u001b[0m\u001b[0m\n\u001b[1;32m--> 694\u001b[1;33m         \u001b[0mcheck_parent_directory\u001b[0m\u001b[1;33m(\u001b[0m\u001b[0mstr\u001b[0m\u001b[1;33m(\u001b[0m\u001b[0mhandle\u001b[0m\u001b[1;33m)\u001b[0m\u001b[1;33m)\u001b[0m\u001b[1;33m\u001b[0m\u001b[1;33m\u001b[0m\u001b[0m\n\u001b[0m\u001b[0;32m    695\u001b[0m \u001b[1;33m\u001b[0m\u001b[0m\n\u001b[0;32m    696\u001b[0m     \u001b[1;32mif\u001b[0m \u001b[0mcompression\u001b[0m\u001b[1;33m:\u001b[0m\u001b[1;33m\u001b[0m\u001b[1;33m\u001b[0m\u001b[0m\n",
      "\u001b[1;32mc:\\Users\\kendr\\anaconda3\\lib\\site-packages\\pandas\\io\\common.py\u001b[0m in \u001b[0;36mcheck_parent_directory\u001b[1;34m(path)\u001b[0m\n\u001b[0;32m    566\u001b[0m     \u001b[0mparent\u001b[0m \u001b[1;33m=\u001b[0m \u001b[0mPath\u001b[0m\u001b[1;33m(\u001b[0m\u001b[0mpath\u001b[0m\u001b[1;33m)\u001b[0m\u001b[1;33m.\u001b[0m\u001b[0mparent\u001b[0m\u001b[1;33m\u001b[0m\u001b[1;33m\u001b[0m\u001b[0m\n\u001b[0;32m    567\u001b[0m     \u001b[1;32mif\u001b[0m \u001b[1;32mnot\u001b[0m \u001b[0mparent\u001b[0m\u001b[1;33m.\u001b[0m\u001b[0mis_dir\u001b[0m\u001b[1;33m(\u001b[0m\u001b[1;33m)\u001b[0m\u001b[1;33m:\u001b[0m\u001b[1;33m\u001b[0m\u001b[1;33m\u001b[0m\u001b[0m\n\u001b[1;32m--> 568\u001b[1;33m         \u001b[1;32mraise\u001b[0m \u001b[0mOSError\u001b[0m\u001b[1;33m(\u001b[0m\u001b[1;34mrf\"Cannot save file into a non-existent directory: '{parent}'\"\u001b[0m\u001b[1;33m)\u001b[0m\u001b[1;33m\u001b[0m\u001b[1;33m\u001b[0m\u001b[0m\n\u001b[0m\u001b[0;32m    569\u001b[0m \u001b[1;33m\u001b[0m\u001b[0m\n\u001b[0;32m    570\u001b[0m \u001b[1;33m\u001b[0m\u001b[0m\n",
      "\u001b[1;31mOSError\u001b[0m: Cannot save file into a non-existent directory: 'output'"
     ]
    }
   ],
   "source": [
    "poverty_state.to_csv('output/state_poverty.csv', index=False)\n",
    "poverty_nat.to_csv('output/national_poverty.csv', index=False)\n",
    "national_df.to_csv('output/national_salary.csv', index=False)\n",
    "state_df.to_csv('output/state_salary.csv', index=False)"
   ]
  },
  {
   "cell_type": "code",
   "execution_count": null,
   "metadata": {},
   "outputs": [],
   "source": []
  },
  {
   "cell_type": "code",
   "execution_count": null,
   "metadata": {},
   "outputs": [],
   "source": [
    "import random\n",
    "import matplotlib\n",
    "from matplotlib import animation\n",
    "import matplotlib.pyplot as plt\n",
    "from matplotlib.animation import FuncAnimation\n",
    "from itertools import count\n",
    "\n",
    "\n",
    "l1 = [random.randint(-10,4)+(i**1.68)/(random.randint(13,14)) for i in range(0,160,2)]\n",
    "l2 = [random.randint(0,4)+(i**1.5)/(random.randint(9,11)) for i in range(0,160,2)]\n",
    "l3 = [random.randint(-10,10)-(i**1.3)/(random.randint(11,12)) for i in range(0,160,2)]\n",
    "l4 = [random.randint(0,4)+(i**1.6)/(random.randint(10,13)) for i in range(0,160,2)]\n",
    "\n",
    "fig, axes = plt.subplots(nrows = 1, ncols = 1, figsize = (15,5))\n",
    "axes.set_ylim(-100, 500)\n",
    "axes.set_xlim(0, 250)\n",
    "plt.style.use(\"ggplot\")\n",
    "\n",
    "x1,y1,y2,y3 = [], [], [], []\n",
    "xval = count(0,3)\n",
    "def animate(i):\n",
    "    x1.append(next(xval))\n",
    "    y1.append((l1[i]))\n",
    "    y2.append((l2[i]))\n",
    "    y3.append((l3[i]))\n",
    "\n",
    "    axes.plot(x1,y1, color=\"red\")\n",
    "    axes.plot(x1,y2, color=\"gray\", linewidth=0.5)\n",
    "    axes.plot(x1,y3, color=\"blue\")\n",
    "    \n",
    "anim = FuncAnimation(fig, animate, interval=30)"
   ]
  },
  {
   "cell_type": "code",
   "execution_count": null,
   "metadata": {},
   "outputs": [
    {
     "data": {
      "text/plain": [
       "Index(['COUNTY', 'PR_ALL', 'PR_YOUTH', 'MED_HH_INCOME', 'YEAR'], dtype='object')"
      ]
     },
     "execution_count": 23,
     "metadata": {},
     "output_type": "execute_result"
    }
   ],
   "source": [
    "poverty_county.columns"
   ]
  },
  {
   "cell_type": "code",
   "execution_count": null,
   "metadata": {},
   "outputs": [
    {
     "data": {
      "image/png": "[encoded data removed]",
      "text/plain": [
       "<Figure size 640x480 with 1 Axes>"
      ]
     },
     "metadata": {},
     "output_type": "display_data"
    },
    {
     "data": {
      "image/png": "[encoded data removed]",
      "text/plain": [
       "<Figure size 640x480 with 1 Axes>"
      ]
     },
     "metadata": {},
     "output_type": "display_data"
    },
    {
     "data": {
      "image/png": "[encoded data removed]",
      "text/plain": [
       "<Figure size 640x480 with 1 Axes>"
      ]
     },
     "metadata": {},
     "output_type": "display_data"
    },
    {
     "data": {
      "image/png": "[encoded data removed]",
      "text/plain": [
       "<Figure size 640x480 with 1 Axes>"
      ]
     },
     "metadata": {},
     "output_type": "display_data"
    }
   ],
   "source": [
    "plt.hist(poverty_county['PR_ALL'], edgecolor=\"yellow\", color=\"grey\")\n",
    "plt.show()\n",
    "plt.hist(poverty_county['PR_YOUTH'], edgecolor=\"yellow\", color=\"grey\")\n",
    "plt.show()\n",
    "plt.hist(poverty_county['MED_HH_INCOME'], edgecolor=\"yellow\", color=\"grey\")\n",
    "plt.show()\n",
    "plt.hist(poverty_county['YEAR'], edgecolor=\"yellow\", color=\"grey\")\n",
    "plt.show()"
   ]
  },
  {
   "cell_type": "code",
   "execution_count": null,
   "metadata": {},
   "outputs": [
    {
     "data": {
      "text/html": [
       "<div>\n",
       "<style scoped>\n",
       "    .dataframe tbody tr th:only-of-type {\n",
       "        vertical-align: middle;\n",
       "    }\n",
       "\n",
       "    .dataframe tbody tr th {\n",
       "        vertical-align: top;\n",
       "    }\n",
       "\n",
       "    .dataframe thead th {\n",
       "        text-align: right;\n",
       "    }\n",
       "</style>\n",
       "<table border=\"1\" class=\"dataframe\">\n",
       "  <thead>\n",
       "    <tr style=\"text-align: right;\">\n",
       "      <th></th>\n",
       "      <th>COUNTY</th>\n",
       "      <th>PR_ALL</th>\n",
       "      <th>PR_YOUTH</th>\n",
       "      <th>MED_HH_INCOME</th>\n",
       "      <th>YEAR</th>\n",
       "    </tr>\n",
       "  </thead>\n",
       "  <tbody>\n",
       "    <tr>\n",
       "      <th>0</th>\n",
       "      <td>Autauga County</td>\n",
       "      <td>14.3</td>\n",
       "      <td>20.2</td>\n",
       "      <td>26898.0</td>\n",
       "      <td>1989</td>\n",
       "    </tr>\n",
       "    <tr>\n",
       "      <th>1</th>\n",
       "      <td>Baldwin County</td>\n",
       "      <td>13.2</td>\n",
       "      <td>18.6</td>\n",
       "      <td>24043.0</td>\n",
       "      <td>1989</td>\n",
       "    </tr>\n",
       "    <tr>\n",
       "      <th>2</th>\n",
       "      <td>Barbour County</td>\n",
       "      <td>26.2</td>\n",
       "      <td>38.2</td>\n",
       "      <td>18673.0</td>\n",
       "      <td>1989</td>\n",
       "    </tr>\n",
       "    <tr>\n",
       "      <th>3</th>\n",
       "      <td>Bibb County</td>\n",
       "      <td>18.9</td>\n",
       "      <td>25.0</td>\n",
       "      <td>19604.0</td>\n",
       "      <td>1989</td>\n",
       "    </tr>\n",
       "    <tr>\n",
       "      <th>4</th>\n",
       "      <td>Blount County</td>\n",
       "      <td>13.4</td>\n",
       "      <td>19.4</td>\n",
       "      <td>24035.0</td>\n",
       "      <td>1989</td>\n",
       "    </tr>\n",
       "    <tr>\n",
       "      <th>...</th>\n",
       "      <td>...</td>\n",
       "      <td>...</td>\n",
       "      <td>...</td>\n",
       "      <td>...</td>\n",
       "      <td>...</td>\n",
       "    </tr>\n",
       "    <tr>\n",
       "      <th>91108</th>\n",
       "      <td>Sweetwater County</td>\n",
       "      <td>9.2</td>\n",
       "      <td>9.7</td>\n",
       "      <td>74677.0</td>\n",
       "      <td>2021</td>\n",
       "    </tr>\n",
       "    <tr>\n",
       "      <th>91109</th>\n",
       "      <td>Teton County</td>\n",
       "      <td>5.9</td>\n",
       "      <td>5.5</td>\n",
       "      <td>102709.0</td>\n",
       "      <td>2021</td>\n",
       "    </tr>\n",
       "    <tr>\n",
       "      <th>91110</th>\n",
       "      <td>Uinta County</td>\n",
       "      <td>9.4</td>\n",
       "      <td>11.2</td>\n",
       "      <td>70162.0</td>\n",
       "      <td>2021</td>\n",
       "    </tr>\n",
       "    <tr>\n",
       "      <th>91111</th>\n",
       "      <td>Washakie County</td>\n",
       "      <td>10.2</td>\n",
       "      <td>12.5</td>\n",
       "      <td>62176.0</td>\n",
       "      <td>2021</td>\n",
       "    </tr>\n",
       "    <tr>\n",
       "      <th>91112</th>\n",
       "      <td>Weston County</td>\n",
       "      <td>10.4</td>\n",
       "      <td>12.3</td>\n",
       "      <td>62509.0</td>\n",
       "      <td>2021</td>\n",
       "    </tr>\n",
       "  </tbody>\n",
       "</table>\n",
       "<p>91113 rows × 5 columns</p>\n",
       "</div>"
      ],
      "text/plain": [
       "                  COUNTY  PR_ALL  PR_YOUTH  MED_HH_INCOME  YEAR\n",
       "0         Autauga County    14.3      20.2        26898.0  1989\n",
       "1         Baldwin County    13.2      18.6        24043.0  1989\n",
       "2         Barbour County    26.2      38.2        18673.0  1989\n",
       "3            Bibb County    18.9      25.0        19604.0  1989\n",
       "4          Blount County    13.4      19.4        24035.0  1989\n",
       "...                  ...     ...       ...            ...   ...\n",
       "91108  Sweetwater County     9.2       9.7        74677.0  2021\n",
       "91109       Teton County     5.9       5.5       102709.0  2021\n",
       "91110       Uinta County     9.4      11.2        70162.0  2021\n",
       "91111    Washakie County    10.2      12.5        62176.0  2021\n",
       "91112      Weston County    10.4      12.3        62509.0  2021\n",
       "\n",
       "[91113 rows x 5 columns]"
      ]
     },
     "execution_count": 38,
     "metadata": {},
     "output_type": "execute_result"
    }
   ],
   "source": [
    "poverty_county"
   ]
  },
  {
   "cell_type": "code",
   "execution_count": null,
   "metadata": {},
   "outputs": [],
   "source": []
  }
 ],
 "metadata": {
  "kernelspec": {
   "display_name": "base",
   "language": "python",
   "name": "python3"
  },
  "language_info": {
   "codemirror_mode": {
    "name": "ipython",
    "version": 3
   },
   "file_extension": ".py",
   "mimetype": "text/x-python",
   "name": "python",
   "nbconvert_exporter": "python",
   "pygments_lexer": "ipython3",
   "version": "3.9.13"
  },
  "orig_nbformat": 4
 },
 "nbformat": 4,
 "nbformat_minor": 2
}
