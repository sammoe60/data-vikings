{
 "cells": [
  {
   "cell_type": "code",
   "execution_count": 2,
   "metadata": {},
   "outputs": [],
   "source": [
    "import pandas as pd\n",
    "import numpy as np\n",
    "import pickle\n",
    "from matplotlib import pyplot as plt\n",
    "from sklearn.ensemble import RandomForestRegressor\n",
    "from sklearn.model_selection import train_test_split, GridSearchCV\n",
    "from sklearn.metrics import accuracy_score, confusion_matrix, classification_report, mean_absolute_error, mean_squared_error, r2_score"
   ]
  },
  {
   "cell_type": "code",
   "execution_count": 3,
   "metadata": {},
   "outputs": [],
   "source": [
    "states = pd.read_csv('../ml/state_poverty_and_income.csv')"
   ]
  },
  {
   "cell_type": "code",
   "execution_count": 4,
   "metadata": {},
   "outputs": [],
   "source": [
    "# states.head()"
   ]
  },
  {
   "cell_type": "code",
   "execution_count": 5,
   "metadata": {},
   "outputs": [],
   "source": [
    "# states = states[['STATE', 'OCC_TITLE', 'JOBS_1000', 'A_MEAN', 'A_MEDIAN', 'A_PCT75', 'LOC_QUOTIENT', 'SAEPOVRTALL_PT']]"
   ]
  },
  {
   "cell_type": "code",
   "execution_count": 6,
   "metadata": {},
   "outputs": [],
   "source": [
    "states = states[states['OCC_TITLE'] == 'All Occupations'].drop(columns = 'OCC_TITLE')"
   ]
  },
  {
   "cell_type": "code",
   "execution_count": 7,
   "metadata": {},
   "outputs": [],
   "source": [
    "states = pd.get_dummies(states, columns = ['STATE'], drop_first = True)"
   ]
  },
  {
   "cell_type": "code",
   "execution_count": 8,
   "metadata": {},
   "outputs": [],
   "source": [
    "target = 'SAEPOVRTALL_PT'\n",
    "X = states.drop([target], axis=1)\n",
    "y = states[target]\n",
    "X = X.select_dtypes(exclude=['object'])"
   ]
  },
  {
   "cell_type": "code",
   "execution_count": 9,
   "metadata": {},
   "outputs": [
    {
     "data": {
      "text/plain": [
       "Index(['SAEPOVRT5_17R_PT', 'SAEPOVRT5_17R_UB90', 'SAEPOVRTALL_LB90',\n",
       "       'SAEPOVRTALL_MOE', 'SAEPOVRTALL_PT', 'SAEPOVRTALL_UB90', 'SAEPOVU_0_17',\n",
       "       'SAEPOVU_0_4', 'SAEPOVU_5_17R', 'SAEPOVU_ALL', 'STATE_Alaska',\n",
       "       'STATE_Arizona', 'STATE_Arkansas', 'STATE_California', 'STATE_Colorado',\n",
       "       'STATE_Connecticut', 'STATE_Delaware', 'STATE_Florida', 'STATE_Georgia',\n",
       "       'STATE_Hawaii', 'STATE_Idaho', 'STATE_Illinois', 'STATE_Indiana',\n",
       "       'STATE_Iowa', 'STATE_Kansas', 'STATE_Kentucky', 'STATE_Louisiana',\n",
       "       'STATE_Maine', 'STATE_Maryland', 'STATE_Massachusetts',\n",
       "       'STATE_Michigan', 'STATE_Minnesota', 'STATE_Mississippi',\n",
       "       'STATE_Missouri', 'STATE_Montana', 'STATE_Nebraska', 'STATE_Nevada',\n",
       "       'STATE_New Hampshire', 'STATE_New Jersey', 'STATE_New Mexico',\n",
       "       'STATE_New York', 'STATE_North Carolina', 'STATE_North Dakota',\n",
       "       'STATE_Ohio', 'STATE_Oklahoma', 'STATE_Oregon', 'STATE_Pennsylvania',\n",
       "       'STATE_Rhode Island', 'STATE_South Carolina', 'STATE_South Dakota',\n",
       "       'STATE_Tennessee', 'STATE_Texas', 'STATE_Utah', 'STATE_Vermont',\n",
       "       'STATE_Virginia', 'STATE_Washington', 'STATE_West Virginia',\n",
       "       'STATE_Wisconsin', 'STATE_Wyoming'],\n",
       "      dtype='object')"
      ]
     },
     "execution_count": 9,
     "metadata": {},
     "output_type": "execute_result"
    }
   ],
   "source": [
    "states.columns[50:109]"
   ]
  },
  {
   "attachments": {},
   "cell_type": "markdown",
   "metadata": {},
   "source": [
    "Feature selection"
   ]
  },
  {
   "cell_type": "code",
   "execution_count": 18,
   "metadata": {},
   "outputs": [
    {
     "name": "stdout",
     "output_type": "stream",
     "text": [
      "features: ['STATE_Alaska', 'STATE_Arizona', 'STATE_Arkansas', 'STATE_California', 'STATE_Colorado', 'STATE_Connecticut', 'STATE_Delaware', 'STATE_Florida', 'STATE_Georgia', 'STATE_Hawaii', 'STATE_Idaho', 'STATE_Illinois', 'STATE_Indiana', 'STATE_Iowa', 'STATE_Kansas', 'STATE_Kentucky', 'STATE_Louisiana', 'STATE_Maine', 'STATE_Maryland', 'STATE_Massachusetts', 'STATE_Michigan', 'STATE_Minnesota', 'STATE_Mississippi', 'STATE_Missouri', 'STATE_Montana', 'STATE_Nebraska', 'STATE_Nevada', 'STATE_New Hampshire', 'STATE_New Jersey', 'STATE_New Mexico', 'STATE_New York', 'STATE_North Carolina', 'STATE_North Dakota', 'STATE_Ohio', 'STATE_Oklahoma', 'STATE_Oregon', 'STATE_Pennsylvania', 'STATE_Rhode Island', 'STATE_South Carolina', 'STATE_South Dakota', 'STATE_Tennessee', 'STATE_Texas', 'STATE_Utah', 'STATE_Vermont', 'STATE_Virginia', 'STATE_Washington', 'STATE_West Virginia', 'STATE_Wisconsin', 'STATE_Wyoming']\n",
      "           score: 0.9491499131658414\n",
      "       score_val: 0.9312472656594908\n",
      "Out-of-Bag Score: 0.8927834304422025\n",
      "features: ['TOT_EMP', 'STATE_Alaska', 'STATE_Arizona', 'STATE_Arkansas', 'STATE_California', 'STATE_Colorado', 'STATE_Connecticut', 'STATE_Delaware', 'STATE_Florida', 'STATE_Georgia', 'STATE_Hawaii', 'STATE_Idaho', 'STATE_Illinois', 'STATE_Indiana', 'STATE_Iowa', 'STATE_Kansas', 'STATE_Kentucky', 'STATE_Louisiana', 'STATE_Maine', 'STATE_Maryland', 'STATE_Massachusetts', 'STATE_Michigan', 'STATE_Minnesota', 'STATE_Mississippi', 'STATE_Missouri', 'STATE_Montana', 'STATE_Nebraska', 'STATE_Nevada', 'STATE_New Hampshire', 'STATE_New Jersey', 'STATE_New Mexico', 'STATE_New York', 'STATE_North Carolina', 'STATE_North Dakota', 'STATE_Ohio', 'STATE_Oklahoma', 'STATE_Oregon', 'STATE_Pennsylvania', 'STATE_Rhode Island', 'STATE_South Carolina', 'STATE_South Dakota', 'STATE_Tennessee', 'STATE_Texas', 'STATE_Utah', 'STATE_Vermont', 'STATE_Virginia', 'STATE_Washington', 'STATE_West Virginia', 'STATE_Wisconsin', 'STATE_Wyoming']\n",
      "           score: 0.9837523326888212\n",
      "       score_val: 0.9191592507133248\n",
      "Out-of-Bag Score: 0.8808692165258286\n",
      "features: ['JOBS_1000', 'STATE_Alaska', 'STATE_Arizona', 'STATE_Arkansas', 'STATE_California', 'STATE_Colorado', 'STATE_Connecticut', 'STATE_Delaware', 'STATE_Florida', 'STATE_Georgia', 'STATE_Hawaii', 'STATE_Idaho', 'STATE_Illinois', 'STATE_Indiana', 'STATE_Iowa', 'STATE_Kansas', 'STATE_Kentucky', 'STATE_Louisiana', 'STATE_Maine', 'STATE_Maryland', 'STATE_Massachusetts', 'STATE_Michigan', 'STATE_Minnesota', 'STATE_Mississippi', 'STATE_Missouri', 'STATE_Montana', 'STATE_Nebraska', 'STATE_Nevada', 'STATE_New Hampshire', 'STATE_New Jersey', 'STATE_New Mexico', 'STATE_New York', 'STATE_North Carolina', 'STATE_North Dakota', 'STATE_Ohio', 'STATE_Oklahoma', 'STATE_Oregon', 'STATE_Pennsylvania', 'STATE_Rhode Island', 'STATE_South Carolina', 'STATE_South Dakota', 'STATE_Tennessee', 'STATE_Texas', 'STATE_Utah', 'STATE_Vermont', 'STATE_Virginia', 'STATE_Washington', 'STATE_West Virginia', 'STATE_Wisconsin', 'STATE_Wyoming']\n",
      "           score: 0.9491500302321363\n",
      "       score_val: 0.9312475562648497\n",
      "Out-of-Bag Score: 0.8927840570810248\n",
      "features: ['LOC_QUOTIENT', 'STATE_Alaska', 'STATE_Arizona', 'STATE_Arkansas', 'STATE_California', 'STATE_Colorado', 'STATE_Connecticut', 'STATE_Delaware', 'STATE_Florida', 'STATE_Georgia', 'STATE_Hawaii', 'STATE_Idaho', 'STATE_Illinois', 'STATE_Indiana', 'STATE_Iowa', 'STATE_Kansas', 'STATE_Kentucky', 'STATE_Louisiana', 'STATE_Maine', 'STATE_Maryland', 'STATE_Massachusetts', 'STATE_Michigan', 'STATE_Minnesota', 'STATE_Mississippi', 'STATE_Missouri', 'STATE_Montana', 'STATE_Nebraska', 'STATE_Nevada', 'STATE_New Hampshire', 'STATE_New Jersey', 'STATE_New Mexico', 'STATE_New York', 'STATE_North Carolina', 'STATE_North Dakota', 'STATE_Ohio', 'STATE_Oklahoma', 'STATE_Oregon', 'STATE_Pennsylvania', 'STATE_Rhode Island', 'STATE_South Carolina', 'STATE_South Dakota', 'STATE_Tennessee', 'STATE_Texas', 'STATE_Utah', 'STATE_Vermont', 'STATE_Virginia', 'STATE_Washington', 'STATE_West Virginia', 'STATE_Wisconsin', 'STATE_Wyoming']\n",
      "           score: 0.9491500302321363\n",
      "       score_val: 0.9312475562648497\n",
      "Out-of-Bag Score: 0.8927840570810248\n",
      "features: ['LOC_QUOTIENT', 'JOBS_1000', 'STATE_Alaska', 'STATE_Arizona', 'STATE_Arkansas', 'STATE_California', 'STATE_Colorado', 'STATE_Connecticut', 'STATE_Delaware', 'STATE_Florida', 'STATE_Georgia', 'STATE_Hawaii', 'STATE_Idaho', 'STATE_Illinois', 'STATE_Indiana', 'STATE_Iowa', 'STATE_Kansas', 'STATE_Kentucky', 'STATE_Louisiana', 'STATE_Maine', 'STATE_Maryland', 'STATE_Massachusetts', 'STATE_Michigan', 'STATE_Minnesota', 'STATE_Mississippi', 'STATE_Missouri', 'STATE_Montana', 'STATE_Nebraska', 'STATE_Nevada', 'STATE_New Hampshire', 'STATE_New Jersey', 'STATE_New Mexico', 'STATE_New York', 'STATE_North Carolina', 'STATE_North Dakota', 'STATE_Ohio', 'STATE_Oklahoma', 'STATE_Oregon', 'STATE_Pennsylvania', 'STATE_Rhode Island', 'STATE_South Carolina', 'STATE_South Dakota', 'STATE_Tennessee', 'STATE_Texas', 'STATE_Utah', 'STATE_Vermont', 'STATE_Virginia', 'STATE_Washington', 'STATE_West Virginia', 'STATE_Wisconsin', 'STATE_Wyoming']\n",
      "           score: 0.9491500363951391\n",
      "       score_val: 0.9312474226478014\n",
      "Out-of-Bag Score: 0.8927838861393312\n",
      "features: ['LOC_QUOTIENT', 'TOT_EMP', 'STATE_Alaska', 'STATE_Arizona', 'STATE_Arkansas', 'STATE_California', 'STATE_Colorado', 'STATE_Connecticut', 'STATE_Delaware', 'STATE_Florida', 'STATE_Georgia', 'STATE_Hawaii', 'STATE_Idaho', 'STATE_Illinois', 'STATE_Indiana', 'STATE_Iowa', 'STATE_Kansas', 'STATE_Kentucky', 'STATE_Louisiana', 'STATE_Maine', 'STATE_Maryland', 'STATE_Massachusetts', 'STATE_Michigan', 'STATE_Minnesota', 'STATE_Mississippi', 'STATE_Missouri', 'STATE_Montana', 'STATE_Nebraska', 'STATE_Nevada', 'STATE_New Hampshire', 'STATE_New Jersey', 'STATE_New Mexico', 'STATE_New York', 'STATE_North Carolina', 'STATE_North Dakota', 'STATE_Ohio', 'STATE_Oklahoma', 'STATE_Oregon', 'STATE_Pennsylvania', 'STATE_Rhode Island', 'STATE_South Carolina', 'STATE_South Dakota', 'STATE_Tennessee', 'STATE_Texas', 'STATE_Utah', 'STATE_Vermont', 'STATE_Virginia', 'STATE_Washington', 'STATE_West Virginia', 'STATE_Wisconsin', 'STATE_Wyoming']\n",
      "           score: 0.9836444107538752\n",
      "       score_val: 0.9197619291469514\n",
      "Out-of-Bag Score: 0.8801350476949074\n",
      "features: ['JOBS_1000', 'TOT_EMP', 'STATE_Alaska', 'STATE_Arizona', 'STATE_Arkansas', 'STATE_California', 'STATE_Colorado', 'STATE_Connecticut', 'STATE_Delaware', 'STATE_Florida', 'STATE_Georgia', 'STATE_Hawaii', 'STATE_Idaho', 'STATE_Illinois', 'STATE_Indiana', 'STATE_Iowa', 'STATE_Kansas', 'STATE_Kentucky', 'STATE_Louisiana', 'STATE_Maine', 'STATE_Maryland', 'STATE_Massachusetts', 'STATE_Michigan', 'STATE_Minnesota', 'STATE_Mississippi', 'STATE_Missouri', 'STATE_Montana', 'STATE_Nebraska', 'STATE_Nevada', 'STATE_New Hampshire', 'STATE_New Jersey', 'STATE_New Mexico', 'STATE_New York', 'STATE_North Carolina', 'STATE_North Dakota', 'STATE_Ohio', 'STATE_Oklahoma', 'STATE_Oregon', 'STATE_Pennsylvania', 'STATE_Rhode Island', 'STATE_South Carolina', 'STATE_South Dakota', 'STATE_Tennessee', 'STATE_Texas', 'STATE_Utah', 'STATE_Vermont', 'STATE_Virginia', 'STATE_Washington', 'STATE_West Virginia', 'STATE_Wisconsin', 'STATE_Wyoming']\n",
      "           score: 0.9836444107538752\n",
      "       score_val: 0.9197619291469514\n",
      "Out-of-Bag Score: 0.8801350476949074\n"
     ]
    }
   ],
   "source": [
    "features = ['TOT_EMP', 'JOBS_1000']\n",
    "features2 = ['TOT_EMP', 'JOBS_1000', 'A_PCT90']\n",
    "features3 = ['AREA', 'JOBS_1000', 'A_PCT75']\n",
    "features4 = ['AREA', 'TOT_EMP', 'JOBS_1000', 'LOC_QUOTIENT']\n",
    "features5 = ['AREA', 'TOT_EMP', 'JOBS_1000', 'A_PCT75', 'LOC_QUOTIENT']\n",
    "features6 = ['AREA', 'JOBS_1000', 'A_MEAN', 'A_MEDIAN', 'A_PCT75']\n",
    "features7 = ['AREA', 'JOBS_1000', 'A_MEAN', 'A_MEDIAN', 'A_PCT75', 'LOC_QUOTIENT']\n",
    "features8 = ['AREA', 'JOBS_1000', 'A_MEAN', 'A_MEDIAN', 'A_PCT75', 'LOC_QUOTIENT', \n",
    "             'H_MEAN', 'A_MEAN', 'MEAN_PRSE', 'H_PCT10', 'H_PCT25', 'H_MEDIAN', \n",
    "             'H_PCT75', 'H_PCT90', 'A_PCT10', 'A_PCT25', 'A_MEDIAN', 'A_PCT75', \n",
    "             'A_PCT90']\n",
    "features9 = ['STATE_Alaska','STATE_Arizona', 'STATE_Arkansas', 'STATE_California', 'STATE_Colorado',\n",
    "'STATE_Connecticut', 'STATE_Delaware', 'STATE_Florida', 'STATE_Georgia',\n",
    "'STATE_Hawaii', 'STATE_Idaho', 'STATE_Illinois', 'STATE_Indiana',\n",
    "'STATE_Iowa', 'STATE_Kansas', 'STATE_Kentucky', 'STATE_Louisiana',\n",
    "'STATE_Maine', 'STATE_Maryland', 'STATE_Massachusetts',\n",
    "'STATE_Michigan', 'STATE_Minnesota', 'STATE_Mississippi',\n",
    "'STATE_Missouri', 'STATE_Montana', 'STATE_Nebraska', 'STATE_Nevada',\n",
    "'STATE_New Hampshire', 'STATE_New Jersey', 'STATE_New Mexico',\n",
    "'STATE_New York', 'STATE_North Carolina', 'STATE_North Dakota',\n",
    "'STATE_Ohio', 'STATE_Oklahoma', 'STATE_Oregon', 'STATE_Pennsylvania',\n",
    "'STATE_Rhode Island', 'STATE_South Carolina', 'STATE_South Dakota',\n",
    "'STATE_Tennessee', 'STATE_Texas', 'STATE_Utah', 'STATE_Vermont',\n",
    "'STATE_Virginia', 'STATE_Washington', 'STATE_West Virginia',\n",
    "'STATE_Wisconsin', 'STATE_Wyoming']\n",
    "features10 = ['TOT_EMP'] + features9\n",
    "features11 = ['JOBS_1000'] + features9\n",
    "features12 = ['LOC_QUOTIENT'] + features9\n",
    "features13 = ['LOC_QUOTIENT', 'JOBS_1000'] + features9\n",
    "features14 = ['LOC_QUOTIENT', 'TOT_EMP'] + features9\n",
    "features15 = ['JOBS_1000', 'TOT_EMP'] + features9\n",
    "\n",
    "\n",
    "features_list = [features9, features10,\n",
    "                 features11, features12, features13, features14, features15]\n",
    "\n",
    "for x, features in enumerate(features_list):\n",
    "    X = states[features]\n",
    "    X_train, X_test, y_train, y_test = train_test_split(X, y, test_size=0.2, random_state=42)\n",
    "    model = RandomForestRegressor(n_estimators=1000, random_state=101, oob_score=True)\n",
    "    model.fit(X_train, y_train)\n",
    "    score= model.score(X_train, y_train)\n",
    "    score_val = model.score(X_test, y_test)\n",
    "    print(f'features: {features}')\n",
    "    print(f'           score: {score}')\n",
    "    print(f'       score_val: {score_val}')\n",
    "    y_pred = model.predict(X_test)\n",
    "    # print(f'             MAE: {mean_absolute_error(y_test, y_pred)}')\n",
    "    # print(f'             MSE: {mean_squared_error(y_test, y_pred)}')\n",
    "    print(f'Out-of-Bag Score: {model.oob_score_}')"
   ]
  },
  {
   "attachments": {},
   "cell_type": "markdown",
   "metadata": {},
   "source": [
    "#### -final model-"
   ]
  },
  {
   "cell_type": "code",
   "execution_count": 75,
   "metadata": {},
   "outputs": [
    {
     "name": "stdout",
     "output_type": "stream",
     "text": [
      "           score: 0.9840503363854348\n",
      "       score_val: 0.9173000217463394\n",
      "             MAE: 0.6511915999999291\n",
      "             MSE: 0.6687239329559685\n",
      "Out-of-Bag Score: 0.8814185100718742\n"
     ]
    }
   ],
   "source": [
    "features = ['TOT_EMP', 'JOBS_1000', 'LOC_QUOTIENT', 'STATE_Alaska','STATE_Arizona', 'STATE_Arkansas', 'STATE_California', 'STATE_Colorado',\n",
    "'STATE_Connecticut', 'STATE_Delaware', 'STATE_Florida', 'STATE_Georgia',\n",
    "'STATE_Hawaii', 'STATE_Idaho', 'STATE_Illinois', 'STATE_Indiana',\n",
    "'STATE_Iowa', 'STATE_Kansas', 'STATE_Kentucky', 'STATE_Louisiana',\n",
    "'STATE_Maine', 'STATE_Maryland', 'STATE_Massachusetts',\n",
    "'STATE_Michigan', 'STATE_Minnesota', 'STATE_Mississippi',\n",
    "'STATE_Missouri', 'STATE_Montana', 'STATE_Nebraska', 'STATE_Nevada',\n",
    "'STATE_New Hampshire', 'STATE_New Jersey', 'STATE_New Mexico',\n",
    "'STATE_New York', 'STATE_North Carolina', 'STATE_North Dakota',\n",
    "'STATE_Ohio', 'STATE_Oklahoma', 'STATE_Oregon', 'STATE_Pennsylvania',\n",
    "'STATE_Rhode Island', 'STATE_South Carolina', 'STATE_South Dakota',\n",
    "'STATE_Tennessee', 'STATE_Texas', 'STATE_Utah', 'STATE_Vermont',\n",
    "'STATE_Virginia', 'STATE_Washington', 'STATE_West Virginia',\n",
    "'STATE_Wisconsin', 'STATE_Wyoming']\n",
    "X = states[features]\n",
    "X_train, X_test, y_train, y_test = train_test_split(X, y, test_size=0.2, random_state=42)\n",
    "model = RandomForestRegressor(n_estimators=10000, random_state=0, oob_score=True)\n",
    "model.fit(X_train, y_train)\n",
    "score= model.score(X_train, y_train)\n",
    "score_val = model.score(X_test, y_test)\n",
    "print(f'           score: {score}')\n",
    "print(f'       score_val: {score_val}')\n",
    "y_pred = model.predict(X_test)\n",
    "print(f'             MAE: {mean_absolute_error(y_test, y_pred)}')\n",
    "print(f'             MSE: {mean_squared_error(y_test, y_pred)}')\n",
    "print(f'Out-of-Bag Score: {model.oob_score_}')"
   ]
  },
  {
   "attachments": {},
   "cell_type": "markdown",
   "metadata": {},
   "source": [
    "We chose to use these features for our model becuase, although it doesn't have quite as high of r^2, it has by far the best Out-of-bag score (ie highest cross validation accuracy). Other models may have had higher r^2 but they had low OOB meaning they were overfitting on the training data. "
   ]
  },
  {
   "cell_type": "code",
   "execution_count": 73,
   "metadata": {},
   "outputs": [
    {
     "data": {
      "text/plain": [
       "array([14.2756, 10.4071, 16.0207,  9.3012, 12.1222, 13.9225, 14.1696,\n",
       "       13.4779, 14.3326, 12.8682, 16.5202, 15.8421, 12.5663, 12.6849,\n",
       "       18.8267, 12.2865, 10.2301, 11.6834, 13.9074, 12.999 , 14.1508,\n",
       "        9.5108, 11.2381, 10.8036, 10.6192, 10.1391,  9.5906,  9.2694,\n",
       "       18.0624, 10.0601, 10.0254, 10.7538, 14.0955,  9.4978, 12.6948,\n",
       "       10.7101, 10.8497, 10.7868, 17.6196, 14.2357, 10.4448, 10.2429,\n",
       "       13.5406, 15.073 ,  9.0345, 16.1507, 10.0942,  9.5173, 19.3424,\n",
       "       12.2783])"
      ]
     },
     "execution_count": 73,
     "metadata": {},
     "output_type": "execute_result"
    }
   ],
   "source": [
    "y_pred"
   ]
  },
  {
   "cell_type": "code",
   "execution_count": 74,
   "metadata": {},
   "outputs": [
    {
     "data": {
      "image/png": "[encoded data removed]",
      "text/plain": [
       "<Figure size 640x480 with 1 Axes>"
      ]
     },
     "metadata": {},
     "output_type": "display_data"
    }
   ],
   "source": [
    "plt.scatter(y_pred, y_test, color = 'red', s=1)\n",
    "plt.title('Random Forest Regression')\n",
    "plt.xlabel('Predicted Poverty Rate')\n",
    "plt.ylabel('Actual Poverty Rate')\n",
    "\n",
    "p1 = max(max(y_pred), max(y_test))\n",
    "p2 = min(min(y_pred), min(y_test))\n",
    "plt.plot([p1,p2], [p1,p2], 'b-')\n",
    "\n",
    "plt.show()"
   ]
  },
  {
   "cell_type": "code",
   "execution_count": 24,
   "metadata": {},
   "outputs": [
    {
     "data": {
      "text/html": [
       "<div>\n",
       "<style scoped>\n",
       "    .dataframe tbody tr th:only-of-type {\n",
       "        vertical-align: middle;\n",
       "    }\n",
       "\n",
       "    .dataframe tbody tr th {\n",
       "        vertical-align: top;\n",
       "    }\n",
       "\n",
       "    .dataframe thead th {\n",
       "        text-align: right;\n",
       "    }\n",
       "</style>\n",
       "<table border=\"1\" class=\"dataframe\">\n",
       "  <thead>\n",
       "    <tr style=\"text-align: right;\">\n",
       "      <th></th>\n",
       "      <th>SAEPOVRTALL_PT</th>\n",
       "      <th>AREA</th>\n",
       "      <th>JOBS_1000</th>\n",
       "      <th>A_MEAN</th>\n",
       "      <th>A_MEDIAN</th>\n",
       "      <th>A_PCT75</th>\n",
       "    </tr>\n",
       "  </thead>\n",
       "  <tbody>\n",
       "    <tr>\n",
       "      <th>0</th>\n",
       "      <td>16.9</td>\n",
       "      <td>1</td>\n",
       "      <td>1000.000</td>\n",
       "      <td>43170.0</td>\n",
       "      <td>32800.0</td>\n",
       "      <td>52020.0</td>\n",
       "    </tr>\n",
       "    <tr>\n",
       "      <th>1</th>\n",
       "      <td>16.9</td>\n",
       "      <td>1</td>\n",
       "      <td>36.385</td>\n",
       "      <td>111150.0</td>\n",
       "      <td>96980.0</td>\n",
       "      <td>133360.0</td>\n",
       "    </tr>\n",
       "    <tr>\n",
       "      <th>2</th>\n",
       "      <td>16.9</td>\n",
       "      <td>1</td>\n",
       "      <td>0.280</td>\n",
       "      <td>123430.0</td>\n",
       "      <td>110350.0</td>\n",
       "      <td>155860.0</td>\n",
       "    </tr>\n",
       "    <tr>\n",
       "      <th>3</th>\n",
       "      <td>16.9</td>\n",
       "      <td>1</td>\n",
       "      <td>1.157</td>\n",
       "      <td>126630.0</td>\n",
       "      <td>111680.0</td>\n",
       "      <td>153960.0</td>\n",
       "    </tr>\n",
       "    <tr>\n",
       "      <th>4</th>\n",
       "      <td>16.9</td>\n",
       "      <td>1</td>\n",
       "      <td>0.222</td>\n",
       "      <td>94270.0</td>\n",
       "      <td>82400.0</td>\n",
       "      <td>106530.0</td>\n",
       "    </tr>\n",
       "  </tbody>\n",
       "</table>\n",
       "</div>"
      ],
      "text/plain": [
       "   SAEPOVRTALL_PT  AREA  JOBS_1000    A_MEAN  A_MEDIAN   A_PCT75\n",
       "0            16.9     1   1000.000   43170.0   32800.0   52020.0\n",
       "1            16.9     1     36.385  111150.0   96980.0  133360.0\n",
       "2            16.9     1      0.280  123430.0  110350.0  155860.0\n",
       "3            16.9     1      1.157  126630.0  111680.0  153960.0\n",
       "4            16.9     1      0.222   94270.0   82400.0  106530.0"
      ]
     },
     "execution_count": 24,
     "metadata": {},
     "output_type": "execute_result"
    }
   ],
   "source": [
    "X\n",
    "X.dtypes\n",
    "states[['SAEPOVRTALL_PT', 'AREA', 'JOBS_1000', 'A_MEAN', 'A_MEDIAN', 'A_PCT75']].head()"
   ]
  },
  {
   "cell_type": "code",
   "execution_count": 25,
   "metadata": {},
   "outputs": [
    {
     "name": "stdout",
     "output_type": "stream",
     "text": [
      "[16.341]\n"
     ]
    }
   ],
   "source": [
    "def predict(area, jobs_1000, a_mean, a_median, a_pct75, x = X):\n",
    "    newdf = X[X['AREA'] == area].head(1)\n",
    "    newdf['JOBS_1000'] = jobs_1000\n",
    "    newdf['A_MEAN'] = a_mean\n",
    "    newdf['A_MEDIAN'] = a_median\n",
    "    newdf['A_PCT75'] = a_pct75\n",
    "    result = model.predict(newdf)\n",
    "    return result\n",
    "\n",
    "print(predict(1, 36.385, 111150.0, 96980.0, 133360.0))\n",
    "#     result = model.predict(newdf)\n",
    "#     return result\n",
    "\n",
    "# print(predict(2021, 78437, 'Alaska'))"
   ]
  },
  {
   "cell_type": "code",
   "execution_count": 31,
   "metadata": {},
   "outputs": [],
   "source": [
    "filename = \"../ml/viking_model.pickle\"\n",
    "\n",
    "pickle.dump(model, open(filename, \"wb\"))\n"
   ]
  },
  {
   "cell_type": "code",
   "execution_count": 27,
   "metadata": {},
   "outputs": [],
   "source": [
    "loaded_model = pickle.load(open(filename, \"rb\"))"
   ]
  },
  {
   "cell_type": "code",
   "execution_count": 32,
   "metadata": {},
   "outputs": [
    {
     "name": "stdout",
     "output_type": "stream",
     "text": [
      "score: 0.9931726979449461, score_val: 0.9507020223154418\n"
     ]
    }
   ],
   "source": [
    "features = ['AREA', 'JOBS_1000', 'A_MEAN', 'A_MEDIAN', 'A_PCT75']\n",
    "target = \"SAEPOVRTALL_PT\"\n",
    "X = states.drop([target], axis=1)\n",
    "X = X.select_dtypes(exclude=['object'])\n",
    "y = states[target]\n",
    "X = states[features]\n",
    "X_train, X_test, y_train, y_test = train_test_split(X, y, test_size=0.2, random_state=101)\n",
    "loaded_model = RandomForestRegressor(n_estimators=100, random_state=0, oob_score=True)\n",
    "loaded_model.fit(X_train, y_train)\n",
    "score= loaded_model.score(X_train, y_train)\n",
    "score_val = loaded_model.score(X_test, y_test)\n",
    "print(f'score: {score}, score_val: {score_val}')"
   ]
  }
 ],
 "metadata": {
  "kernelspec": {
   "display_name": "base",
   "language": "python",
   "name": "python3"
  },
  "language_info": {
   "codemirror_mode": {
    "name": "ipython",
    "version": 3
   },
   "file_extension": ".py",
   "mimetype": "text/x-python",
   "name": "python",
   "nbconvert_exporter": "python",
   "pygments_lexer": "ipython3",
   "version": "3.9.13"
  },
  "orig_nbformat": 4
 },
 "nbformat": 4,
 "nbformat_minor": 2
}
